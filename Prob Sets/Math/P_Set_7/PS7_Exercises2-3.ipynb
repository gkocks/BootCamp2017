{
 "cells": [
  {
   "cell_type": "markdown",
   "metadata": {},
   "source": [
    "## Problem 2 - Steepest Descent"
   ]
  },
  {
   "cell_type": "code",
   "execution_count": 48,
   "metadata": {
    "collapsed": false,
    "scrolled": true
   },
   "outputs": [],
   "source": [
    "import numpy as np\n",
    "\n",
    "def descent(eps, x_init, b, Q, maxiters=100):\n",
    "    \"\"\"INPUTS:\n",
    "    eps: small number\n",
    "    x_init: initial starting x values\n",
    "    b: vector of length n\n",
    "    Q: nxn matrix > 0 in function f = (x^T)Qx - b^Tx + c\n",
    "    \n",
    "    OUTPUT:\n",
    "    close approximation to local minimize of quadratic function\"\"\"\n",
    "    N = 100\n",
    "    i = 0\n",
    "    while i < maxiters and N > eps:\n",
    "        D = np.dot(Q, x_init) - b\n",
    "        N = np.linalg.norm(D)\n",
    "        alpha = np.dot(D.T,D)/np.dot(np.dot(D,Q),D)\n",
    "        x1 = x_init - alpha*D\n",
    "        x_init = x1\n",
    "        i+=1\n",
    "    print(\"Converged in \" + str(i) + \" iterations\")\n",
    "    return x1"
   ]
  },
  {
   "cell_type": "code",
   "execution_count": 49,
   "metadata": {
    "collapsed": false,
    "scrolled": true
   },
   "outputs": [
    {
     "name": "stdout",
     "output_type": "stream",
     "text": [
      "Converged in 47 iterations\n"
     ]
    },
    {
     "data": {
      "text/plain": [
       "array([ 5.74999971,  9.49999942,  9.24999971])"
      ]
     },
     "execution_count": 49,
     "metadata": {},
     "output_type": "execute_result"
    }
   ],
   "source": [
    "#Test with an example\n",
    "\n",
    "Q = np.array([[2,-1,0],[-1,2,-1],[0,-1,2]])\n",
    "b = np.array([2,4,9])\n",
    "x_init = np.array([1,1,1])\n",
    "descent(1e-6, x_init, b, Q)\n"
   ]
  },
  {
   "cell_type": "markdown",
   "metadata": {},
   "source": [
    "## Problem 3 - Compute Df"
   ]
  },
  {
   "cell_type": "code",
   "execution_count": 50,
   "metadata": {
    "collapsed": true
   },
   "outputs": [],
   "source": [
    "def find_df(f, x, rerr):\n",
    "    \"\"\"INPUTS:\n",
    "    callable function f\n",
    "    point x\n",
    "    estimate Rerr for the maximum relative error of f near x\n",
    "    \n",
    "    RETURNS: estimate for Df\"\"\"\n",
    "    h = 2*np.sqrt(rerr)\n",
    "    n = np.shape(x)[0]\n",
    "    D = np.zeros(n)\n",
    "    for i in range(n):\n",
    "        ei = np.zeros(n)\n",
    "        ei[i] = 1\n",
    "        D[i] = (f(x+h*ei) - f(x))/h\n",
    "    return D"
   ]
  },
  {
   "cell_type": "code",
   "execution_count": 51,
   "metadata": {
    "collapsed": false
   },
   "outputs": [
    {
     "data": {
      "text/plain": [
       "array([  6.08,   4.08,  13.08])"
      ]
     },
     "execution_count": 51,
     "metadata": {},
     "output_type": "execute_result"
    }
   ],
   "source": [
    "# Test with an example\n",
    "f = lambda x: 2*np.dot(x,np.dot(Q,x)) + np.dot(b.T,x) + 1\n",
    "find_df(f, x_init, 1e-4)"
   ]
  }
 ],
 "metadata": {
  "anaconda-cloud": {},
  "kernelspec": {
   "display_name": "Python [default]",
   "language": "python",
   "name": "python3"
  },
  "language_info": {
   "codemirror_mode": {
    "name": "ipython",
    "version": 3
   },
   "file_extension": ".py",
   "mimetype": "text/x-python",
   "name": "python",
   "nbconvert_exporter": "python",
   "pygments_lexer": "ipython3",
   "version": "3.5.2"
  }
 },
 "nbformat": 4,
 "nbformat_minor": 1
}
