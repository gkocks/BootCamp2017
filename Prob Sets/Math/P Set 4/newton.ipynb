{
 "cells": [
  {
   "cell_type": "code",
   "execution_count": 39,
   "metadata": {
    "collapsed": true
   },
   "outputs": [],
   "source": [
    "def newton(x0, e, f1, f2):\n",
    "    \"\"\"Implements Newton's method for minimization\n",
    "    Inputs: x0 - initial guess\n",
    "        e - desired level of accuracy\n",
    "        f1 - first derivative of f\n",
    "        f2 - second derivative of f\n",
    "    Returns: approximation to the minimizer provided\n",
    "    that the algorithm converges for initial condition\"\"\"\n",
    "    maxiter = 10000\n",
    "    xold = x0\n",
    "    if f2(xold) != 0:\n",
    "        xnew = xold - f1(xold)/f2(xold)\n",
    "    else:\n",
    "        raise ValueError(\"Function or initial condition resulted in division by 0\")\n",
    "    iterations = 1\n",
    "    error = 999\n",
    "    while iterations < maxiter and error > e*abs(xold):\n",
    "        xold = xnew\n",
    "        if f2(xold) != 0:\n",
    "            xnew = xold - f1(xold)/f2(xold)\n",
    "        else:\n",
    "            raise ValueError(\"Function or initial condition resulted in division by 0\")\n",
    "        error = abs(xnew - xold)\n",
    "        iterations += 1\n",
    "    if iterations == maxiter:\n",
    "        print(\"The sequence did not converge!\")\n",
    "    else:\n",
    "        print(\"Converged after \" + str(iterations) + \" iterations\")\n",
    "        print(\"Minimizer is \" + str(xold))\n",
    "    return xnew"
   ]
  },
  {
   "cell_type": "code",
   "execution_count": 40,
   "metadata": {
    "collapsed": false
   },
   "outputs": [
    {
     "name": "stdout",
     "output_type": "stream",
     "text": [
      "Converged after 22 iterations\n",
      "Minimizer is 1.0002004857732145\n"
     ]
    },
    {
     "data": {
      "text/plain": [
       "1.000133657182143"
      ]
     },
     "execution_count": 40,
     "metadata": {},
     "output_type": "execute_result"
    }
   ],
   "source": [
    "# Test Case: Convergence\n",
    "#f = 0.5(x-1)**4\n",
    "\n",
    "import math\n",
    "\n",
    "f1 = lambda x: 2*(x-1)**3\n",
    "f2 = lambda x: 6*(x-1)**2\n",
    "x0 = 2\n",
    "e = 0.0001\n",
    "\n",
    "newton(x0, e, f1, f2)"
   ]
  },
  {
   "cell_type": "code",
   "execution_count": 41,
   "metadata": {
    "collapsed": false
   },
   "outputs": [
    {
     "ename": "ValueError",
     "evalue": "Function or initial condition resulted in division by 0",
     "output_type": "error",
     "traceback": [
      "\u001b[0;31m---------------------------------------------------------------------------\u001b[0m",
      "\u001b[0;31mValueError\u001b[0m                                Traceback (most recent call last)",
      "\u001b[0;32m<ipython-input-41-967211112475>\u001b[0m in \u001b[0;36m<module>\u001b[0;34m()\u001b[0m\n\u001b[1;32m      6\u001b[0m \u001b[0mx0\u001b[0m \u001b[0;34m=\u001b[0m \u001b[0;36m2\u001b[0m\u001b[0;34m\u001b[0m\u001b[0m\n\u001b[1;32m      7\u001b[0m \u001b[0me\u001b[0m \u001b[0;34m=\u001b[0m \u001b[0;36m0.0001\u001b[0m\u001b[0;34m\u001b[0m\u001b[0m\n\u001b[0;32m----> 8\u001b[0;31m \u001b[0mnewton\u001b[0m\u001b[0;34m(\u001b[0m\u001b[0mx0\u001b[0m\u001b[0;34m,\u001b[0m \u001b[0me\u001b[0m\u001b[0;34m,\u001b[0m \u001b[0mf1\u001b[0m\u001b[0;34m,\u001b[0m \u001b[0mf2\u001b[0m\u001b[0;34m)\u001b[0m\u001b[0;34m\u001b[0m\u001b[0m\n\u001b[0m",
      "\u001b[0;32m<ipython-input-39-e6e847169879>\u001b[0m in \u001b[0;36mnewton\u001b[0;34m(x0, e, f1, f2)\u001b[0m\n\u001b[1;32m     12\u001b[0m         \u001b[0mxnew\u001b[0m \u001b[0;34m=\u001b[0m \u001b[0mxold\u001b[0m \u001b[0;34m-\u001b[0m \u001b[0mf1\u001b[0m\u001b[0;34m(\u001b[0m\u001b[0mxold\u001b[0m\u001b[0;34m)\u001b[0m\u001b[0;34m/\u001b[0m\u001b[0mf2\u001b[0m\u001b[0;34m(\u001b[0m\u001b[0mxold\u001b[0m\u001b[0;34m)\u001b[0m\u001b[0;34m\u001b[0m\u001b[0m\n\u001b[1;32m     13\u001b[0m     \u001b[0;32melse\u001b[0m\u001b[0;34m:\u001b[0m\u001b[0;34m\u001b[0m\u001b[0m\n\u001b[0;32m---> 14\u001b[0;31m         \u001b[0;32mraise\u001b[0m \u001b[0mValueError\u001b[0m\u001b[0;34m(\u001b[0m\u001b[0;34m\"Function or initial condition resulted in division by 0\"\u001b[0m\u001b[0;34m)\u001b[0m\u001b[0;34m\u001b[0m\u001b[0m\n\u001b[0m\u001b[1;32m     15\u001b[0m     \u001b[0miterations\u001b[0m \u001b[0;34m=\u001b[0m \u001b[0;36m1\u001b[0m\u001b[0;34m\u001b[0m\u001b[0m\n\u001b[1;32m     16\u001b[0m     \u001b[0merror\u001b[0m \u001b[0;34m=\u001b[0m \u001b[0;36m999\u001b[0m\u001b[0;34m\u001b[0m\u001b[0m\n",
      "\u001b[0;31mValueError\u001b[0m: Function or initial condition resulted in division by 0"
     ]
    }
   ],
   "source": [
    "# Test Case: No Convergence\n",
    "#f = 2*x\n",
    "\n",
    "f1 = lambda x: 2\n",
    "f2 = lambda x: 0\n",
    "x0 = 2\n",
    "e = 0.0001\n",
    "newton(x0, e, f1, f2)"
   ]
  }
 ],
 "metadata": {
  "anaconda-cloud": {},
  "kernelspec": {
   "display_name": "Python [default]",
   "language": "python",
   "name": "python3"
  },
  "language_info": {
   "codemirror_mode": {
    "name": "ipython",
    "version": 3
   },
   "file_extension": ".py",
   "mimetype": "text/x-python",
   "name": "python",
   "nbconvert_exporter": "python",
   "pygments_lexer": "ipython3",
   "version": "3.5.2"
  }
 },
 "nbformat": 4,
 "nbformat_minor": 1
}
