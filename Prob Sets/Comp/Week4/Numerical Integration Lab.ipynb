{
 "cells": [
  {
   "cell_type": "markdown",
   "metadata": {},
   "source": [
    "## Problem 1"
   ]
  },
  {
   "cell_type": "code",
   "execution_count": 118,
   "metadata": {
    "collapsed": false
   },
   "outputs": [
    {
     "name": "stdout",
     "output_type": "stream",
     "text": [
      "MIDPOINT METHOD\n",
      "4373.319646676187\n",
      "error = 0.013686657145626668\n",
      "\n",
      "TRAPEZOID METHOD\n",
      "4373.360706656192\n",
      "error = 0.027373322858693427\n",
      "\n",
      "SIMPSONS METHOD\n",
      "4373.333333336201\n",
      "error = 2.8676367946900427e-09\n",
      "\n"
     ]
    }
   ],
   "source": [
    "def integral_approx(g, a, b, N, method):\n",
    "    area = 0\n",
    "    segment = (b-a)/N\n",
    "    start = a\n",
    "    end = a + segment\n",
    "    if method == 'midpoint':\n",
    "        for i in range(N):\n",
    "            area += (g((start+end)/2))*segment\n",
    "            start = end\n",
    "            end = start + segment\n",
    "    elif method == 'trapezoid':\n",
    "        for i in range(N):\n",
    "            area += ((g(start)+g(end))/2)*segment\n",
    "            start = end\n",
    "            end = start+segment\n",
    "    elif method == 'Simpsons':\n",
    "        for i in range(N):\n",
    "            area += (g(start)+g(end)+4*g((start+end)/2))*(segment/6)\n",
    "            start = end\n",
    "            end = start+segment\n",
    "    else:\n",
    "        raise ValueError(\"Method must be 'midpoint' or 'trapezoid' or 'Simpsons'\")\n",
    "    return area\n",
    "\n",
    "g = lambda x: (0.1*x**4 - 1.5*x**3 + 0.53*x**2 + 2*x + 1)\n",
    "a = -10\n",
    "b = 10\n",
    "N = 1000\n",
    "\n",
    "value = float(13120/3)\n",
    "\n",
    "print(\"MIDPOINT METHOD\")\n",
    "midpoint = integral_approx(g,a,b,N,'midpoint')\n",
    "print(midpoint)\n",
    "print(\"error = \" + str(abs(midpoint-value)))\n",
    "print(\"\")\n",
    "print(\"TRAPEZOID METHOD\")\n",
    "trapezoid= integral_approx(g,a,b,N,'trapezoid')\n",
    "print(trapezoid)\n",
    "print(\"error = \" + str(abs(trapezoid-value)))\n",
    "print(\"\")\n",
    "print(\"SIMPSONS METHOD\")\n",
    "simpsons = integral_approx(g,a,b,N,'Simpsons')\n",
    "print(simpsons)\n",
    "print(\"error = \" + str(abs(simpsons-value)))\n",
    "print(\"\")\n",
    "\n",
    "    "
   ]
  },
  {
   "cell_type": "code",
   "execution_count": 119,
   "metadata": {
    "collapsed": false
   },
   "outputs": [
    {
     "ename": "ValueError",
     "evalue": "Method must be 'midpoint' or 'trapezoid' or 'Simpsons'",
     "output_type": "error",
     "traceback": [
      "\u001b[0;31m---------------------------------------------------------------------------\u001b[0m",
      "\u001b[0;31mValueError\u001b[0m                                Traceback (most recent call last)",
      "\u001b[0;32m<ipython-input-119-8c641b07a410>\u001b[0m in \u001b[0;36m<module>\u001b[0;34m()\u001b[0m\n\u001b[1;32m      1\u001b[0m \u001b[0;31m#Test that Value Error works\u001b[0m\u001b[0;34m\u001b[0m\u001b[0;34m\u001b[0m\u001b[0m\n\u001b[1;32m      2\u001b[0m \u001b[0;34m\u001b[0m\u001b[0m\n\u001b[0;32m----> 3\u001b[0;31m \u001b[0mintegral_approx\u001b[0m\u001b[0;34m(\u001b[0m\u001b[0mg\u001b[0m\u001b[0;34m,\u001b[0m\u001b[0ma\u001b[0m\u001b[0;34m,\u001b[0m\u001b[0mb\u001b[0m\u001b[0;34m,\u001b[0m\u001b[0mN\u001b[0m\u001b[0;34m,\u001b[0m\u001b[0;34m'newton'\u001b[0m\u001b[0;34m)\u001b[0m\u001b[0;34m\u001b[0m\u001b[0m\n\u001b[0m",
      "\u001b[0;32m<ipython-input-118-34decf5c1dc4>\u001b[0m in \u001b[0;36mintegral_approx\u001b[0;34m(g, a, b, N, method)\u001b[0m\n\u001b[1;32m     20\u001b[0m             \u001b[0mend\u001b[0m \u001b[0;34m=\u001b[0m \u001b[0mstart\u001b[0m\u001b[0;34m+\u001b[0m\u001b[0msegment\u001b[0m\u001b[0;34m\u001b[0m\u001b[0m\n\u001b[1;32m     21\u001b[0m     \u001b[0;32melse\u001b[0m\u001b[0;34m:\u001b[0m\u001b[0;34m\u001b[0m\u001b[0m\n\u001b[0;32m---> 22\u001b[0;31m         \u001b[0;32mraise\u001b[0m \u001b[0mValueError\u001b[0m\u001b[0;34m(\u001b[0m\u001b[0;34m\"Method must be 'midpoint' or 'trapezoid' or 'Simpsons'\"\u001b[0m\u001b[0;34m)\u001b[0m\u001b[0;34m\u001b[0m\u001b[0m\n\u001b[0m\u001b[1;32m     23\u001b[0m     \u001b[0;32mreturn\u001b[0m \u001b[0marea\u001b[0m\u001b[0;34m\u001b[0m\u001b[0m\n\u001b[1;32m     24\u001b[0m \u001b[0;34m\u001b[0m\u001b[0m\n",
      "\u001b[0;31mValueError\u001b[0m: Method must be 'midpoint' or 'trapezoid' or 'Simpsons'"
     ]
    }
   ],
   "source": [
    "#Test that Value Error works \n",
    "\n",
    "integral_approx(g,a,b,N,'newton')"
   ]
  },
  {
   "cell_type": "markdown",
   "metadata": {},
   "source": [
    "## Problem 2"
   ]
  },
  {
   "cell_type": "code",
   "execution_count": 120,
   "metadata": {
    "collapsed": false
   },
   "outputs": [
    {
     "name": "stdout",
     "output_type": "stream",
     "text": [
      "(array([-3. , -2.4, -1.8, -1.2, -0.6,  0. ,  0.6,  1.2,  1.8,  2.4,  3. ]), array([ 0.00346697,  0.01439745,  0.04894278,  0.11725292,  0.19802845,\n",
      "        0.23582284,  0.19802845,  0.11725292,  0.04894278,  0.01439745,\n",
      "        0.00346697]))\n",
      "(array([ -8. ,  -6.2,  -4.4,  -2.6,  -0.8,   1. ,   2.8,   4.6,   6.4,\n",
      "         8.2,  10. ]), array([ 0.00346697,  0.01439745,  0.04894278,  0.11725292,  0.19802845,\n",
      "        0.23582284,  0.19802845,  0.11725292,  0.04894278,  0.01439745,\n",
      "        0.00346697]))\n"
     ]
    },
    {
     "data": {
      "image/png": "[encoded data removed]",
      "text/plain": [
       "<matplotlib.figure.Figure at 0x10cec3588>"
      ]
     },
     "metadata": {},
     "output_type": "display_data"
    }
   ],
   "source": [
    "from matplotlib import pyplot as plt\n",
    "\n",
    "import scipy.stats\n",
    "import numpy as np\n",
    "\n",
    "def NC_Normal(mu, sigma, N, k):\n",
    "    Z = np.zeros(N)\n",
    "    W = np.zeros(N)\n",
    "    start = mu - sigma*k\n",
    "    interval = (2*sigma*k)/(N-1)\n",
    "    for i in range(N):\n",
    "        Z[i] = start + i*interval\n",
    "    W[0] = scipy.stats.norm.cdf(((((Z[0]+Z[1])/2) - mu))/sigma)\n",
    "    i = 1\n",
    "    while i < (N-1):\n",
    "        W[i] = -scipy.stats.norm.cdf(((((Z[i-1]+Z[i])/2) - mu))/sigma) + \\\n",
    "        scipy.stats.norm.cdf(((((Z[i]+Z[i+1])/2) - mu))/sigma)\n",
    "        i += 1\n",
    "    W[N-1] = 1 - scipy.stats.norm.cdf(((((Z[N-2]+Z[N-1])/2) - mu))/sigma)\n",
    "    return Z, W\n",
    "\n",
    "print(NC_Normal(0,1,11,3))\n",
    "print(NC_Normal(1,3,11,3))\n",
    "\n",
    "Z,W = NC_Normal(0,1,100,3)\n",
    "plt.plot(Z,W)\n",
    "plt.show()"
   ]
  },
  {
   "cell_type": "markdown",
   "metadata": {},
   "source": [
    "We note that changing the mean and standard deviation does not shift the weights, however changing the values for N or k do shift the weights. Changing the mean and standard deviation only changes the location of the nodes"
   ]
  },
  {
   "cell_type": "markdown",
   "metadata": {},
   "source": [
    "## Problem 3"
   ]
  },
  {
   "cell_type": "code",
   "execution_count": 121,
   "metadata": {
    "collapsed": false
   },
   "outputs": [
    {
     "name": "stdout",
     "output_type": "stream",
     "text": [
      "(array([  0.04978707,   0.09071795,   0.16529889,   0.30119421,\n",
      "         0.54881164,   1.        ,   1.8221188 ,   3.32011692,\n",
      "         6.04964746,  11.02317638,  20.08553692]), array([ 0.00346697,  0.01439745,  0.04894278,  0.11725292,  0.19802845,\n",
      "        0.23582284,  0.19802845,  0.11725292,  0.04894278,  0.01439745,\n",
      "        0.00346697]))\n"
     ]
    }
   ],
   "source": [
    "\n",
    "\n",
    "def NC_LogNormal(mu, sigma, N, k):\n",
    "    \"\"\"Inputs are based on the distribution of Z\n",
    "    Function returns weights and nodes for LogNormal distribution\n",
    "    Calls NC_Normal function from problem 2\"\"\"\n",
    "    Z, W = NC_Normal(mu, sigma, N, k)\n",
    "    Z = np.exp(Z)\n",
    "    return Z, W\n",
    "\n",
    "print(NC_LogNormal(0,1,11,3))"
   ]
  },
  {
   "cell_type": "code",
   "execution_count": 122,
   "metadata": {
    "collapsed": false,
    "scrolled": true
   },
   "outputs": [
    {
     "data": {
      "image/png": "[encoded data removed]",
      "text/plain": [
       "<matplotlib.figure.Figure at 0x10c9d1400>"
      ]
     },
     "metadata": {},
     "output_type": "display_data"
    }
   ],
   "source": [
    "\n",
    "Z, W = NC_LogNormal(0,1,100,3)\n",
    "plt.plot(Z,W)\n",
    "plt.show()"
   ]
  },
  {
   "cell_type": "markdown",
   "metadata": {},
   "source": [
    "We note that this seems to give a good approximation of the shape of the pdf of the LogNormal distribution."
   ]
  },
  {
   "cell_type": "markdown",
   "metadata": {},
   "source": [
    "## Problem 4:"
   ]
  },
  {
   "cell_type": "code",
   "execution_count": 123,
   "metadata": {
    "collapsed": false,
    "scrolled": true
   },
   "outputs": [
    {
     "data": {
      "image/png": "[encoded data removed]",
      "text/plain": [
       "<matplotlib.figure.Figure at 0x10cad8f28>"
      ]
     },
     "metadata": {},
     "output_type": "display_data"
    }
   ],
   "source": [
    "mu = 10.5\n",
    "sigma = 0.8\n",
    "\n",
    "Z, W = NC_LogNormal(mu,sigma,100,3)\n",
    "plt.plot(Z,W)\n",
    "plt.show()"
   ]
  },
  {
   "cell_type": "code",
   "execution_count": 124,
   "metadata": {
    "collapsed": false
   },
   "outputs": [
    {
     "name": "stdout",
     "output_type": "stream",
     "text": [
      "49862.015733\n",
      "50011.087008521754\n"
     ]
    }
   ],
   "source": [
    "import math\n",
    "#Using method similar to Trapezoid Rule to approximate the expected value given by int(x*f(x))\n",
    "area = 0\n",
    "start = Z[0]\n",
    "end = Z[1]\n",
    "\n",
    "for i in range(len(Z)):\n",
    "    area += (W[i])*(Z[i])\n",
    "\n",
    "print(area)\n",
    "print(math.exp(mu+(sigma**2)/2))\n"
   ]
  },
  {
   "cell_type": "markdown",
   "metadata": {},
   "source": [
    "The approximated expected income slightly underestimates the true expected income."
   ]
  },
  {
   "cell_type": "markdown",
   "metadata": {},
   "source": [
    "## Problem 5"
   ]
  },
  {
   "cell_type": "code",
   "execution_count": 125,
   "metadata": {
    "collapsed": false
   },
   "outputs": [
    {
     "name": "stdout",
     "output_type": "stream",
     "text": [
      "Area = 4373.33336959\n",
      "Error = 3.62523778676e-05\n"
     ]
    }
   ],
   "source": [
    "#Find the appropriate weights and nodes\n",
    "a = -10\n",
    "b = 10\n",
    "g = lambda x: (0.1*x**4 - 1.5*x**3 + 0.53*x**2 + 2*x + 1)\n",
    "\n",
    "from scipy.optimize import fsolve\n",
    "import math\n",
    "\n",
    "def equations(p):\n",
    "    w1,w2,w3,x1,x2,x3 = p\n",
    "    return (w1+w2+w3-b+a, w1*x1+w2*x2+w3*x3 - 0.5*b**2 + 0.5*a**2, \\\n",
    "            w1*x1**2+w2*x2**2+w3*x3**2-(1/3)*b**3+(1/3)*a**3, \\\n",
    "            w1*x1**3+w2*x2**3+w3*x3**3-(1/4)*b**4+(1/4)*a**4, \\\n",
    "            w1*x1**4+w2*x2**4+w3*x3**4-(1/5)*b**5+(1/5)*a**5, \\\n",
    "            w1*x1**5+w2*x2**5+w3*x3**5-(1/6)*b**6+(1/6)*a**6)\n",
    "            \n",
    "w1,w2,w3,x1,x2,x3 =  fsolve(equations, (0.4,0.9,0.4,-5,0,5))\n",
    "\n",
    "W = np.array([w1,w2,w3])\n",
    "X = np.array([x1,x2,x3])\n",
    "\n",
    "value = float(13120/3)\n",
    "\n",
    "area = 0\n",
    "for i in range(len(X)):\n",
    "    area += (g(X[i]))*(W[i])\n",
    "integral = area\n",
    "print(\"Area = \" + str(integral))\n",
    "print(\"Error = \" + str(abs(integral-value)))\n",
    "\n"
   ]
  },
  {
   "cell_type": "markdown",
   "metadata": {},
   "source": [
    "## Problem 6"
   ]
  },
  {
   "cell_type": "code",
   "execution_count": 126,
   "metadata": {
    "collapsed": false
   },
   "outputs": [
    {
     "name": "stdout",
     "output_type": "stream",
     "text": [
      "(4373.333333333334, 8.109531705284936e-11)\n"
     ]
    }
   ],
   "source": [
    "g = lambda x: (0.1*x**4 - 1.5*x**3 + 0.53*x**2 + 2*x + 1)\n",
    "a = -10\n",
    "b = 10\n",
    "N = 1000\n",
    "\n",
    "print(scipy.integrate.quad(g,a,b))"
   ]
  },
  {
   "cell_type": "markdown",
   "metadata": {},
   "source": [
    "The error from this approximation is quite small and is given by the second argument in the output."
   ]
  },
  {
   "cell_type": "markdown",
   "metadata": {},
   "source": [
    "## Problem 7"
   ]
  },
  {
   "cell_type": "code",
   "execution_count": 150,
   "metadata": {
    "collapsed": false
   },
   "outputs": [],
   "source": [
    "def montecarlo(g, domain, N):\n",
    "    \"\"\"Returns the Monte Carlo approximation for area in a rectangle\n",
    "    \n",
    "    INPUTS:\n",
    "    g: anonymous function of a vector of variables x\n",
    "    domain: generalized rectangle\n",
    "    N: number of random draws\n",
    "    \n",
    "    RETURNS: Monte Carlo approximation for area\"\"\"\n",
    "    total = (domain[1]-domain[0])*(domain[3]-domain[2])\n",
    "    success = 0\n",
    "    for i in range(N):\n",
    "        x = np.zeros(2)\n",
    "        x[0] = np.random.uniform(domain[0],domain[1])\n",
    "        x[1] = np.random.uniform(domain[2],domain[3])\n",
    "        success += g(x)\n",
    "    return (success/N)*total"
   ]
  },
  {
   "cell_type": "code",
   "execution_count": 151,
   "metadata": {
    "collapsed": false
   },
   "outputs": [
    {
     "data": {
      "text/plain": [
       "3.184"
      ]
     },
     "execution_count": 151,
     "metadata": {},
     "output_type": "execute_result"
    }
   ],
   "source": [
    "#Test that our function gives a reasonable output:\n",
    "N = 1000\n",
    "domain = [-1,1,-1,1]\n",
    "g = lambda x: int((x[0])**2 + (x[1])**2 < 1)\n",
    "montecarlo(g,domain,N)"
   ]
  },
  {
   "cell_type": "code",
   "execution_count": 152,
   "metadata": {
    "collapsed": false
   },
   "outputs": [],
   "source": [
    "#What is the smallest number of random draws to match pi to 4 decimal points?\n",
    "\n",
    "def mcdraws(g, domain, tol=0.0005, value=3.1415):\n",
    "    guess = value + 1\n",
    "    N = 1\n",
    "    while abs(value-guess) > tol:\n",
    "        guess = montecarlo(g, domain, N)\n",
    "        N += 1\n",
    "    print(\"After \" + str(N)+ \" draws achieved value of \" + str(guess))\n",
    "    return N"
   ]
  },
  {
   "cell_type": "code",
   "execution_count": 154,
   "metadata": {
    "collapsed": false
   },
   "outputs": [
    {
     "name": "stdout",
     "output_type": "stream",
     "text": [
      "After 164 draws achieved value of 3.1411042944785277\n",
      "164\n",
      "After 504 draws achieved value of 3.1411530815109345\n",
      "504\n",
      "After 192 draws achieved value of 3.141361256544503\n",
      "192\n",
      "After 276 draws achieved value of 3.1418181818181816\n",
      "276\n",
      "After 812 draws achieved value of 3.1418002466091246\n",
      "812\n"
     ]
    }
   ],
   "source": [
    "print(mcdraws(g,domain))\n",
    "print(mcdraws(g,domain))\n",
    "print(mcdraws(g,domain))\n",
    "print(mcdraws(g,domain))\n",
    "print(mcdraws(g,domain))"
   ]
  },
  {
   "cell_type": "markdown",
   "metadata": {},
   "source": [
    "## Problem 8"
   ]
  },
  {
   "cell_type": "code",
   "execution_count": 237,
   "metadata": {
    "collapsed": false,
    "scrolled": true
   },
   "outputs": [
    {
     "name": "stdout",
     "output_type": "stream",
     "text": [
      "[ 0.91168825  0.35382907  0.49844719  0.2470472 ]\n",
      "[ 0.3137085   0.85640646  0.88854382  0.16601049]\n",
      "[ 0.64047791  0.33223232  0.0793684   0.88632   ]\n",
      "[ 0.74625463  0.11244879  0.68429539  0.78520027]\n"
     ]
    }
   ],
   "source": [
    "import math\n",
    "\n",
    "def prime(n):\n",
    "    \"\"\"Return the nth prime number\"\"\"\n",
    "    primes = [2]\n",
    "    test = 3\n",
    "    while len(primes) < n:\n",
    "        for p in primes:\n",
    "            if test % p == 0:\n",
    "                break\n",
    "        else:\n",
    "            primes.append(test)\n",
    "        test += 2\n",
    "    return primes[-1]\n",
    "\n",
    "def fractional(n):\n",
    "    \"\"\"Returns the fraction part of n\"\"\"\n",
    "    return float(n % 1)\n",
    "\n",
    "def equidistributed(n, d, sequence):\n",
    "    \"\"\"Returns the nth element of a d-dimensional equidistributed sequence\n",
    "    Calls the functions prime and fractional\n",
    "    \n",
    "    INPUTS:\n",
    "    n = element number\n",
    "    d = dimensions of sequence\n",
    "    sequence = 'Weyl' or 'Haber' or 'Niederreiter' or 'Baker'\"\"\"\n",
    "    \n",
    "    if sequence == 'Weyl':\n",
    "        vals = np.zeros(d)\n",
    "        for i in range(d):\n",
    "            vals[i] = fractional(n*math.sqrt(prime(i+1)))\n",
    "        return vals\n",
    "    elif sequence == 'Haber':\n",
    "        vals = np.zeros(d)\n",
    "        for i in range(d):\n",
    "            vals[i] = fractional((n*(n+1)/2)*math.sqrt(prime(i+1)))\n",
    "        return vals\n",
    "    elif sequence == 'Niederreiter':\n",
    "        vals = np.zeros(d)\n",
    "        for i in range(d):\n",
    "            vals[i] = fractional(n*2**((i+1)/(n+1)))\n",
    "        return vals\n",
    "    elif sequence == 'Baker':\n",
    "        vals = np.zeros(d)\n",
    "        for i in range(d):\n",
    "            vals[i] = fractional(n*math.exp(i+1))\n",
    "        return vals \n",
    "    else:\n",
    "        raise ValueError(\"Sequence must be 'Weyl' or 'Haber' or 'Niederreiter' or 'Baker'\")\n",
    "        \n",
    "print(equidistributed(8,4,'Haber'))\n",
    "print(equidistributed(8,4,'Weyl'))\n",
    "print(equidistributed(8,4,'Niederreiter'))\n",
    "print(equidistributed(8,4,'Baker'))\n"
   ]
  },
  {
   "cell_type": "markdown",
   "metadata": {},
   "source": [
    "## Problem 9"
   ]
  },
  {
   "cell_type": "code",
   "execution_count": 238,
   "metadata": {
    "collapsed": true
   },
   "outputs": [],
   "source": [
    "def quasi_MC(g, domain, N, sequence='Haber'):\n",
    "    \"\"\"Returns the Monte Carlo approximation for area in a rectangle\n",
    "    \n",
    "    INPUTS:\n",
    "    g: anonymous function of a vector of variables x\n",
    "    domain: generalized rectangle\n",
    "    N: number of random draws\n",
    "    \n",
    "    RETURNS: quasi-Monte Carlo approximation for area\"\"\"\n",
    "    total = (domain[1]-domain[0])*(domain[3]-domain[2])\n",
    "    success = 0\n",
    "    for i in range(N):\n",
    "        x = np.zeros(2)\n",
    "        x[0] = 2*equidistributed(i, 2, sequence)[0]-1\n",
    "        x[1] = 2*equidistributed(i, 2, sequence)[1]-1\n",
    "        success += g(x)\n",
    "    return float((success/N)*total)"
   ]
  },
  {
   "cell_type": "code",
   "execution_count": 239,
   "metadata": {
    "collapsed": false
   },
   "outputs": [],
   "source": [
    "N = 1000\n",
    "domain = [-1,1,-1,1]\n",
    "g = lambda x: int((x[0])**2 + (x[1])**2 < 1)"
   ]
  },
  {
   "cell_type": "code",
   "execution_count": 240,
   "metadata": {
    "collapsed": true
   },
   "outputs": [],
   "source": [
    "#What is the smallest number of random draws to match pi to 4 decimal points?\n",
    "\n",
    "def quasi_MCdraws(g, domain, sequence, tol=0.0005, value=3.1415):\n",
    "    guess = value + 1\n",
    "    N = 1\n",
    "    while abs(value-guess) > tol:\n",
    "        guess = quasi_MC(g, domain, N, sequence)\n",
    "        N += 1\n",
    "    print(\"After \" + str(N)+ \" draws achieved value of \" + str(guess))\n",
    "    return N"
   ]
  },
  {
   "cell_type": "code",
   "execution_count": 243,
   "metadata": {
    "collapsed": false
   },
   "outputs": [
    {
     "name": "stdout",
     "output_type": "stream",
     "text": [
      "After 490 draws achieved value of 3.1411042944785277\n",
      "490\n",
      "After 751 draws achieved value of 3.1413333333333333\n",
      "751\n"
     ]
    }
   ],
   "source": [
    "print(quasi_MCdraws(g,domain,'Haber'))\n",
    "print(quasi_MCdraws(g,domain,'Weyl'))"
   ]
  }
 ],
 "metadata": {
  "anaconda-cloud": {},
  "kernelspec": {
   "display_name": "Python [default]",
   "language": "python",
   "name": "python3"
  },
  "language_info": {
   "codemirror_mode": {
    "name": "ipython",
    "version": 3
   },
   "file_extension": ".py",
   "mimetype": "text/x-python",
   "name": "python",
   "nbconvert_exporter": "python",
   "pygments_lexer": "ipython3",
   "version": "3.5.2"
  }
 },
 "nbformat": 4,
 "nbformat_minor": 1
}
