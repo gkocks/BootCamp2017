{
 "cells": [
  {
   "cell_type": "markdown",
   "metadata": {},
   "source": [
    "## Problem 1: Golden Section Search"
   ]
  },
  {
   "cell_type": "code",
   "execution_count": 6,
   "metadata": {
    "collapsed": true
   },
   "outputs": [],
   "source": [
    "import math\n",
    "\n",
    "def golden(f, a, b, niter = 1000, true_val = None, tol = None):\n",
    "    \"\"\"Uses the Golden Section search method to find\n",
    "    a minimum for the strictly unimodal function f on\n",
    "    the closed interval [a,b], stopping after niter iterations\n",
    "    or once we are within tol of the true_val (optional)\"\"\"\n",
    "    p = (3-math.sqrt(5))/2\n",
    "    a_star = a + p*(b-a)\n",
    "    b_star = a + (1-p)*(b-a)\n",
    "    iterations = 0\n",
    "    if true_val == None:\n",
    "        while iterations < niter:\n",
    "            if f(a_star) < f(b_star):\n",
    "                b = b_star\n",
    "            else:\n",
    "                a = a_star\n",
    "            a_star = a + p*(b-a)\n",
    "            b_star = a + (1-p)*(b-a)\n",
    "            iterations += 1\n",
    "        return (a_star+b_star)/2\n",
    "    else:\n",
    "        while iterations < niter and abs((a_star+b_star)/2 - true_val) > tol:\n",
    "            if f(a_star) < f(b_star):\n",
    "                b = b_star\n",
    "            else:\n",
    "                a = a_star\n",
    "            a_star = a + p*(b-a)\n",
    "            b_star = a + (1-p)*(b-a)\n",
    "            iterations += 1\n",
    "        print(\"Converged after \" + str(iterations) + \" iterations\")\n",
    "        return (a_star+b_star)/2\n",
    "            \n",
    "    "
   ]
  },
  {
   "cell_type": "code",
   "execution_count": 12,
   "metadata": {
    "collapsed": false
   },
   "outputs": [
    {
     "name": "stdout",
     "output_type": "stream",
     "text": [
      "Converged after 13 iterations\n",
      "1.3855782167742121\n"
     ]
    }
   ],
   "source": [
    "f = lambda x: math.exp(x) - 4*x\n",
    "a = 0\n",
    "b = 3\n",
    "true_val = float(math.log(4))\n",
    "print(golden(f,a,b,1000,true_val, tol=.001))"
   ]
  },
  {
   "cell_type": "markdown",
   "metadata": {},
   "source": [
    "The minimizer converged and took 13 steps to get within .001 of the true minimizer."
   ]
  },
  {
   "cell_type": "markdown",
   "metadata": {},
   "source": [
    "## Problem 2: Bisection Method"
   ]
  },
  {
   "cell_type": "code",
   "execution_count": 10,
   "metadata": {
    "collapsed": true
   },
   "outputs": [],
   "source": [
    "def centered4(f, x, h=0.001):\n",
    "    return (f(x-2*h)-8*f(x-h)+8*f(x+h)-f(x+2*h))/(12*h)\n",
    "\n",
    "def bisection(f, a, b, niter = 1000, true_val = None, tol = None):\n",
    "    \"\"\"Uses the bisection search method to find\n",
    "    a minimum for the strictly unimodal function f on\n",
    "    the closed interval [a,b], stopping after niter iterations\n",
    "    or once we are within tol of the true_val (optional);\n",
    "    uses the centered-4 method to estimate the derivative\"\"\"\n",
    "    a = a\n",
    "    b = b\n",
    "    iterations = 0\n",
    "    if true_val == None:\n",
    "        while iterations < niter:\n",
    "            mid = (a+b)/2\n",
    "            if centered4(f, mid) > 0:\n",
    "                a = a\n",
    "                b = mid\n",
    "            else:\n",
    "                a = mid\n",
    "                b = b\n",
    "            iterations += 1\n",
    "        return ((a+b)/2)\n",
    "    else:\n",
    "        while iterations < niter and abs((a+b)/2 - true_val) > tol:\n",
    "            mid = (a+b)/2\n",
    "            if centered4(f, mid) > 0:\n",
    "                a = a\n",
    "                b = mid\n",
    "            else:\n",
    "                a = mid\n",
    "                b = b\n",
    "            iterations += 1\n",
    "        print(\"Converged after \" + str(iterations) + \" iterations\")\n",
    "        return ((a+b)/2)\n",
    "            "
   ]
  },
  {
   "cell_type": "code",
   "execution_count": 11,
   "metadata": {
    "collapsed": false
   },
   "outputs": [
    {
     "name": "stdout",
     "output_type": "stream",
     "text": [
      "Converged after 9 iterations\n",
      "1.3857421875\n"
     ]
    }
   ],
   "source": [
    "f = lambda x: math.exp(x) - 4*x\n",
    "a = 0\n",
    "b = 3\n",
    "true_val = float(math.log(4))\n",
    "print(bisection(f,a,b,1000,true_val, tol=.001))"
   ]
  },
  {
   "cell_type": "markdown",
   "metadata": {},
   "source": [
    "The minimizer took 9 steps to get within .001 if the true minimizer - faster than the golden search method."
   ]
  },
  {
   "cell_type": "markdown",
   "metadata": {},
   "source": [
    "## Problem 3: Newton's Method"
   ]
  },
  {
   "cell_type": "code",
   "execution_count": 31,
   "metadata": {
    "collapsed": true
   },
   "outputs": [],
   "source": [
    "def newton(x0, f1, f2):\n",
    "    \"\"\"Implements Newton's method for minimization\n",
    "    Inputs: x0 - initial guess\n",
    "        f1 - first derivative of f\n",
    "        f2 - second derivative of f\n",
    "    Returns: approximation to the minimizer provided\n",
    "    that the algorithm converges for initial condition\"\"\"\n",
    "    maxiter = 100\n",
    "    xold = x0\n",
    "    if f2(xold) != 0:\n",
    "        xnew = xold - f1(xold)/f2(xold)\n",
    "    else:\n",
    "        raise ValueError(\"Function or initial condition resulted in division by 0\")\n",
    "    iterations = 1\n",
    "    while iterations < maxiter:\n",
    "        xold = xnew\n",
    "        if f2(xold) != 0:\n",
    "            xnew = xold - f1(xold)/f2(xold)\n",
    "        else:\n",
    "            raise ValueError(\"Function or initial condition resulted in division by 0\")\n",
    "        iterations += 1\n",
    "    if f2(xnew) < 0:\n",
    "        print(\"Converged to \" + str(xnew) + \"after \" + str(iterations) + \" iterations but local maximum\")\n",
    "    else:\n",
    "        print(\"Minimizer is \" + str(xnew))\n",
    "    return xnew"
   ]
  },
  {
   "cell_type": "code",
   "execution_count": 32,
   "metadata": {
    "collapsed": false
   },
   "outputs": [
    {
     "name": "stdout",
     "output_type": "stream",
     "text": [
      "Minimizer is -1.4473142236328096\n"
     ]
    },
    {
     "data": {
      "text/plain": [
       "-1.4473142236328096"
      ]
     },
     "execution_count": 32,
     "metadata": {},
     "output_type": "execute_result"
    }
   ],
   "source": [
    "f = lambda x: x**2 + math.sin(5*x)\n",
    "f1 = lambda x: 2*x + 5*math.cos(5*x)\n",
    "f2 = lambda x: 2 - 25*math.sin(5*x)\n",
    "x0 = 0\n",
    "\n",
    "newton(x0, f1, f2)"
   ]
  },
  {
   "cell_type": "markdown",
   "metadata": {},
   "source": [
    "We note that this is a local minimum but is not the correct minimizer (which occurs around x = -0.29). We try other starting values to see where this happens."
   ]
  },
  {
   "cell_type": "code",
   "execution_count": 33,
   "metadata": {
    "collapsed": false
   },
   "outputs": [
    {
     "name": "stdout",
     "output_type": "stream",
     "text": [
      "Minimizer is -0.29083931499532345\n",
      "Converged to -1.0271579225192684after 100 iterations but local maximum\n",
      "Minimizer is 0.8712810830760778\n",
      "Minimizer is -0.29083931499532345\n"
     ]
    },
    {
     "data": {
      "text/plain": [
       "-0.29083931499532345"
      ]
     },
     "execution_count": 33,
     "metadata": {},
     "output_type": "execute_result"
    }
   ],
   "source": [
    "x1 = -0.25\n",
    "x2 = -1.0\n",
    "x3 = 1.0\n",
    "x4 = -0.30\n",
    "\n",
    "newton(x1, f1, f2)\n",
    "newton(x2, f1, f2)\n",
    "newton(x3, f1, f2)\n",
    "newton(x4, f1, f2)"
   ]
  },
  {
   "cell_type": "markdown",
   "metadata": {},
   "source": [
    "## Problem 4: Secant Method"
   ]
  },
  {
   "cell_type": "code",
   "execution_count": 52,
   "metadata": {
    "collapsed": false
   },
   "outputs": [],
   "source": [
    "def secant(x0, x1, f1):\n",
    "    \"\"\"Implements secant method for minimization\n",
    "    Inputs: x0, x1 - initial guesses\n",
    "        f1 - first derivative of f\n",
    "    Returns: approximation to the minimizer provided\n",
    "    that the algorithm converges for initial condition\"\"\"\n",
    "    maxiter = 100\n",
    "    x0 = x0\n",
    "    x1 = x1\n",
    "    if f1(x1)-f1(x0) != 0:\n",
    "        x2 = x1 - ((x1-x0)/(f1(x1)-f1(x0)))*f1(x1)\n",
    "    else:\n",
    "        raise ValueError(\"Function or initial condition resulted in division by 0\")\n",
    "    iterations = 1\n",
    "    while iterations < maxiter:\n",
    "        x0 = x1\n",
    "        x1 = x2\n",
    "        if f1(x1)-f1(x0) != 0:\n",
    "            x2 = x1 - ((x1-x0)/(f1(x1)-f1(x0)))*f1(x1)\n",
    "        else:\n",
    "            print(\"Arrived at value of \" + str(x2) + \" after \" + str(iterations) + \" iterations before division by 0\")\n",
    "            return x2\n",
    "            raise ValueError(\"Function or initial condition resulted in division by 0\")\n",
    "        iterations += 1\n",
    "    print(\"Minimizer is \" + str(xnew))\n",
    "    return x2"
   ]
  },
  {
   "cell_type": "code",
   "execution_count": 53,
   "metadata": {
    "collapsed": false
   },
   "outputs": [
    {
     "name": "stdout",
     "output_type": "stream",
     "text": [
      "Arrived at value of -0.16367722118190792 after 12 iterations before division by 0\n"
     ]
    },
    {
     "data": {
      "text/plain": [
       "-0.16367722118190792"
      ]
     },
     "execution_count": 53,
     "metadata": {},
     "output_type": "execute_result"
    }
   ],
   "source": [
    "f = lambda x: x**2 + math.sin(x) + math.sin(10*x)\n",
    "f1 = lambda x: 2*x + math.cos(x) + 10*math.cos(10*x)\n",
    "secant(0,-1,f1)"
   ]
  },
  {
   "cell_type": "code",
   "execution_count": 36,
   "metadata": {
    "collapsed": false
   },
   "outputs": [
    {
     "data": {
      "image/png": "[encoded data removed]",
      "text/plain": [
       "<matplotlib.figure.Figure at 0x1061cfac8>"
      ]
     },
     "metadata": {},
     "output_type": "display_data"
    }
   ],
   "source": [
    "# Plot the function to see why the algorithm is senstiive\n",
    "import numpy as np\n",
    "from matplotlib import pyplot as plt\n",
    "\n",
    "f = lambda x: x**2 + math.sin(x) + math.sin(10*x)\n",
    "x = np.linspace(-5,5,100)\n",
    "y = np.zeros(100)\n",
    "for i in range(len(x)):\n",
    "    y[i] = f(x[i])\n",
    "plt.plot(x,y)\n",
    "plt.show()"
   ]
  },
  {
   "cell_type": "markdown",
   "metadata": {},
   "source": [
    "There are many local minima and maxima for the function so we can see that it will be very sensitive to the starting point."
   ]
  },
  {
   "cell_type": "code",
   "execution_count": 55,
   "metadata": {
    "collapsed": false
   },
   "outputs": [
    {
     "name": "stdout",
     "output_type": "stream",
     "text": [
      "Arrived at value of -1.9964118165743994 after 7 iterations before division by 0\n",
      "Arrived at value of 0.1703816610153652 after 18 iterations before division by 0\n",
      "Arrived at value of 2.3155516573790806 after 11 iterations before division by 0\n"
     ]
    },
    {
     "data": {
      "text/plain": [
       "2.3155516573790806"
      ]
     },
     "execution_count": 55,
     "metadata": {},
     "output_type": "execute_result"
    }
   ],
   "source": [
    "# Trying other initial conditions:\n",
    "secant(1,-2,f1)\n",
    "secant(2,3,f1)\n",
    "secant(-4,8,f1)"
   ]
  },
  {
   "cell_type": "markdown",
   "metadata": {},
   "source": [
    "## Problem 5"
   ]
  },
  {
   "cell_type": "code",
   "execution_count": 56,
   "metadata": {
    "collapsed": true
   },
   "outputs": [],
   "source": [
    "# TODO"
   ]
  }
 ],
 "metadata": {
  "anaconda-cloud": {},
  "kernelspec": {
   "display_name": "Python [default]",
   "language": "python",
   "name": "python3"
  },
  "language_info": {
   "codemirror_mode": {
    "name": "ipython",
    "version": 3
   },
   "file_extension": ".py",
   "mimetype": "text/x-python",
   "name": "python",
   "nbconvert_exporter": "python",
   "pygments_lexer": "ipython3",
   "version": "3.5.2"
  }
 },
 "nbformat": 4,
 "nbformat_minor": 1
}
