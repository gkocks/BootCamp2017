{
 "cells": [
  {
   "cell_type": "markdown",
   "metadata": {},
   "source": [
    "## Problem 1"
   ]
  },
  {
   "cell_type": "code",
   "execution_count": 49,
   "metadata": {
    "collapsed": true
   },
   "outputs": [],
   "source": [
    "def newton(x0, f, f1,maxiter = 15, tol = 1e-5):\n",
    "    \"\"\"Implements Newton's method for minimization\n",
    "    Inputs: x0 - initial guess\n",
    "        f - first derivative of f\n",
    "        f1 - second derivative of f\n",
    "    Returns: approximation to the minimizer provided\n",
    "    that the algorithm converges for initial condition\"\"\"\n",
    "    maxiter = maxiter\n",
    "    xold = x0\n",
    "    if f1(xold) != 0:\n",
    "        xnew = xold - f(xold)/f1(xold)\n",
    "    else:\n",
    "        raise ValueError(\"Function or initial condition resulted in division by 0\")\n",
    "    iterations = 1\n",
    "    while iterations < maxiter:\n",
    "        xold = xnew\n",
    "        if f1(xold) != 0:\n",
    "            xnew = xold - f(xold)/f1(xold)\n",
    "            if abs(xnew - xold) < tol:\n",
    "                break\n",
    "        else:\n",
    "            raise ValueError(\"Function or initial condition resulted in division by 0\")\n",
    "        iterations += 1\n",
    "    print(\"Root is \" + str(xnew))\n",
    "    print(\"Stopped after \" + str(iterations) + \" iterations\")\n",
    "    print(\"Distance between x vals = \" + str(abs(xnew-xold)))\n",
    "    return xnew"
   ]
  },
  {
   "cell_type": "code",
   "execution_count": 50,
   "metadata": {
    "collapsed": false
   },
   "outputs": [
    {
     "name": "stdout",
     "output_type": "stream",
     "text": [
      "Root is 0.6931471805599454\n",
      "Stopped after 3 iterations\n",
      "Distance between x vals = 1.9398647244095457e-08\n",
      "True value = 0.6931471805599453\n"
     ]
    }
   ],
   "source": [
    "# Test Case 1\n",
    "\n",
    "import math\n",
    "f = lambda x: math.exp(x)-2\n",
    "f1 = lambda x: math.exp(x)\n",
    "\n",
    "newton(0.5,f,f1)\n",
    "true_value = math.log(2)\n",
    "print(\"True value = \" + str(true_value))"
   ]
  },
  {
   "cell_type": "code",
   "execution_count": 51,
   "metadata": {
    "collapsed": false
   },
   "outputs": [
    {
     "name": "stdout",
     "output_type": "stream",
     "text": [
      "Root is 1.3160740129524924\n",
      "Stopped after 10 iterations\n",
      "Distance between x vals = 3.75212239056566e-09\n",
      "True value = 1.3160740129524924\n"
     ]
    }
   ],
   "source": [
    "# Test Case 2\n",
    "\n",
    "f = lambda x: x**4-3\n",
    "f1 = lambda x: 4*x**3\n",
    "\n",
    "newton(0.5, f, f1)\n",
    "true_value = math.sqrt(math.sqrt(3))\n",
    "print(\"True value = \" + str(true_value))"
   ]
  },
  {
   "cell_type": "markdown",
   "metadata": {},
   "source": [
    "## Problem 2"
   ]
  },
  {
   "cell_type": "code",
   "execution_count": 52,
   "metadata": {
    "collapsed": true
   },
   "outputs": [],
   "source": [
    "#Preliminary functions called\n",
    "\n",
    "def centered4(f, x, h=0.001):\n",
    "    return (f(x-2*h)-8*f(x-h)+8*f(x+h)-f(x+2*h))/(12*h)\n",
    "\n",
    "def newton_est(x0, f, maxiter = 15, tol = 1e-5):\n",
    "    \"\"\"Computes Newton's method with estimate for first derivative\n",
    "    Uses the centered4 method to estimate first derivative each time\"\"\"\n",
    "    maxiter = maxiter\n",
    "    xold = x0\n",
    "    if centered4(f,xold) != 0:\n",
    "        xnew = xold - f(xold)/centered4(f,xold)\n",
    "    else:\n",
    "        raise ValueError(\"Function or initial condition resulted in division by 0\")\n",
    "    iterations = 1\n",
    "    while iterations < maxiter:\n",
    "        xold = xnew\n",
    "        if f1(xold) != 0:\n",
    "            xnew = xold - f(xold)/centered4(f,xold)\n",
    "            if abs(xnew - xold) < tol:\n",
    "                break\n",
    "        else:\n",
    "            raise ValueError(\"Function or initial condition resulted in division by 0\")\n",
    "        iterations += 1\n",
    "    print(\"Root is \" + str(xnew))\n",
    "    print(\"Stopped after \" + str(iterations) + \" iterations\")\n",
    "    return xnew"
   ]
  },
  {
   "cell_type": "code",
   "execution_count": 53,
   "metadata": {
    "collapsed": true
   },
   "outputs": [],
   "source": [
    "def find_r(N1, N2, P1, P2, r0):\n",
    "    \"\"\"Uses Newton's method to find r given initial guess r0\"\"\"\n",
    "    f = lambda x: P2*(1-(1+x)**(-N2)) - P1*((1+x)**N1 - 1)\n",
    "    return newton_est(r0, f)"
   ]
  },
  {
   "cell_type": "code",
   "execution_count": 54,
   "metadata": {
    "collapsed": false
   },
   "outputs": [
    {
     "name": "stdout",
     "output_type": "stream",
     "text": [
      "Root is 0.03877843204797472\n",
      "Stopped after 3 iterations\n"
     ]
    },
    {
     "data": {
      "text/plain": [
       "0.03877843204797472"
      ]
     },
     "execution_count": 54,
     "metadata": {},
     "output_type": "execute_result"
    }
   ],
   "source": [
    "find_r(30,20,2000,8000,0.05)"
   ]
  },
  {
   "cell_type": "markdown",
   "metadata": {},
   "source": [
    "## Problem 3"
   ]
  },
  {
   "cell_type": "code",
   "execution_count": 55,
   "metadata": {
    "collapsed": true
   },
   "outputs": [],
   "source": [
    "def newton_backtrack(x0, f, f1, a=1, maxiter = 15, tol = 1e-5):\n",
    "    \"\"\"Implements Newton's method for minimization\n",
    "    Inputs: x0 - initial guess\n",
    "        f - first derivative of f\n",
    "        f1 - second derivative of f\n",
    "    Returns: approximation to the minimizer provided\n",
    "    that the algorithm converges for initial condition\"\"\"\n",
    "    maxiter = maxiter\n",
    "    xold = x0\n",
    "    if f1(xold) != 0:\n",
    "        xnew = xold - a*(f(xold)/f1(xold))\n",
    "    else:\n",
    "        raise ValueError(\"Function or initial condition resulted in division by 0\")\n",
    "    iterations = 1\n",
    "    while iterations < maxiter:\n",
    "        xold = xnew\n",
    "        if f1(xold) != 0:\n",
    "            xnew = xold - a*(f(xold)/f1(xold))\n",
    "            if abs(xnew - xold) < tol:\n",
    "                break\n",
    "        else:\n",
    "            raise ValueError(\"Function or initial condition resulted in division by 0\")\n",
    "        iterations += 1\n",
    "    print(\"Root is \" + str(xnew))\n",
    "    print(\"Stopped after \" + str(iterations) + \" iterations\")\n",
    "    print(\"Distance between x vals = \" + str(abs(xnew-xold)))\n",
    "    return xnew"
   ]
  },
  {
   "cell_type": "code",
   "execution_count": 56,
   "metadata": {
    "collapsed": false
   },
   "outputs": [
    {
     "name": "stdout",
     "output_type": "stream",
     "text": [
      "Root is -1.36479626363e+35\n",
      "Stopped after 15 iterations\n",
      "Distance between x vals = 1.36936079963e+35\n",
      "\n",
      "Root is 6.4e-07\n",
      "Stopped after 5 iterations\n",
      "Distance between x vals = 3.84e-06\n"
     ]
    },
    {
     "data": {
      "text/plain": [
       "6.4000000000001335e-07"
      ]
     },
     "execution_count": 56,
     "metadata": {},
     "output_type": "execute_result"
    }
   ],
   "source": [
    "import numpy as np\n",
    "f = lambda x: np.sign(x) * np.power(np.abs(x), 1./3)\n",
    "f1 = lambda x: (1/3)*(x**2)**(-1/3)\n",
    "\n",
    "newton_backtrack(0.01, f, f1, 100)\n",
    "print(\"\")\n",
    "newton_backtrack(0.01, f, f1, 0.4)\n"
   ]
  },
  {
   "cell_type": "markdown",
   "metadata": {},
   "source": [
    "We can see from the distane between the x values that the function does not converge for alpha = 0 but does converge for alpha = 0.4."
   ]
  },
  {
   "cell_type": "markdown",
   "metadata": {},
   "source": [
    "## Problem 4"
   ]
  },
  {
   "cell_type": "code",
   "execution_count": 57,
   "metadata": {
    "collapsed": true
   },
   "outputs": [],
   "source": [
    "#Helper function:\n",
    "def newton_iterations(x0, f, f1, a=1, maxiter = 1000, tol = 1e-5):\n",
    "    maxiter = maxiter\n",
    "    xold = x0\n",
    "    if f1(xold) != 0:\n",
    "        xnew = xold - a*(f(xold)/f1(xold))\n",
    "    else:\n",
    "        raise ValueError(\"Function or initial condition resulted in division by 0\")\n",
    "    iterations = 1\n",
    "    while iterations < maxiter:\n",
    "        xold = xnew\n",
    "        if f1(xold) != 0:\n",
    "            xnew = xold - a*(f(xold)/f1(xold))\n",
    "            if abs(xnew - xold) < tol:\n",
    "                break\n",
    "        else:\n",
    "            return iterations\n",
    "        iterations += 1\n",
    "    return iterations\n",
    "\n",
    "#Function to find optimal alpha\n",
    "def find_a(x0, f, f1, a=1):\n",
    "    optimal_a = None\n",
    "    iterations = 1000\n",
    "    a_vals = np.linspace(0.01,1.0,100)\n",
    "    for a in a_vals:\n",
    "        steps = newton_iterations(x0, f, f1, a)\n",
    "        if steps < iterations:\n",
    "            optimal_a = a\n",
    "            iterations = steps\n",
    "    return optimal_a, iterations\n",
    "    "
   ]
  },
  {
   "cell_type": "code",
   "execution_count": 58,
   "metadata": {
    "collapsed": false,
    "scrolled": true
   },
   "outputs": [
    {
     "name": "stderr",
     "output_type": "stream",
     "text": [
      "/Users/Geoff/anaconda/lib/python3.5/site-packages/ipykernel/__main__.py:2: RuntimeWarning: overflow encountered in double_scalars\n",
      "  from ipykernel import kernelapp as app\n"
     ]
    },
    {
     "data": {
      "text/plain": [
       "(0.33000000000000002, 3)"
      ]
     },
     "execution_count": 58,
     "metadata": {},
     "output_type": "execute_result"
    }
   ],
   "source": [
    "f = lambda x: np.sign(x) * np.power(np.abs(x), 1./3)\n",
    "f1 = lambda x: (1/3)*(x**2)**(-1/3)\n",
    "find_a(0.5, f, f1)"
   ]
  },
  {
   "cell_type": "markdown",
   "metadata": {},
   "source": [
    "In this example, the optimal alpha was about 0.33, which only took 3 steps to converge."
   ]
  },
  {
   "cell_type": "markdown",
   "metadata": {},
   "source": [
    "## Problem 5"
   ]
  },
  {
   "cell_type": "code",
   "execution_count": 59,
   "metadata": {
    "collapsed": false
   },
   "outputs": [],
   "source": [
    "import numpy as np\n",
    "\n",
    "def is_invertible(a):\n",
    "    return a.shape[0] == a.shape[1] and np.linalg.matrix_rank(a) == a.shape[0]\n",
    "\n",
    "def newton_multi(x0, f, f1, n=1, p=True, a=0.5, maxiter = 100, tol = 1e-5):\n",
    "    if n == 1:\n",
    "        maxiter = maxiter\n",
    "        xold = x0\n",
    "        xnew = xold - a*(f(xold)/f1(xold))\n",
    "        iterations = 1\n",
    "        while iterations < maxiter:\n",
    "            xold = xnew\n",
    "            if f1(xold) != 0:\n",
    "                xnew = xold - a*(f(xold)/f1(xold))\n",
    "                if abs(xnew - xold) < tol:\n",
    "                    break\n",
    "            else:\n",
    "                raise ValueError(\"Function or initial condition resulted in division by 0\")\n",
    "            iterations += 1\n",
    "        if p==True:\n",
    "            print(\"Root is \" + str(xnew))\n",
    "            print(\"Stopped after \" + str(iterations) + \" iterations\")\n",
    "            print(\"Distance between x vals = \" + str(abs(xnew-xold)))\n",
    "        return xnew\n",
    "    else:\n",
    "        maxiter = maxiter\n",
    "        xold = x0\n",
    "        y = np.linalg.solve(f1(xold), f(xold))\n",
    "        xnew = xold - a*y\n",
    "        iterations = 1\n",
    "        while iterations < maxiter:\n",
    "            xold = np.copy(xnew)\n",
    "            y = np.linalg.solve(f1(xold), f(xold))\n",
    "            xnew = xold - a*y\n",
    "            if np.linalg.norm(xnew - xold) < tol:\n",
    "                break\n",
    "            iterations += 1\n",
    "        if p==True:\n",
    "            print(\"Root is \" + str(xnew))\n",
    "            print(\"Stopped after \" + str(iterations) + \" iterations\")\n",
    "            print(\"Norm between x vecs = \" + str(np.linalg.norm(xnew-xold)))\n",
    "        return xnew"
   ]
  },
  {
   "cell_type": "code",
   "execution_count": 60,
   "metadata": {
    "collapsed": false,
    "scrolled": true
   },
   "outputs": [
    {
     "name": "stdout",
     "output_type": "stream",
     "text": [
      "Root is 1.3160799674338821\n",
      "Stopped after 23 iterations\n",
      "Distance between x vals = 5.954319752810022e-06\n"
     ]
    },
    {
     "data": {
      "text/plain": [
       "1.3160799674338821"
      ]
     },
     "execution_count": 60,
     "metadata": {},
     "output_type": "execute_result"
    }
   ],
   "source": [
    "#Verify that function still works for one-dimensional case\n",
    "f = lambda x: x**4-3\n",
    "f1 = lambda x: 4*x**3\n",
    "newton_multi(0.5, f, f1)\n"
   ]
  },
  {
   "cell_type": "code",
   "execution_count": 61,
   "metadata": {
    "collapsed": false
   },
   "outputs": [
    {
     "name": "stdout",
     "output_type": "stream",
     "text": [
      "Root is [ 1.99999725  3.99999451]\n",
      "Stopped after 14 iterations\n",
      "Norm between x vecs = 6.14043680795e-06\n"
     ]
    },
    {
     "data": {
      "text/plain": [
       "array([ 1.99999725,  3.99999451])"
      ]
     },
     "execution_count": 61,
     "metadata": {},
     "output_type": "execute_result"
    }
   ],
   "source": [
    "#Verify that function works for multi-dimensional case\n",
    "f = lambda x: np.array([x[0]**2 - x[1], -2*x[0] + x[1]])\n",
    "f1 = lambda x: np.array([[2*x[0], -1],[-2, 1]])\n",
    "x0 = np.array([1.9,3.8])\n",
    "\n",
    "np.shape(f1(x0))\n",
    "\n",
    "np.linalg.solve(f1(x0),f(x0))\n",
    "newton_multi(x0, f, f1, 2)"
   ]
  },
  {
   "cell_type": "markdown",
   "metadata": {},
   "source": [
    "## Problem 6"
   ]
  },
  {
   "cell_type": "code",
   "execution_count": 100,
   "metadata": {
    "collapsed": false
   },
   "outputs": [
    {
     "data": {
      "text/plain": [
       "(array([-0.05,  0.2 ]),\n",
       " array([-0.08166667,  0.2       ]),\n",
       " array([ 4.5 , -0.25]))"
      ]
     },
     "execution_count": 100,
     "metadata": {},
     "output_type": "execute_result"
    }
   ],
   "source": [
    "f = lambda x: np.array([4*x[0]*x[1]-x[0], -x[0]*x[1]+(1-x[1])*(1+x[1])])\n",
    "f1 = lambda x: np.array([[4*x[1]-1, 4*x[0]],[-x[1], -x[0]-2*x[1]]])\n",
    "\n",
    "x_vals = np.linspace(-0.24,-0.05,25)\n",
    "y_vals = np.linspace(0.05, 0.20,25)\n",
    "\n",
    "x_vals_1 = np.linspace(3.5,4.5,25)\n",
    "y_vals_1 = np.linspace(-0.25,0.25,50)\n",
    "\n",
    "def find_initial_iter(f, f1, x_vals, y_vals):\n",
    "    sol1 = np.zeros(2)\n",
    "    sol2 = np.zeros(2)\n",
    "    sol3 = np.zeros(2)\n",
    "    for i in range(len(x_vals_1)):\n",
    "        for j in range(len(y_vals_1)):\n",
    "            x0 = np.array([x_vals_1[i], y_vals_1[j]])\n",
    "            sol = newton_multi(x0,f,f1,2,False,0.55)\n",
    "            if np.allclose(sol, np.array([[3.75,0.25]])):\n",
    "                sol3 = x0\n",
    "                break\n",
    "    for i in range(len(x_vals)):\n",
    "        for j in range(len(y_vals)):\n",
    "            x0 = np.array([x_vals[i], y_vals[j]])\n",
    "            sol = newton_multi(x0, f, f1, 2, False,1)\n",
    "            if np.allclose(sol, np.linspace(0,1,2)):\n",
    "                sol1 = x0\n",
    "            if np.allclose(sol, np.array([[0,-1]])):\n",
    "                sol2 = x0\n",
    "            if np.allclose(sol, np.linspace(0,1,2)) and np.allclose(sol, np.array([[0,-1]])):\n",
    "                print(sol1, sol2)\n",
    "                break\n",
    "    return sol1, sol2, sol3\n",
    "\n",
    "find_initial_iter(f,f1,x_vals,y_vals)\n",
    "\n",
    "            \n",
    "            "
   ]
  },
  {
   "cell_type": "markdown",
   "metadata": {},
   "source": [
    "An initial condition that will achieve a solution of (3.75,0.25) with the given alpha is (x,y) = (4.5,-0.25).\n",
    "An initial condition that will achieve a solution of (0,1) with the given alpha is (x,y) = (-0.05, 0.2).\n",
    "An initial condition that will achieve a solution of (0,-1) with the given alpha is (x,y) = (-0.0816667, 0.2).\n",
    "We can verify these below.\n"
   ]
  },
  {
   "cell_type": "code",
   "execution_count": 101,
   "metadata": {
    "collapsed": false
   },
   "outputs": [
    {
     "name": "stdout",
     "output_type": "stream",
     "text": [
      "Root is [ -5.79233224e-22   1.00000000e+00]\n",
      "Stopped after 8 iterations\n",
      "Norm between x vecs = 4.69243644248e-11\n",
      "\n",
      "Root is [ -6.06504542e-19  -1.00000000e+00]\n",
      "Stopped after 11 iterations\n",
      "Norm between x vecs = 1.92334554967e-09\n",
      "\n",
      "Root is [ 3.75000436  0.24999909]\n",
      "Stopped after 16 iterations\n",
      "Norm between x vecs = 5.4438096706e-06\n"
     ]
    },
    {
     "data": {
      "text/plain": [
       "array([ 3.75000436,  0.24999909])"
      ]
     },
     "execution_count": 101,
     "metadata": {},
     "output_type": "execute_result"
    }
   ],
   "source": [
    "f = lambda x: np.array([4*x[0]*x[1]-x[0], -x[0]*x[1]+(1-x[1])*(1+x[1])])\n",
    "f1 = lambda x: np.array([[4*x[1]-1, 4*x[0]],[-x[1], -x[0]-2*x[1]]])\n",
    "\n",
    "x0 = np.array([-0.05, 0.2])\n",
    "newton_multi(x0, f, f1, 2, True, 1.0)\n",
    "print(\"\")\n",
    "x0 = np.array([-0.081666667, 0.2])\n",
    "newton_multi(x0, f, f1, 2, True, 1.0)\n",
    "print(\"\")\n",
    "x0 = np.array([4.5, -0.25])\n",
    "newton_multi(x0, f, f1, 2, True, 0.55)"
   ]
  },
  {
   "cell_type": "markdown",
   "metadata": {},
   "source": [
    "## Problem 7"
   ]
  },
  {
   "cell_type": "code",
   "execution_count": 147,
   "metadata": {
    "collapsed": true
   },
   "outputs": [],
   "source": [
    "def basins(f, f1, roots, bounds, res, iters):\n",
    "    \"\"\"Plots the basins of attraction for Newton's Method of a function\n",
    "    f in the complex plane\"\"\"\n",
    "    length = len(roots)\n",
    "    x_real = np.linspace(bounds[0], bounds[1], res) \n",
    "    x_imag = np.linspace(bounds[2], bounds[3], res)\n",
    "    X_real, X_imag = np.meshgrid(x_real, x_imag)\n",
    "    X_0 = X_real + 1j*X_imag\n",
    "    X_1 = X_0 - f(X_0)/f1(X_0)\n",
    "    i = 1\n",
    "    while i < iters:\n",
    "        X_0 = X_1\n",
    "        X_1 = X_0 - f(X_0)/f1(X_0)\n",
    "        i += 1\n",
    "    X_k = X_1\n",
    "    m,n = np.shape(X_k)\n",
    "    Y = np.zeros((m,n))\n",
    "    for i in range(m):\n",
    "        for j in range(n):\n",
    "            vals = np.repeat(X_k[i,j], length)\n",
    "            objective = np.abs(vals-roots)\n",
    "            Y[i,j] = np.argmin(objective)\n",
    "    plt.pcolormesh(x_real, x_imag, Y, cmap='brg')\n",
    "    plt.show()\n",
    "            "
   ]
  },
  {
   "cell_type": "code",
   "execution_count": 148,
   "metadata": {
    "collapsed": false
   },
   "outputs": [
    {
     "data": {
      "image/png": "[encoded data removed]",
      "text/plain": [
       "<matplotlib.figure.Figure at 0x10770d128>"
      ]
     },
     "metadata": {},
     "output_type": "display_data"
    }
   ],
   "source": [
    "# Test Function 1\n",
    "import matplotlib.pyplot as plt\n",
    "import math\n",
    "f = lambda x: x**3 - 1\n",
    "f1 = lambda x: 3*x**2\n",
    "bounds = [-1.5, 1.5, -1.5, 1.5]\n",
    "roots = [1, -0.5+1j*math.sqrt(3)/2, -0.5-1j*math.sqrt(3)/2]\n",
    "basins(f, f1, roots, bounds, 200, 5)\n"
   ]
  },
  {
   "cell_type": "code",
   "execution_count": 149,
   "metadata": {
    "collapsed": false
   },
   "outputs": [
    {
     "data": {
      "image/png": "[encoded data removed]",
      "text/plain": [
       "<matplotlib.figure.Figure at 0x1070ff2b0>"
      ]
     },
     "metadata": {},
     "output_type": "display_data"
    }
   ],
   "source": [
    "# Test Function 2\n",
    "f = lambda x: x**3 - x\n",
    "f1 = lambda x: 3*x**2-1\n",
    "bounds = [-1.5, 1.5, -1.5, 1.5]\n",
    "roots = [1,-1,0]\n",
    "basins(f, f1, roots, bounds, 200, 5)"
   ]
  }
 ],
 "metadata": {
  "anaconda-cloud": {},
  "kernelspec": {
   "display_name": "Python [default]",
   "language": "python",
   "name": "python3"
  },
  "language_info": {
   "codemirror_mode": {
    "name": "ipython",
    "version": 3
   },
   "file_extension": ".py",
   "mimetype": "text/x-python",
   "name": "python",
   "nbconvert_exporter": "python",
   "pygments_lexer": "ipython3",
   "version": "3.5.2"
  }
 },
 "nbformat": 4,
 "nbformat_minor": 1
}
