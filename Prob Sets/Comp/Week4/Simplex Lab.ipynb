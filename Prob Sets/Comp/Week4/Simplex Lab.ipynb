{
 "cells": [
  {
   "cell_type": "markdown",
   "metadata": {},
   "source": [
    "## Problems 1-6"
   ]
  },
  {
   "cell_type": "markdown",
   "metadata": {},
   "source": [
    "### Import Packages"
   ]
  },
  {
   "cell_type": "code",
   "execution_count": 141,
   "metadata": {
    "collapsed": false
   },
   "outputs": [],
   "source": [
    "import numpy as np\n",
    "import scipy as sp\n",
    "from scipy import linalg"
   ]
  },
  {
   "cell_type": "markdown",
   "metadata": {},
   "source": [
    "### Optimization Class"
   ]
  },
  {
   "cell_type": "code",
   "execution_count": 142,
   "metadata": {
    "collapsed": false
   },
   "outputs": [],
   "source": [
    "class optimization:\n",
    "    \"\"\"Accepts arrays c, A, and b to solve a linear optimization\n",
    "    problem in standard form\"\"\"\n",
    "    def __init__(self, c, A, b):\n",
    "        zero1 = np.zeros_like(c)\n",
    "        if np.any(np.dot(A,zero1) > b):\n",
    "            raise ValueError(\"Problem not feasible at the origin\")\n",
    "        else:\n",
    "            # Initialize the input variables\n",
    "            self.c = c\n",
    "            self.A = A\n",
    "            self.b = b\n",
    "            # Create initial L list\n",
    "            m,n = np.shape(A)\n",
    "            L1 = np.arange(m-1)\n",
    "            L2 = np.arange(n,m+n)\n",
    "            self.L = np.concatenate((L2,L1))\n",
    "        \n",
    "    def tableau(self):\n",
    "        c_star = (-self.c).T\n",
    "        zero2 = np.zeros_like(self.b.T)\n",
    "        zero3 = np.array([0])\n",
    "        one1 = np.array([1])\n",
    "        row1 = np.concatenate((zero3, c_star, zero2, one1))\n",
    "        one2 = np.eye(np.shape(A)[0])\n",
    "        b2 = np.reshape(b,(np.shape(b)[0],1))\n",
    "        zero4 = np.zeros_like(b2)\n",
    "        row2 = np.concatenate((b2, A, one2, zero4),axis=1)\n",
    "        row1_star = np.reshape(row1, (1, np.shape(row1)[0]))\n",
    "        self.T = np.concatenate((row1_star, row2), axis=0)\n",
    "        return self.T\n",
    "    \n",
    "    def bland(self, T):\n",
    "        \"\"\"takes as an input the tableau matrix T from the tableau function\n",
    "        uses Bland rule to determine the row and column to pivot\n",
    "        returns pivot row and pivot column\"\"\"\n",
    "        i = 0\n",
    "        a = T[0,i]\n",
    "        while a >= 0:\n",
    "            i += 1\n",
    "            a = T[0,i]\n",
    "        self.col = i\n",
    "        if np.any(T[:,i] > 0):\n",
    "            ratios = np.zeros(np.shape(self.A)[0]+1)\n",
    "            for i in range(np.shape(ratios)[0]):\n",
    "                if T[i,0]/T[i,self.col] > 0:\n",
    "                    ratios[i] = T[i,0]/T[i,self.col]\n",
    "                else:\n",
    "                    ratios[i] = np.inf\n",
    "        else:\n",
    "            raise ValueError(\"No non-negative values for Bland method\")\n",
    "        self.row = np.argmin(ratios)\n",
    "        index = T[self.row, self.col]\n",
    "        return self.row, self.col\n",
    "    \n",
    "    def pivot(self, T):\n",
    "        index_A = self.row-1\n",
    "        index_B = np.where(self.L==self.col-1)\n",
    "        self.L[index_A], self.L[index_B] = self.L[index_B], self.L[index_A]\n",
    "        center = T[self.row, self.col]\n",
    "        T[self.row,:] = (1/center)*T[self.row,:]\n",
    "        v = T[self.row,:]\n",
    "        m,n = np.shape(T)\n",
    "        for i in range(m):\n",
    "            if i != self.row:\n",
    "                alpha = T[i, self.col]\n",
    "                T[i,:] = T[i,:]-alpha*v\n",
    "        return T, self.L\n",
    "    \n",
    "    def solve(self):\n",
    "        self.T = self.tableau()\n",
    "        i = 0\n",
    "        while np.any(self.T[0,1:] < 0) or i >= 100:\n",
    "            self.bland(self.T)\n",
    "            self.pivot(self.T)\n",
    "            i += 1\n",
    "        solution = self.T[0,0]\n",
    "        basic = dict()\n",
    "        nonbasic = dict()\n",
    "        m,n = np.shape(self.T)\n",
    "        length = len(self.L)\n",
    "        basic = dict()\n",
    "        for i in range(m-1):\n",
    "            basic[self.L[i]] = self.T[i+1,0]\n",
    "        nonbasic = dict()\n",
    "        for j in range(m-1,length):\n",
    "            nonbasic[self.L[j]] = 0\n",
    "        print(\"Converged after \" + str(i) + \" iterations\")\n",
    "        print(\"Maximum Value = \" + str(solution))\n",
    "        return (solution, basic, nonbasic)        "
   ]
  },
  {
   "cell_type": "markdown",
   "metadata": {},
   "source": [
    "### Implementation"
   ]
  },
  {
   "cell_type": "code",
   "execution_count": 143,
   "metadata": {
    "collapsed": false
   },
   "outputs": [],
   "source": [
    "A = np.array([[1,-1],[3,1],[4,3]])\n",
    "b = np.array([2,5,7])\n",
    "c = np.array([3,2])"
   ]
  },
  {
   "cell_type": "code",
   "execution_count": 144,
   "metadata": {
    "collapsed": false,
    "scrolled": true
   },
   "outputs": [
    {
     "name": "stdout",
     "output_type": "stream",
     "text": [
      "Converged after 2 iterations\n",
      "Maximum Value = 5.2\n"
     ]
    },
    {
     "data": {
      "text/plain": [
       "(5.2000000000000002,\n",
       " {0: 1.5999999999999996, 1: 0.20000000000000034, 2: 0.60000000000000053},\n",
       " {3: 0, 4: 0})"
      ]
     },
     "execution_count": 144,
     "metadata": {},
     "output_type": "execute_result"
    }
   ],
   "source": [
    "problem = optimization(c,A,b)\n",
    "problem.solve()"
   ]
  },
  {
   "cell_type": "markdown",
   "metadata": {},
   "source": [
    "## Problem 7"
   ]
  },
  {
   "cell_type": "code",
   "execution_count": 155,
   "metadata": {
    "collapsed": false,
    "scrolled": true
   },
   "outputs": [
    {
     "name": "stdout",
     "output_type": "stream",
     "text": [
      "Converged after 6 iterations\n",
      "Maximum Value = 7453.59649123\n",
      "(7453.5964912280688, {0: 10.0, 1: 6.192982456140351, 2: 12.0, 3: 1.7894736842105277, 6: 0.96596491228070169, 8: 13.807017543859651, 10: 8.2105263157894726}, {9: 0, 4: 0, 5: 0, 7: 0})\n"
     ]
    },
    {
     "name": "stderr",
     "output_type": "stream",
     "text": [
      "/Users/Geoff/anaconda/lib/python3.5/site-packages/ipykernel/__main__.py:46: RuntimeWarning: divide by zero encountered in double_scalars\n",
      "/Users/Geoff/anaconda/lib/python3.5/site-packages/ipykernel/__main__.py:47: RuntimeWarning: divide by zero encountered in double_scalars\n"
     ]
    }
   ],
   "source": [
    "data = np.load('productMix.npz')\n",
    "A = data['A']\n",
    "p = data['p']\n",
    "M = data['m']\n",
    "d = data['d']\n",
    "m,n = A.shape\n",
    "for i in range(n):\n",
    "    A = np.concatenate((A, np.eye(1, j, i)))\n",
    "b = np.concatenate((M,d))\n",
    "problem = optimization(p, A, b)\n",
    "solution = problem.solve()\n",
    "print(solution)\n"
   ]
  }
 ],
 "metadata": {
  "anaconda-cloud": {},
  "kernelspec": {
   "display_name": "Python [default]",
   "language": "python",
   "name": "python3"
  },
  "language_info": {
   "codemirror_mode": {
    "name": "ipython",
    "version": 3
   },
   "file_extension": ".py",
   "mimetype": "text/x-python",
   "name": "python",
   "nbconvert_exporter": "python",
   "pygments_lexer": "ipython3",
   "version": "3.5.2"
  }
 },
 "nbformat": 4,
 "nbformat_minor": 1
}
