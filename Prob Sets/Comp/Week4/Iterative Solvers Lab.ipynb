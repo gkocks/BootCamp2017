{
 "cells": [
  {
   "cell_type": "markdown",
   "metadata": {},
   "source": [
    "## Problem 1"
   ]
  },
  {
   "cell_type": "code",
   "execution_count": 123,
   "metadata": {
    "collapsed": true
   },
   "outputs": [],
   "source": [
    "# Import packages\n",
    "import numpy as np\n",
    "from numpy import linalg as la\n",
    "from matplotlib import pyplot as plt"
   ]
  },
  {
   "cell_type": "code",
   "execution_count": 124,
   "metadata": {
    "collapsed": true
   },
   "outputs": [],
   "source": [
    "def jacobi(A, b, tol=0.01, maxiters=100):\n",
    "    \"\"\"Implements the Jacobi iterative solver method\"\"\"\n",
    "    x_old = np.random.random(len(b))\n",
    "    D = np.diag(np.diag(A))\n",
    "    D_inv = la.inv(D)\n",
    "    x_new = x_old + np.dot(D_inv, b-np.dot(A,x_old))\n",
    "    iterations = 1\n",
    "    error = np.inf\n",
    "    while error > tol and iterations < maxiters:\n",
    "        x_old = x_new\n",
    "        x_new = x_old + np.dot(D_inv, b-np.dot(A,x_old))\n",
    "        error = la.norm(x_old-x_new)\n",
    "        iterations += 1\n",
    "    print(\"Converged after \" + str(iterations) + \" iterations\")\n",
    "    return x_new"
   ]
  },
  {
   "cell_type": "code",
   "execution_count": 125,
   "metadata": {
    "collapsed": true
   },
   "outputs": [],
   "source": [
    "def diag_dom(n, num_entries=None):\n",
    "    \"\"\"Generate a strictly diagonally dominant (n, n) matrix.\n",
    "    Parameters:\n",
    "    n (int): The dimension of the system.\n",
    "    num_entries (int): The number of nonzero values.\n",
    "    Defaults to n^(3/2)-n.\n",
    "    Returns:\n",
    "    A ((n,n) ndarray): A (n, n) strictly diagonally dominant matrix.\n",
    "    \"\"\"\n",
    "    if num_entries is None:\n",
    "        num_entries = int(n**1.5) - n\n",
    "    A = np.zeros((n,n))\n",
    "    rows = np.random.choice(np.arange(0,n), size=num_entries)\n",
    "    cols = np.random.choice(np.arange(0,n), size=num_entries)\n",
    "    data = np.random.randint(-4, 4, size=num_entries)\n",
    "    for i in range(num_entries):\n",
    "        A[rows[i], cols[i]] = data[i]\n",
    "    for i in range(n):\n",
    "        A[i,i] = np.sum(np.abs(A[i])) + 1\n",
    "    return A"
   ]
  },
  {
   "cell_type": "code",
   "execution_count": 126,
   "metadata": {
    "collapsed": false,
    "scrolled": true
   },
   "outputs": [
    {
     "name": "stdout",
     "output_type": "stream",
     "text": [
      "[[ 1.  0.  0.]\n",
      " [ 0.  3.  0.]\n",
      " [ 0.  0.  1.]]\n"
     ]
    }
   ],
   "source": [
    "#Test the function\n",
    "\n",
    "A = diag_dom(3)\n",
    "b = np.random.random(3)\n",
    "print(A)"
   ]
  },
  {
   "cell_type": "code",
   "execution_count": 127,
   "metadata": {
    "collapsed": false,
    "scrolled": true
   },
   "outputs": [
    {
     "name": "stdout",
     "output_type": "stream",
     "text": [
      "Converged after 2 iterations\n"
     ]
    },
    {
     "data": {
      "text/plain": [
       "array([ 0.10012771,  0.03270133,  0.62663934])"
      ]
     },
     "execution_count": 127,
     "metadata": {},
     "output_type": "execute_result"
    }
   ],
   "source": [
    "jacobi(A, b)"
   ]
  },
  {
   "cell_type": "code",
   "execution_count": 128,
   "metadata": {
    "collapsed": false
   },
   "outputs": [
    {
     "name": "stdout",
     "output_type": "stream",
     "text": [
      "Converged after 2 iterations\n"
     ]
    },
    {
     "data": {
      "text/plain": [
       "True"
      ]
     },
     "execution_count": 128,
     "metadata": {},
     "output_type": "execute_result"
    }
   ],
   "source": [
    "np.allclose(np.dot(A,jacobi(A,b)),b)"
   ]
  },
  {
   "cell_type": "markdown",
   "metadata": {},
   "source": [
    "## Problem 2"
   ]
  },
  {
   "cell_type": "code",
   "execution_count": 129,
   "metadata": {
    "collapsed": true
   },
   "outputs": [],
   "source": [
    "def jacobi_plot(A, b, plot=False, tol=1e-15, maxiters=100):\n",
    "    x_old = np.random.random(len(b))\n",
    "    D = np.diag(np.diag(A))\n",
    "    D_inv = la.inv(D)\n",
    "    x_new = x_old + np.dot(D_inv, b-np.dot(A,x_old))\n",
    "    iterations = 1\n",
    "    error = la.norm(x_old-x_new)\n",
    "    errors =[error]\n",
    "    while error > tol and iterations < maxiters:\n",
    "        x_old = x_new\n",
    "        x_new = x_old + np.dot(D_inv, b-np.dot(A,x_old))\n",
    "        error = la.norm(x_old-x_new)\n",
    "        if plot == True:\n",
    "            errors.append(error)\n",
    "        iterations += 1\n",
    "    if plot == True:\n",
    "        iterate = np.linspace(1,len(errors),len(errors))\n",
    "        plt.semilogy(iterate, errors)\n",
    "        plt.show()\n",
    "    print(\"Converged after \" + str(iterations) + \" iterations\")\n",
    "    return x_new"
   ]
  },
  {
   "cell_type": "code",
   "execution_count": 130,
   "metadata": {
    "collapsed": false
   },
   "outputs": [
    {
     "data": {
      "image/png": "[encoded data removed]",
      "text/plain": [
       "<matplotlib.figure.Figure at 0x1071437b8>"
      ]
     },
     "metadata": {},
     "output_type": "display_data"
    },
    {
     "name": "stdout",
     "output_type": "stream",
     "text": [
      "Converged after 29 iterations\n"
     ]
    },
    {
     "data": {
      "text/plain": [
       "array([ 0.17223581,  0.06007131, -0.04959586,  0.07949034, -0.15987044,\n",
       "        0.36633636,  0.13014424,  0.22290133])"
      ]
     },
     "execution_count": 130,
     "metadata": {},
     "output_type": "execute_result"
    }
   ],
   "source": [
    "A = diag_dom(8)\n",
    "b = np.random.random(8)\n",
    "jacobi_plot(A,b,plot=True)"
   ]
  },
  {
   "cell_type": "code",
   "execution_count": 131,
   "metadata": {
    "collapsed": false
   },
   "outputs": [
    {
     "name": "stdout",
     "output_type": "stream",
     "text": [
      "Converged after 29 iterations\n"
     ]
    },
    {
     "data": {
      "text/plain": [
       "True"
      ]
     },
     "execution_count": 131,
     "metadata": {},
     "output_type": "execute_result"
    }
   ],
   "source": [
    "np.allclose(np.dot(A,jacobi_plot(A,b)),b)"
   ]
  },
  {
   "cell_type": "markdown",
   "metadata": {},
   "source": [
    "## Problem 3"
   ]
  },
  {
   "cell_type": "code",
   "execution_count": 144,
   "metadata": {
    "collapsed": true
   },
   "outputs": [],
   "source": [
    "def gauss(A, b, plot=False, tol=1e-15, maxiters=100):\n",
    "    \"\"\"Implements the Gauss-Seidel iterative method for linear systems\"\"\"\n",
    "    x_old = np.random.random(len(b))\n",
    "    x_new = np.zeros(len(x_old))\n",
    "    for i in range(len(x_old)):\n",
    "        x_new[i] = x_old[i] + (1/A[i,i])*(b[i] - np.dot((A[i,:]).T, x_old))\n",
    "    iterations = 1\n",
    "    error = la.norm(x_old-x_new)\n",
    "    errors = [error]\n",
    "    while error > tol and iterations < maxiters:\n",
    "        x_old = np.copy(x_new)\n",
    "        for i in range(len(x_old)):\n",
    "            x_new[i] = x_old[i] + (1/A[i,i])*(b[i] - np.dot((A[i,:]).T, x_old))\n",
    "        error = la.norm(x_old-x_new)\n",
    "        if plot == True:\n",
    "            errors.append(error)\n",
    "        iterations += 1\n",
    "    if plot == True:\n",
    "        iterate = np.linspace(1,len(errors),len(errors))\n",
    "        plt.semilogy(iterate, errors)\n",
    "        plt.show()\n",
    "    print(\"Converged after \" + str(iterations) + \" iterations\")\n",
    "    return x_new\n",
    "    "
   ]
  },
  {
   "cell_type": "code",
   "execution_count": 145,
   "metadata": {
    "collapsed": false
   },
   "outputs": [
    {
     "data": {
      "image/png": "[encoded data removed]",
      "text/plain": [
       "<matplotlib.figure.Figure at 0x106a0fe48>"
      ]
     },
     "metadata": {},
     "output_type": "display_data"
    },
    {
     "name": "stdout",
     "output_type": "stream",
     "text": [
      "Converged after 28 iterations\n"
     ]
    },
    {
     "data": {
      "text/plain": [
       "array([-0.14388286,  0.58643542, -0.06664874,  0.71109577,  0.40591758,\n",
       "        0.43292109,  0.3408273 ])"
      ]
     },
     "execution_count": 145,
     "metadata": {},
     "output_type": "execute_result"
    }
   ],
   "source": [
    "A = diag_dom(7)\n",
    "b = np.random.random(7)\n",
    "gauss(A,b,plot=True)"
   ]
  },
  {
   "cell_type": "markdown",
   "metadata": {},
   "source": [
    "## Problem 4"
   ]
  },
  {
   "cell_type": "code",
   "execution_count": 170,
   "metadata": {
    "collapsed": true
   },
   "outputs": [],
   "source": [
    "from scipy import sparse\n",
    "\n",
    "def gauss_sparse(A, b, tol=1e-15, maxiters=1000):\n",
    "    \"\"\"Implements the Gauss-Seidel iterative method for linear systems with sparse matrix A\"\"\"\n",
    "    x_old = np.random.random(len(b))\n",
    "    x_new = np.zeros(len(x_old))\n",
    "    for i in range(len(x_old)):\n",
    "        rowstart = A.indptr[i]\n",
    "        rowend = A.indptr[i+1]\n",
    "        Aix = A.data[rowstart:rowend] @ x_old[A.indices[rowstart:rowend]]\n",
    "        x_new[i] = x_old[i] + (1/A[i,i])*(b[i] - Aix)\n",
    "    iterations = 1\n",
    "    error = la.norm(x_old-x_new)\n",
    "    while error > tol and iterations < maxiters:\n",
    "        x_old = np.copy(x_new)\n",
    "        for i in range(len(x_old)):\n",
    "            rowstart = A.indptr[i]\n",
    "            rowend = A.indptr[i+1]\n",
    "            Aix = A.data[rowstart:rowend] @ x_old[A.indices[rowstart:rowend]]\n",
    "            x_new[i] = x_old[i] + (1/A[i,i])*(b[i] - Aix)\n",
    "        error = la.norm(x_old-x_new)\n",
    "        iterations += 1\n",
    "    print(\"Converged after \" + str(iterations) + \" iterations\")\n",
    "    return x_new"
   ]
  },
  {
   "cell_type": "code",
   "execution_count": 171,
   "metadata": {
    "collapsed": false
   },
   "outputs": [
    {
     "name": "stdout",
     "output_type": "stream",
     "text": [
      "Converged after 39 iterations\n",
      "[ 0.1239202   0.08028232  0.08650948  0.05660014  0.19390746  0.17209761\n",
      "  0.18239213 -0.11351661  0.06619946  0.26465755]\n"
     ]
    }
   ],
   "source": [
    "from scipy import sparse\n",
    "A = sparse.csr_matrix(diag_dom(10))\n",
    "b = np.random.random(10)\n",
    "x = np.array(gauss_sparse(A,b))\n",
    "print(x)"
   ]
  },
  {
   "cell_type": "code",
   "execution_count": 172,
   "metadata": {
    "collapsed": false,
    "scrolled": true
   },
   "outputs": [
    {
     "data": {
      "text/plain": [
       "True"
      ]
     },
     "execution_count": 172,
     "metadata": {},
     "output_type": "execute_result"
    }
   ],
   "source": [
    "np.allclose(np.dot(A.toarray(),x),b)"
   ]
  },
  {
   "cell_type": "markdown",
   "metadata": {},
   "source": [
    "## Problem 5"
   ]
  },
  {
   "cell_type": "code",
   "execution_count": 175,
   "metadata": {
    "collapsed": true
   },
   "outputs": [],
   "source": [
    "def OR_gauss_sparse(A, b, w=1, tol=1e-15, maxiters=1000):\n",
    "    \"\"\"Implements the Gauss-Seidel iterative method for linear systems\n",
    "    and successive over-relaxation with parameter w\"\"\"\n",
    "    x_old = np.random.random(len(b))\n",
    "    x_new = np.zeros(len(x_old))\n",
    "    for i in range(len(x_old)):\n",
    "        rowstart = A.indptr[i]\n",
    "        rowend = A.indptr[i+1]\n",
    "        Aix = A.data[rowstart:rowend] @ x_old[A.indices[rowstart:rowend]]\n",
    "        x_new[i] = x_old[i] + (w/A[i,i])*(b[i] - Aix)\n",
    "    iterations = 1\n",
    "    error = la.norm(x_old-x_new)\n",
    "    while error > tol and iterations < maxiters:\n",
    "        x_old = np.copy(x_new)\n",
    "        for i in range(len(x_old)):\n",
    "            rowstart = A.indptr[i]\n",
    "            rowend = A.indptr[i+1]\n",
    "            Aix = A.data[rowstart:rowend] @ x_old[A.indices[rowstart:rowend]]\n",
    "            x_new[i] = x_old[i] + (w/A[i,i])*(b[i] - Aix)\n",
    "        error = la.norm(x_old-x_new)\n",
    "        iterations += 1\n",
    "    print(\"Converged after \" + str(iterations) + \" iterations\")\n",
    "    return x_new\n",
    "    "
   ]
  },
  {
   "cell_type": "code",
   "execution_count": 176,
   "metadata": {
    "collapsed": false
   },
   "outputs": [
    {
     "name": "stdout",
     "output_type": "stream",
     "text": [
      "Converged after 130 iterations\n",
      "[-0.02227792  0.08732029 -0.08349461  0.47545387  0.05408998  0.19117557\n",
      "  0.7161584   0.1076911   0.2915765  -0.09329911]\n"
     ]
    }
   ],
   "source": [
    "from scipy import sparse\n",
    "A = sparse.csr_matrix(diag_dom(10))\n",
    "b = np.random.random(10)\n",
    "x = np.array(OR_gauss_sparse(A,b, w=0.5))\n",
    "print(x)"
   ]
  },
  {
   "cell_type": "code",
   "execution_count": 177,
   "metadata": {
    "collapsed": false
   },
   "outputs": [
    {
     "data": {
      "text/plain": [
       "True"
      ]
     },
     "execution_count": 177,
     "metadata": {},
     "output_type": "execute_result"
    }
   ],
   "source": [
    "np.allclose(np.dot(A.toarray(),x),b)"
   ]
  },
  {
   "cell_type": "markdown",
   "metadata": {},
   "source": [
    "## Problem 6"
   ]
  },
  {
   "cell_type": "code",
   "execution_count": 228,
   "metadata": {
    "collapsed": false
   },
   "outputs": [],
   "source": [
    "def laplace(n, w, plot=False, tol = 1e-8, maxiters=100):\n",
    "    #Construct large A matrix\n",
    "    A = np.eye(n**2)\n",
    "    A = -4*A\n",
    "    for i in range(1, n**2-1):\n",
    "        A[i, i+1] = 1\n",
    "        A[i, i-1] = 1\n",
    "    A[0,1] = 1\n",
    "    A[n**2-1, n**2-2] = 1\n",
    "    for i in range(n, n**2-n):\n",
    "        A[i, i+n] = 1\n",
    "        A[i, i-n] = 1\n",
    "    for i in range(n):\n",
    "        A[i, i+n] = 1\n",
    "    for i in range(n**2-n,n**2):\n",
    "        A[i, i-n] = 1\n",
    "    for i in range(n):\n",
    "        A[i*n-1, i*n] = 0\n",
    "    for i in range(n):\n",
    "        A[i*n, i*n-1] = 0\n",
    "    #Construct b matrix\n",
    "    b1 = np.zeros(n)\n",
    "    b1[0] = -100\n",
    "    b1[n-1] = -100\n",
    "    b = np.tile(b1,n)\n",
    "    sA = sparse.csr_matrix(A)\n",
    "    sol = np.array(OR_gauss_sparse(sA,b, w=0.5, tol=tol, maxiters=maxiters))\n",
    "    sol_reshape = np.reshape(sol,(n,n))\n",
    "    if plot == True:\n",
    "        x_vals = np.arange(n+1)\n",
    "        y_vals = np.arange(n+1)\n",
    "        plt.pcolormesh(x_vals, y_vals, sol_reshape, cmap='coolwarm')\n",
    "        plt.colorbar() \n",
    "        plt.show()\n",
    "    return sol_reshape\n",
    "         "
   ]
  },
  {
   "cell_type": "code",
   "execution_count": 230,
   "metadata": {
    "collapsed": false
   },
   "outputs": [
    {
     "name": "stdout",
     "output_type": "stream",
     "text": [
      "Converged after 200 iterations\n"
     ]
    },
    {
     "data": {
      "image/png": "[encoded data removed]",
      "text/plain": [
       "<matplotlib.figure.Figure at 0x10806e908>"
      ]
     },
     "metadata": {},
     "output_type": "display_data"
    },
    {
     "data": {
      "text/plain": [
       "array([[ 49.5595525 ,  29.39879517,  19.79672969,  14.53358945,\n",
       "         11.39797174,   9.50816069,   8.48214672,   8.155606  ,\n",
       "          8.48216257,   9.50818997,  11.39801   ,  14.53363086,\n",
       "         19.79676795,  29.39882445,  49.55956835],\n",
       "       [ 68.87338049,  48.30548649,  35.35112228,  27.06246554,\n",
       "         21.69439892,  18.31268165,  16.43474384,  15.83133102,\n",
       "         16.43477485,  18.31273895,  21.69447379,  27.06254658,\n",
       "         35.35119716,  48.3055438 ,  68.8734115 ],\n",
       "       [ 77.69510474,  59.72925674,  46.4292597 ,  36.91163491,\n",
       "         30.28743885,  25.92756298,  23.44611181,  22.63995364,\n",
       "         23.44615666,  25.92764584,  30.28754711,  36.9117521 ,\n",
       "         46.42936797,  59.72933961,  77.69514959],\n",
       "       [ 82.27449225,  66.67677222,  54.00004051,  44.21705044,\n",
       "         37.02691637,  32.12003606,  29.26601081,  28.3294144 ,\n",
       "         29.26606758,  32.12014095,  37.02705342,  44.21719879,\n",
       "         54.00017756,  66.67687712,  82.27454902],\n",
       "       [ 84.84916713,  70.94458208,  59.02706828,  49.37461092,\n",
       "         42.00587605,  36.8399868 ,  33.784202  ,  32.77327776,\n",
       "         33.7842683 ,  36.84010931,  42.00603612,  49.37478418,\n",
       "         59.02722835,  70.9447046 ,  84.84923344],\n",
       "       [ 86.32229861,  73.50900653,  62.20053541,  52.77165459,\n",
       "         45.39659196,  40.13215387,  36.98146092,  35.93318267,\n",
       "         36.98153401,  40.13228892,  45.39676842,  52.77184559,\n",
       "         62.20071188,  73.5091416 ,  86.32237171],\n",
       "       [ 87.09179182,  74.88379372,  63.95159676,  54.69617768,\n",
       "         47.35952492,  42.06865527,  38.88061191,  37.81635038,\n",
       "         38.88068882,  42.06879739,  47.35971061,  54.69637867,\n",
       "         63.95178245,  74.88393585,  87.09186874],\n",
       "       [ 87.33173692,  75.3173542 ,  64.51119161,  55.31899469,\n",
       "         48.0015262 ,  42.70704852,  39.50977055,  38.44125226,\n",
       "         39.50984823,  42.70719206,  48.00171375,  55.31919769,\n",
       "         64.51137917,  75.31749775,  87.33181461],\n",
       "       [ 87.09180225,  74.88381412,  63.95162621,  54.69621488,\n",
       "         47.35956824,  42.06870284,  38.88066175,  37.81640047,\n",
       "         38.8807372 ,  42.06884226,  47.3597504 ,  54.69641206,\n",
       "         63.95180838,  74.88395355,  87.09187771],\n",
       "       [ 86.32231789,  73.50904422,  62.20058983,  52.77172331,\n",
       "         45.39667199,  40.13224177,  36.98155301,  35.93327521,\n",
       "         36.98162341,  40.13237184,  45.39684194,  52.77190727,\n",
       "         62.20075979,  73.5091743 ,  86.32238829],\n",
       "       [ 84.84919232,  70.94463132,  59.02713937,  49.37470071,\n",
       "         42.00598062,  36.84010164,  33.78432232,  32.77339868,\n",
       "         33.7843851 ,  36.84021765,  42.00613218,  49.37486477,\n",
       "         59.02729094,  70.94474733,  84.84925511],\n",
       "       [ 82.27451951,  66.67682552,  54.00011746,  44.21714763,\n",
       "         37.02702955,  32.12016036,  29.26614104,  28.32954527,\n",
       "         29.26619399,  32.12025821,  37.02715739,  44.21728601,\n",
       "         54.00024531,  66.67692337,  82.27457247],\n",
       "       [ 77.69512993,  59.72930598,  46.42933079,  36.9117247 ,\n",
       "         30.28754341,  25.92767782,  23.44623213,  22.64007455,\n",
       "         23.44627345,  25.92775417,  30.28764317,  36.91183269,\n",
       "         46.42943056,  59.72938234,  77.69517125],\n",
       "       [ 68.87339977,  48.30552418,  35.35117669,  27.06253426,\n",
       "         21.69447894,  18.31276954,  16.43483592,  15.83142355,\n",
       "         16.43486424,  18.31282186,  21.6945473 ,  27.06260825,\n",
       "         35.35124505,  48.3055765 ,  68.87342808],\n",
       "       [ 49.55956293,  29.39881556,  19.79675914,  14.53362664,\n",
       "         11.39801505,   9.50820825,   8.48219655,   8.15565608,\n",
       "          8.48221094,   9.50823484,  11.39804979,  14.53366424,\n",
       "         19.79679387,  29.39884215,  49.55957732]])"
      ]
     },
     "execution_count": 230,
     "metadata": {},
     "output_type": "execute_result"
    }
   ],
   "source": [
    "laplace(15, 0.5, plot=True, tol=1e-6, maxiters=200)"
   ]
  },
  {
   "cell_type": "markdown",
   "metadata": {},
   "source": [
    "## Problem 7"
   ]
  },
  {
   "cell_type": "code",
   "execution_count": 235,
   "metadata": {
    "collapsed": true
   },
   "outputs": [],
   "source": [
    "#Modified Functions from above as helpers to return iterations\n",
    "\n",
    "def OR_gauss_sparse_iterations(A, b, w=1, tol=1e-15, maxiters=1000):\n",
    "    \"\"\"Returns he number of iterations required to complete OR Gauss sparse method\"\"\"\"\"\n",
    "    x_old = np.random.random(len(b))\n",
    "    x_new = np.zeros(len(x_old))\n",
    "    for i in range(len(x_old)):\n",
    "        rowstart = A.indptr[i]\n",
    "        rowend = A.indptr[i+1]\n",
    "        Aix = A.data[rowstart:rowend] @ x_old[A.indices[rowstart:rowend]]\n",
    "        x_new[i] = x_old[i] + (w/A[i,i])*(b[i] - Aix)\n",
    "    iterations = 1\n",
    "    error = la.norm(x_old-x_new)\n",
    "    while error > tol and iterations < maxiters:\n",
    "        x_old = np.copy(x_new)\n",
    "        for i in range(len(x_old)):\n",
    "            rowstart = A.indptr[i]\n",
    "            rowend = A.indptr[i+1]\n",
    "            Aix = A.data[rowstart:rowend] @ x_old[A.indices[rowstart:rowend]]\n",
    "            x_new[i] = x_old[i] + (w/A[i,i])*(b[i] - Aix)\n",
    "        error = la.norm(x_old-x_new)\n",
    "        iterations += 1\n",
    "    print(\"Converged after \" + str(iterations) + \" iterations\")\n",
    "    return iterations\n",
    "\n",
    "def laplace_iters(n, w, tol = 1e-2, maxiters=1000):\n",
    "    \"\"\"Returns the number of iterations required for convergence with given w\"\"\"\n",
    "    #Construct large A matrix\n",
    "    A = np.eye(n**2)\n",
    "    A = -4*A\n",
    "    for i in range(1, n**2-1):\n",
    "        A[i, i+1] = 1\n",
    "        A[i, i-1] = 1\n",
    "    A[0,1] = 1\n",
    "    A[n**2-1, n**2-2] = 1\n",
    "    for i in range(n, n**2-n):\n",
    "        A[i, i+n] = 1\n",
    "        A[i, i-n] = 1\n",
    "    for i in range(n):\n",
    "        A[i, i+n] = 1\n",
    "    for i in range(n**2-n,n**2):\n",
    "        A[i, i-n] = 1\n",
    "    for i in range(n):\n",
    "        A[i*n-1, i*n] = 0\n",
    "    for i in range(n):\n",
    "        A[i*n, i*n-1] = 0\n",
    "    #Construct b matrix\n",
    "    b1 = np.zeros(n)\n",
    "    b1[0] = -100\n",
    "    b1[n-1] = -100\n",
    "    b = np.tile(b1,n)\n",
    "    sA = sparse.csr_matrix(A)\n",
    "    w=w\n",
    "    iterations = np.array(OR_gauss_sparse_iterations(sA,b, w=w, tol=tol, maxiters=maxiters))\n",
    "    return iterations"
   ]
  },
  {
   "cell_type": "code",
   "execution_count": 238,
   "metadata": {
    "collapsed": true
   },
   "outputs": [],
   "source": [
    "import numpy as np\n",
    "\n",
    "# Function to determine the optimal value of w\n",
    "def get_w(w_vals, n):\n",
    "    best_w = None\n",
    "    best_iter = np.inf\n",
    "    iterations = []\n",
    "    for w in w_vals:\n",
    "        iters = laplace_iters(n,w)\n",
    "        iterations.append(iters)\n",
    "        if iters < best_iter:\n",
    "            best_iter = iters\n",
    "            best_w = w\n",
    "    return best_w, best_iter, iterations"
   ]
  },
  {
   "cell_type": "code",
   "execution_count": 239,
   "metadata": {
    "collapsed": false
   },
   "outputs": [
    {
     "name": "stdout",
     "output_type": "stream",
     "text": [
      "Converged after 611 iterations\n",
      "Converged after 1000 iterations\n",
      "Converged after 1000 iterations\n",
      "Converged after 1000 iterations\n",
      "Converged after 1000 iterations\n",
      "Converged after 1000 iterations\n",
      "Converged after 1000 iterations\n",
      "Converged after 1000 iterations\n",
      "Converged after 1000 iterations\n",
      "Converged after 1000 iterations\n",
      "Converged after 1000 iterations\n"
     ]
    },
    {
     "name": "stderr",
     "output_type": "stream",
     "text": [
      "/Users/Geoff/anaconda/lib/python3.5/site-packages/ipykernel/__main__.py:20: RuntimeWarning: invalid value encountered in double_scalars\n"
     ]
    },
    {
     "name": "stdout",
     "output_type": "stream",
     "text": [
      "Converged after 973 iterations\n",
      "Converged after 916 iterations\n",
      "Converged after 868 iterations\n",
      "Converged after 821 iterations\n",
      "Converged after 786 iterations\n",
      "Converged after 753 iterations\n",
      "Converged after 726 iterations\n",
      "Converged after 699 iterations\n",
      "Converged after 675 iterations\n"
     ]
    },
    {
     "data": {
      "text/plain": [
       "(1.0,\n",
       " array(611),\n",
       " [array(611),\n",
       "  array(1000),\n",
       "  array(1000),\n",
       "  array(1000),\n",
       "  array(1000),\n",
       "  array(1000),\n",
       "  array(1000),\n",
       "  array(1000),\n",
       "  array(1000),\n",
       "  array(1000),\n",
       "  array(1000),\n",
       "  array(973),\n",
       "  array(916),\n",
       "  array(868),\n",
       "  array(821),\n",
       "  array(786),\n",
       "  array(753),\n",
       "  array(726),\n",
       "  array(699),\n",
       "  array(675)])"
      ]
     },
     "execution_count": 239,
     "metadata": {},
     "output_type": "execute_result"
    }
   ],
   "source": [
    "w_vals = np.linspace(1.0,1.95,20)\n",
    "get_w(w_vals, 20)"
   ]
  },
  {
   "cell_type": "code",
   "execution_count": 242,
   "metadata": {
    "collapsed": false
   },
   "outputs": [
    {
     "data": {
      "image/png": "[encoded data removed]",
      "text/plain": [
       "<matplotlib.figure.Figure at 0x1066e36d8>"
      ]
     },
     "metadata": {},
     "output_type": "display_data"
    }
   ],
   "source": [
    "iterations = np.array([611,1000,1000,1000,1000,1000,1000,1000,1000,1000,1000,973,916,868,821,786,753,726,699,675])\n",
    "plt.plot(w_vals,iterations)\n",
    "plt.axis([0.8, 2.0, 500, 1200])\n",
    "plt.title(\"Number of Iterations vs. w\")\n",
    "plt.xlabel(\"w\")\n",
    "plt.ylabel(\"Number of iterations\")\n",
    "plt.show()"
   ]
  },
  {
   "cell_type": "markdown",
   "metadata": {},
   "source": [
    "Based on our values of w tested, w=1.0 resulted in the smallest number of iterations required until convergence."
   ]
  }
 ],
 "metadata": {
  "anaconda-cloud": {},
  "kernelspec": {
   "display_name": "Python [default]",
   "language": "python",
   "name": "python3"
  },
  "language_info": {
   "codemirror_mode": {
    "name": "ipython",
    "version": 3
   },
   "file_extension": ".py",
   "mimetype": "text/x-python",
   "name": "python",
   "nbconvert_exporter": "python",
   "pygments_lexer": "ipython3",
   "version": "3.5.2"
  }
 },
 "nbformat": 4,
 "nbformat_minor": 1
}
