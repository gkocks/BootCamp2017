{
 "cells": [
  {
   "cell_type": "code",
   "execution_count": 1,
   "metadata": {
    "collapsed": false
   },
   "outputs": [],
   "source": [
    "# Problem 1\n",
    "\n",
    "def arithmagic():\n",
    "    step_1 = input(\"Enter a 3-digit number where the first and last \"\n",
    "    \"digits differ by 2 or more: \")\n",
    "    if int(step_1) > 999 or int(step_1) < 100:\n",
    "        raise ValueError(\"The first number must be a three digit number.\")\n",
    "    hundreds = int(step_1[0])\n",
    "    ones = int(step_1[2])\n",
    "    if hundreds - ones < 2 and hundreds - ones > -2:\n",
    "        raise ValueError(\"The first and last digits must differ by two or more.\")\n",
    "        \n",
    "    step_2 = input(\"Enter the reverse of the first number, obtained \"\n",
    "    \"by reading it backwards: \")\n",
    "    if step_2[0] != step_1[2] or step_2[2] != step_1[0] or step_2[1] != step_1[1]:\n",
    "        raise ValueError(\"The second number must be the reverse of the first number.\")\n",
    "    \n",
    "    step_3 = input(\"Enter the positive difference of these numbers: \")\n",
    "    if abs(int(step_1) - int(step_2)) != int(step_3):\n",
    "        raise ValueError(\"The third number must be the positive difference of the first two\")\n",
    "    \n",
    "    step_4 = input(\"Enter the reverse of the previous result: \")\n",
    "    if step_4[0] != step_3[2] or step_3[2] != step_4[0] or step_3[1] != step_4[1]:\n",
    "        raise ValueError(\"The fourth number must be the reverse of the third number.\")\n",
    "    \n",
    "    print(str(step_3) + \" + \" + str(step_4) + \" = 1089 (ta-da!)\")"
   ]
  },
  {
   "cell_type": "code",
   "execution_count": 19,
   "metadata": {
    "collapsed": false
   },
   "outputs": [
    {
     "name": "stdout",
     "output_type": "stream",
     "text": [
      "Enter a 3-digit number where the first and last digits differ by 2 or more: 205\n",
      "Enter the reverse of the first number, obtained by reading it backwards: 502\n",
      "Enter the positive difference of these numbers: 297\n",
      "Enter the reverse of the previous result: 792\n",
      "297 + 792 = 1089 (ta-da!)\n"
     ]
    }
   ],
   "source": [
    "arithmagic()"
   ]
  },
  {
   "cell_type": "markdown",
   "metadata": {},
   "source": [
    "Note: Why does the process work from Problem 1?\n",
    "\n",
    "The first number \"abc\" can be written as $100a + 10b + c.$\n",
    "When we reverse this number, we obtain $100c + 10b + a.$\n",
    "Assume that $a > c.$ The other case is exactly symmetric from this point on. \n",
    "The difference between these two numbers is: $$(100a + 10b + c) - (100c + 10b + a) = (a-c)100 + (c-a) = (a-c-1)100 + 90 + (c-a+10).$$\n",
    "\n",
    "When we compute the last equality, we are effectively carrying over a digit so that we can subtract from the unit digit. In step 4, the reverse of this number is $(c-a+10)100 + 90 + (a-c-1).$ Adding the two numbers together, we obtain:\n",
    "$$(a-c-1)100 + 90 + (c-a+10) + (c-a+10)100 + 90 + (a-c-1) = 900 + 180 + 9 = 1089.$$"
   ]
  },
  {
   "cell_type": "code",
   "execution_count": 13,
   "metadata": {
    "collapsed": true
   },
   "outputs": [],
   "source": [
    "# Problem 2\n",
    "\n",
    "from random import choice\n",
    "\n",
    "def random_walk(max_iters=1e12):\n",
    "    try:\n",
    "        walk = 0\n",
    "        direction = [1, -1]\n",
    "        for i in range(int(max_iters)):\n",
    "            walk += choice(direction)\n",
    "    except KeyboardInterrupt:\n",
    "        print(\"Process interrupted at iteration \" + str(i))\n",
    "    else:\n",
    "        print(\"Process completed\")\n",
    "    finally:\n",
    "        return walk"
   ]
  },
  {
   "cell_type": "code",
   "execution_count": 18,
   "metadata": {
    "collapsed": false
   },
   "outputs": [
    {
     "name": "stdout",
     "output_type": "stream",
     "text": [
      "Process completed\n"
     ]
    },
    {
     "data": {
      "text/plain": [
       "4"
      ]
     },
     "execution_count": 18,
     "metadata": {},
     "output_type": "execute_result"
    }
   ],
   "source": [
    "# Example output when allowed to run\n",
    "\n",
    "random_walk(1000)"
   ]
  },
  {
   "cell_type": "code",
   "execution_count": 17,
   "metadata": {
    "collapsed": false,
    "scrolled": true
   },
   "outputs": [
    {
     "name": "stdout",
     "output_type": "stream",
     "text": [
      "Process interrupted at iteration 4542828\n"
     ]
    },
    {
     "data": {
      "text/plain": [
       "-568"
      ]
     },
     "execution_count": 17,
     "metadata": {},
     "output_type": "execute_result"
    }
   ],
   "source": [
    "# Example output when interrupted\n",
    "\n",
    "random_walk(1e12)"
   ]
  },
  {
   "cell_type": "code",
   "execution_count": 74,
   "metadata": {
    "collapsed": false
   },
   "outputs": [],
   "source": [
    "# Problems 3 and 4\n",
    "\n",
    "class ContentFilter(object):\n",
    "    def __init__(self, filename):\n",
    "        if type(filename) is not str:\n",
    "            raise TypeError(\"File name must be a string\")\n",
    "        self.filename = filename\n",
    "        try:\n",
    "            myfile = open(self.filename, 'r')\n",
    "            self.contents = myfile.read()\n",
    "        finally:\n",
    "            myfile.close()\n",
    "    \n",
    "    def uniform(self, filename, mode='w', case='upper'):\n",
    "        if mode != 'w' and mode != 'a':\n",
    "            raise ValueError(\"You must enter the mode as 'w' or 'a.'\")\n",
    "        if case != 'upper' and case != 'lower':\n",
    "            raise ValueError(\"The case must be either 'upper' or 'lower.'\")\n",
    "        if case == 'lower':\n",
    "            output = self.contents.lower() \n",
    "        elif case == 'upper':\n",
    "            output = self.contents.upper()\n",
    "        with open(filename, mode) as myfile:\n",
    "            myfile.write(output)\n",
    "     \n",
    "    def reverse(self, filename, mode='w', unit='line'):\n",
    "        if mode != 'w' and mode != 'a':\n",
    "            raise ValueError(\"You must enter the mode as 'w' or 'a.'\")\n",
    "        if unit != 'line' and unit != 'word':\n",
    "            raise ValueError(\"The unit must be either 'line' or 'word.'\")\n",
    "        lines = self.contents.split('\\n')\n",
    "        if unit == 'line':\n",
    "            lines.reverse()\n",
    "            output = \"\\n\".join(lines)\n",
    "        elif unit == 'word':\n",
    "            length = len(lines)\n",
    "            for i in range(length):\n",
    "                line_rev = lines[i].split()\n",
    "                line_rev.reverse()\n",
    "                lines[i] = ' '.join(line_rev)\n",
    "            output = \"\\n\".join(lines)\n",
    "        with open(filename, mode) as myfile:\n",
    "            myfile.write(output)\n",
    "            \n",
    "    def transpose(self, filename, mode='w'):\n",
    "        if mode != 'w' and mode != 'a':\n",
    "            raise ValueError(\"You must enter the mode as 'w' or 'a.'\")\n",
    "        #Determine how many rows we will need in the final output\n",
    "        lines = self.contents.split('\\n')\n",
    "        rows = 0\n",
    "        new_lines = []\n",
    "        for line in lines:\n",
    "            if len(line.split()) > rows:\n",
    "                rows = len(line.split())\n",
    "        for i in range(rows):\n",
    "            new_words=[]\n",
    "            for j in range(len(lines)):\n",
    "                words = lines[j].split()\n",
    "                if i<len(words):\n",
    "                    new_words.append(words[i])\n",
    "            new_lines.append(' '.join(new_words))\n",
    "        output = \"\\n\".join(new_lines)\n",
    "        with open(filename, mode) as myfile:\n",
    "            myfile.write(output)\n",
    "            \n",
    "    def __str__(self):\n",
    "        characters = len(self.contents)\n",
    "        alpha = 0\n",
    "        numerical = 0\n",
    "        for charac in self.contents:\n",
    "            if charac.isalpha():\n",
    "                alpha += 1\n",
    "            elif charac.isdigit():\n",
    "                numerical += 1\n",
    "        whitespace = characters - alpha - numerical\n",
    "        lines = len(self.contents.split('\\n'))\n",
    "        return \"Total Characters: \" + str(characters) + '\\n' + \"Alphabetic Characters: \" + str(alpha) + '\\n' + \\\n",
    "    \"Numerical Characters: \"+ str(numerical) + '\\n' + \\\n",
    "    \"Whitespace Characters: \" + str(whitespace) + \\\n",
    "              '\\n' + \"Number of Lines: \" + str(lines)\n",
    "        "
   ]
  }
 ],
 "metadata": {
  "anaconda-cloud": {},
  "kernelspec": {
   "display_name": "Python [default]",
   "language": "python",
   "name": "python3"
  },
  "language_info": {
   "codemirror_mode": {
    "name": "ipython",
    "version": 3
   },
   "file_extension": ".py",
   "mimetype": "text/x-python",
   "name": "python",
   "nbconvert_exporter": "python",
   "pygments_lexer": "ipython3",
   "version": "3.5.2"
  }
 },
 "nbformat": 4,
 "nbformat_minor": 1
}
