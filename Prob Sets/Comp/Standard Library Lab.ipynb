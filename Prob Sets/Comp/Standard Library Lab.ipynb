{
 "cells": [
  {
   "cell_type": "code",
   "execution_count": 1,
   "metadata": {
    "collapsed": false
   },
   "outputs": [
    {
     "name": "stdout",
     "output_type": "stream",
     "text": [
      "[-7, 6, 2.2]\n"
     ]
    }
   ],
   "source": [
    "#Problem 1\n",
    "\n",
    "def minmaxavg(list):\n",
    "    return [min(list), max(list), sum(list)/len(list)]\n",
    "\n",
    "#Test case:\n",
    "list = [5, 6, -7, 3, 4]\n",
    "print(minmaxavg(list))"
   ]
  },
  {
   "cell_type": "code",
   "execution_count": 2,
   "metadata": {
    "collapsed": false
   },
   "outputs": [
    {
     "name": "stdout",
     "output_type": "stream",
     "text": [
      "False\n",
      "False\n",
      "True\n",
      "False\n",
      "True\n",
      "Based on these tests, Python dictionaries and lists are mutable, while tuples, strings, and numbers are immutable.\n"
     ]
    }
   ],
   "source": [
    "#Problem 2\n",
    "\n",
    "#1. Numbers\n",
    "number1 = 23\n",
    "number2 = number1\n",
    "number2 += 1\n",
    "print(number1==number2)\n",
    "\n",
    "#2. Strings\n",
    "string1 = 'OSM'\n",
    "string2 = string1\n",
    "string2 = string2+\"a\"\n",
    "print(string1==string2)\n",
    "\n",
    "#3. Lists\n",
    "list1 = ['OSM','Lab']\n",
    "list2 = list1\n",
    "list2.append(1)\n",
    "print(list1==list2)\n",
    "\n",
    "#4. Tuples\n",
    "tuple1 = (\"OSM\",\"Lab\")\n",
    "tuple2 = tuple1\n",
    "tuple2 += (1,)\n",
    "print(tuple1==tuple2)\n",
    "\n",
    "#5. Dictionaries\n",
    "dict1 = {1:'x',2:'b'}\n",
    "dict2 = dict1\n",
    "dict2[1] = 'a'\n",
    "print(dict1==dict2)\n",
    "\n",
    "print('Based on these tests, Python dictionaries and lists are mutable, while tuples, strings, and numbers are immutable.')"
   ]
  },
  {
   "cell_type": "code",
   "execution_count": 3,
   "metadata": {
    "collapsed": false
   },
   "outputs": [
    {
     "name": "stdout",
     "output_type": "stream",
     "text": [
      "5.0\n"
     ]
    }
   ],
   "source": [
    "#Problem 3\n",
    "\n",
    "import calculator as c\n",
    "\n",
    "def hypotenuse(a,b):\n",
    "    a_sq = c.product(a,a)\n",
    "    b_sq = c.product(b,b)\n",
    "    hyp_sq = c.add(a_sq, b_sq)\n",
    "    return c.root(hyp_sq)\n",
    "\n",
    "#test case:\n",
    "print(hypotenuse(3,4))\n"
   ]
  },
  {
   "cell_type": "code",
   "execution_count": 20,
   "metadata": {
    "collapsed": false
   },
   "outputs": [
    {
     "name": "stdout",
     "output_type": "stream",
     "text": [
      "Player name:Geoff\n",
      "Numbers left: 123456789\n",
      "Roll: 6\n",
      "Numbers to eliminate: 4 2\n",
      "Numbers left: 1356789\n",
      "Roll: 10\n",
      "Numbers to eliminate: 4,\n",
      "Invalid input\n",
      "Numbers to eliminate: 9 1\n",
      "Numbers left: 35678\n",
      "Roll: 4\n",
      "Game over!\n",
      "\n",
      "Score for player Geoff: 29 points\n"
     ]
    }
   ],
   "source": [
    "#Problem 4\n",
    "#Shut the Box Game\n",
    "\n",
    "import box as b\n",
    "import random \n",
    "from itertools import combinations\n",
    "\n",
    "numbers = [1,2,3,4,5,6,7,8,9]\n",
    "\n",
    "def roll(numbers):\n",
    "    \"\"\"Rolls two dice or one die depending on the sum of the numbers left to be eliminated.\n",
    "    \"\"\"\n",
    "    if sum(numbers) <= 6:\n",
    "        return random.randint(1,6)\n",
    "    else:\n",
    "        return random.randint(1,6) + random.randint(1,6)\n",
    "    \n",
    "def cont(roll, numbers):\n",
    "    \"\"\"Determines whether the game should be continued based on whether there is a combination of remaining entries that sum up to the roll, taken from box package\n",
    "    \"\"\"\n",
    "    for i in range(1, len(numbers)+1):\n",
    "        if any([sum(combo) == roll for combo in combinations(numbers, i)]):\n",
    "            return True\n",
    "    return False\n",
    "\n",
    "def score(numbers, name):\n",
    "    \"\"\"Prints the final score for the player at the end of the game\n",
    "    \"\"\"\n",
    "    return \"Score for player \" + name + \": \" + str(sum(numbers)) + \" points\"\n",
    "\n",
    "def valid(answer, numbers, outcome):\n",
    "    \"\"\"Determines if a player submits a valid entry of numbers separated by spaces\n",
    "    \"\"\"\n",
    "    if answer.strip('1234567890 '):\n",
    "        return False\n",
    "    if len(set(numbers)) != len(numbers):\n",
    "        return False\n",
    "    elif sum([int(i) for i in answer.split()]) != outcome:\n",
    "        return False\n",
    "    elif any([number not in numbers for number in [int(i) for i in answer.split()]]):\n",
    "        return False\n",
    "    else:\n",
    "        return True\n",
    "\n",
    "turn = 0\n",
    "while turn == 0:\n",
    "    name = input(\"Player name:\")\n",
    "    turn = turn + 1\n",
    "    \n",
    "while turn == 1:\n",
    "    outcome = roll(numbers)\n",
    "    if cont(outcome, numbers) is True:\n",
    "        print(\"Numbers left: \" + ''.join(str(e) for e in numbers))\n",
    "        print(\"Roll: \" + str(outcome))\n",
    "        answer = input(\"Numbers to eliminate: \")\n",
    "        while valid(answer, numbers, outcome) is False:\n",
    "            print(\"Invalid input\")\n",
    "            answer = input(\"Numbers to eliminate: \")\n",
    "        entries = [int(i) for i in answer.split()]\n",
    "        for entry in entries:\n",
    "            numbers.remove(entry)\n",
    "    elif sum(numbers) == 0:\n",
    "        print(score(numbers, name))\n",
    "        print(\"Congratulations! You shut the box!\")\n",
    "    elif cont(roll, numbers) is False:\n",
    "        print(\"Numbers left: \" + ''.join(str(e) for e in numbers))\n",
    "        print(\"Roll: \" + str(outcome))\n",
    "        print(\"Game over!\")\n",
    "        print(\"\")\n",
    "        print(score(numbers, name))\n",
    "        turn += 1"
   ]
  }
 ],
 "metadata": {
  "anaconda-cloud": {},
  "kernelspec": {
   "display_name": "Python [default]",
   "language": "python",
   "name": "python3"
  },
  "language_info": {
   "codemirror_mode": {
    "name": "ipython",
    "version": 3
   },
   "file_extension": ".py",
   "mimetype": "text/x-python",
   "name": "python",
   "nbconvert_exporter": "python",
   "pygments_lexer": "ipython3",
   "version": "3.5.2"
  }
 },
 "nbformat": 4,
 "nbformat_minor": 1
}
