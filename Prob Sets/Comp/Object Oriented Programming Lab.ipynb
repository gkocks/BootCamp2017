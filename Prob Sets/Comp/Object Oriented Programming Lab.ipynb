{
 "cells": [
  {
   "cell_type": "code",
   "execution_count": 38,
   "metadata": {
    "collapsed": false
   },
   "outputs": [
    {
     "name": "stdout",
     "output_type": "stream",
     "text": [
      "Owner: Fred\n",
      "Color: red\n",
      "Size: 0\n",
      "Max Size: 5\n",
      "Contents: []\n",
      "\n",
      "\n",
      "False\n"
     ]
    }
   ],
   "source": [
    "# Problems 1 (initialization) and 3 (magic methods)\n",
    "\n",
    "class Backpack(object):\n",
    "    def __init__(self, name, color, max_size = 5):\n",
    "        self.name = name\n",
    "        self.color = color\n",
    "        self.max_size = max_size\n",
    "        self.contents = []\n",
    "        \n",
    "    def put(self, item):\n",
    "        if len(self.contents) <= 4:\n",
    "            self.contents.append(item)\n",
    "        else:\n",
    "            print(\"No room!\")\n",
    "        \n",
    "    def take(self, item):\n",
    "        self.contents.remove(item)\n",
    "        \n",
    "    def dump(self):\n",
    "        self.contents = []\n",
    "        \n",
    "    def __add__(self, other):\n",
    "        \"\"\"Add the number of contents of each Backpack.\"\"\"\n",
    "        return len(self.contents) + len(other.contents)\n",
    "    \n",
    "    def __lt__(self, other):\n",
    "        \"\"\"Compare two backpacks. If 'self' has fewer contents\n",
    "        than 'other', return True. Otherwise, return False.\n",
    "        \"\"\"\n",
    "        return len(self.contents) < len(other.contents)\n",
    "    \n",
    "    def __eq__(self, other):\n",
    "        \"\"\"Compare two backpacks. If they have the same name,\n",
    "        color, and number of contents then they are equal\"\"\"\n",
    "        return (len(self.contents)==len(other.contents))&(self.name==other.name)&(self.color==other.color)\n",
    "    \n",
    "    def __str__(self):\n",
    "        \"\"\"Print the output of any backpack.\"\"\"\n",
    "        return \"Owner: \" + self.name + '\\n' + \"Color: \" + self.color + '\\n' + \"Size: \" \\\n",
    "              + str(len(self.contents)) + '\\n' + \"Max Size: \" + str(self.max_size) + \\\n",
    "              '\\n' + \"Contents: \" + str(self.contents) \n",
    "\n",
    "#Testing examples of the magic functions:\n",
    "backpack1 = Backpack(\"Fred\",\"red\")\n",
    "backpack2 = Backpack(\"Sue\",\"blue\")\n",
    "\n",
    "print(backpack1)\n",
    "print('\\n')\n",
    "print(backpack1 == backpack2)"
   ]
  },
  {
   "cell_type": "code",
   "execution_count": 39,
   "metadata": {
    "collapsed": false
   },
   "outputs": [],
   "source": [
    "# Problem 2\n",
    "\n",
    "class Jetpack(Backpack):\n",
    "    def __init__(self, name, color, max_size = 2, fuel = 10):\n",
    "        self.name = name\n",
    "        self.color = color\n",
    "        self.max_size = max_size\n",
    "        self.fuel = fuel\n",
    "        self.contents = []\n",
    "        \n",
    "    def fly(self, amount):\n",
    "        if amount <= self.fuel:\n",
    "            self.fuel = self.fuel - amount\n",
    "        else:\n",
    "            print(\"Not enough fuel!\")\n",
    "    \n",
    "    def dump(self):\n",
    "        self.contents = []\n",
    "        self.fuel = 0\n"
   ]
  },
  {
   "cell_type": "code",
   "execution_count": 40,
   "metadata": {
    "collapsed": false
   },
   "outputs": [],
   "source": [
    "# Problem 4\n",
    "import math\n",
    "\n",
    "class ComplexNumber(object):\n",
    "    def __init__(self, real, imag):\n",
    "        self.real = real\n",
    "        self.imag = imag\n",
    "        \n",
    "    def conjugate(self):\n",
    "        \"\"\"Returns the complex conjugate of a complex number\"\"\"\n",
    "        return ComplexNumber(self.real, -self.imag)\n",
    "    \n",
    "    def __abs__(self):\n",
    "        \"\"\"Returns the norm of a complex number\"\"\"\n",
    "        return math.sqrt(self.real**2 + self.imag**2)\n",
    "    \n",
    "    def __lt__(self, other):\n",
    "        \"\"\"Returns whether the norm of a complex number is less than the norm of the other\"\"\"\n",
    "        return abs(self) < abs(other)\n",
    "    \n",
    "    def __gt__(self, other):\n",
    "        \"\"\"Returns whether the norm of a complex number is greater than the norm of the other\"\"\"\n",
    "        return abs(self) > abs(other)\n",
    "    \n",
    "    def __eq__(self, other):\n",
    "        \"\"\"Returns whether two complex numbers have the same real and imaginary parts\"\"\"\n",
    "        return self.imag == other.imag & self.real == other.real\n",
    "    \n",
    "    def __ne__(self, other):\n",
    "        \"\"\"Returns whether two complex numbers have different real and imaginary parts\"\"\"\n",
    "        return max(self.imag != other.imag,self.real != other.real)\n",
    "    \n",
    "    def __add__(self, other):\n",
    "        \"\"\"Adds two complex numbers to obtain a new complex number\"\"\"\n",
    "        new_real = self.real + other.real\n",
    "        new_imag = self.imag + other.imag\n",
    "        return ComplexNumber(new_real, new_imag)\n",
    "    \n",
    "    def __sub__(self, other):\n",
    "        \"\"\"Subtracts two complex numbers to obtain a new complex number\"\"\"\n",
    "        new_real = self.real - other.real\n",
    "        new_imag = self.imag - other.imag\n",
    "        return ComplexNumber(new_real, new_imag)\n",
    "    \n",
    "    def __mul__(self, other):\n",
    "        \"\"\"Multiplies two complex numbers to obtain a new complex number\"\"\"\n",
    "        new_real = self.real*other.real - self.imag*other.imag\n",
    "        new_imag = self.imag*other.real + other.imag*self.real\n",
    "        return ComplexNumber(new_real, new_imag)\n",
    "    \n",
    "    def __div__(self, other):\n",
    "        \"\"\"Divides two complex numbers to obtain a new complex number\"\"\"\n",
    "        if other.real == 0 and other.imag == 0:\n",
    "            raise ValueError(\"Whoops! You tried to divide by 0.\")\n",
    "        num = self*other.conjugate()\n",
    "        dom = (other.conjugate()*other*1.0).real\n",
    "        new_real = num.real/dom\n",
    "        new_imag = num.imag/dom\n",
    "        return ComplexNumber(new_real, new_imag)\n",
    "        "
   ]
  },
  {
   "cell_type": "code",
   "execution_count": null,
   "metadata": {
    "collapsed": true
   },
   "outputs": [],
   "source": []
  }
 ],
 "metadata": {
  "anaconda-cloud": {},
  "kernelspec": {
   "display_name": "Python [default]",
   "language": "python",
   "name": "python3"
  },
  "language_info": {
   "codemirror_mode": {
    "name": "ipython",
    "version": 3
   },
   "file_extension": ".py",
   "mimetype": "text/x-python",
   "name": "python",
   "nbconvert_exporter": "python",
   "pygments_lexer": "ipython3",
   "version": "3.5.2"
  }
 },
 "nbformat": 4,
 "nbformat_minor": 1
}
