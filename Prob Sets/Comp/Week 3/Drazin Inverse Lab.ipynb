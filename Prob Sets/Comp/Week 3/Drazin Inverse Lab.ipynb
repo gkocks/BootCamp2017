{
 "cells": [
  {
   "cell_type": "markdown",
   "metadata": {},
   "source": [
    "## Problem 1"
   ]
  },
  {
   "cell_type": "code",
   "execution_count": 1,
   "metadata": {
    "collapsed": true
   },
   "outputs": [],
   "source": [
    "import numpy as np\n",
    "from scipy import linalg as la\n",
    "\n",
    "def is_drazin(A, D, k):\n",
    "    product1 = np.dot(A,D)\n",
    "    product2 = np.dot(D,A)\n",
    "    exp1 = np.linalg.matrix_power(A, k+1)\n",
    "    exp0 = np.linalg.matrix_power(A, k)\n",
    "    product3 = np.dot(exp1, D)\n",
    "    product4 = np.dot(D,product1)\n",
    "    \n",
    "    if np.allclose(product1, product2) is False:\n",
    "        return False\n",
    "    elif np.allclose(product3, exp0) is False:\n",
    "        return False\n",
    "    elif np.allclose(product4, D) is False:\n",
    "        return False\n",
    "    else:\n",
    "        return True\n",
    "    "
   ]
  },
  {
   "cell_type": "code",
   "execution_count": 3,
   "metadata": {
    "collapsed": false
   },
   "outputs": [
    {
     "data": {
      "text/plain": [
       "True"
      ]
     },
     "execution_count": 3,
     "metadata": {},
     "output_type": "execute_result"
    }
   ],
   "source": [
    "#Test 1\n",
    "\n",
    "A = np.array([[1,3,0,0],[0,1,3,0],[0,0,1,3],[0,0,0,0]])\n",
    "D = np.array([[1,-3,9,81],[0,1,-3,-18],[0,0,1,3],[0,0,0,0]])\n",
    "\n",
    "is_drazin(A,D,1)"
   ]
  },
  {
   "cell_type": "code",
   "execution_count": 5,
   "metadata": {
    "collapsed": false
   },
   "outputs": [
    {
     "data": {
      "text/plain": [
       "True"
      ]
     },
     "execution_count": 5,
     "metadata": {},
     "output_type": "execute_result"
    }
   ],
   "source": [
    "#Test 2\n",
    "\n",
    "B = np.array([[1,1,3],[5,2,6],[-2,-1,-3]])\n",
    "D = np.zeros((3,3))\n",
    "\n",
    "is_drazin(B,D,3)"
   ]
  },
  {
   "cell_type": "code",
   "execution_count": 7,
   "metadata": {
    "collapsed": false
   },
   "outputs": [
    {
     "data": {
      "text/plain": [
       "False"
      ]
     },
     "execution_count": 7,
     "metadata": {},
     "output_type": "execute_result"
    }
   ],
   "source": [
    "#Test 3\n",
    "\n",
    "B = np.array([[3,1,4],[5,2,6],[-2,-1,-3]])\n",
    "D = np.zeros((3,3))\n",
    "\n",
    "is_drazin(B,D,3)"
   ]
  },
  {
   "cell_type": "markdown",
   "metadata": {},
   "source": [
    "## Problem 2"
   ]
  },
  {
   "cell_type": "code",
   "execution_count": 15,
   "metadata": {
    "collapsed": true
   },
   "outputs": [],
   "source": [
    "def drazin(A, tol):\n",
    "    \"\"\"Computes the Drazin inverse of an nxn matrix A\"\"\"\n",
    "    n = np.shape(A)[0]\n",
    "    f = lambda x: abs(x) > tol\n",
    "    Q1,S,k1 = la.schur(A, sort=f)\n",
    "    f = lambda x: abs(x) <= tol\n",
    "    Q2,T,k2 = la.schur(A, sort=f)\n",
    "    \n",
    "    U = np.concatenate((S[:,:k1],T[:,:n-k1]),axis=1)\n",
    "    Uinv = np.linalg.inv(U)\n",
    "    V = np.dot(np.dot(Uinv, A), U)\n",
    "    Z = np.zeros((n,n))\n",
    "    \n",
    "    if k1 != 0:\n",
    "        Minv = np.linalg.inv(V[:k1,:k1])\n",
    "        Z[:k1,:k1] = Minv\n",
    "        \n",
    "    return np.dot(np.dot(U,Z),Uinv)\n",
    "    "
   ]
  },
  {
   "cell_type": "code",
   "execution_count": 20,
   "metadata": {
    "collapsed": false
   },
   "outputs": [
    {
     "data": {
      "text/plain": [
       "True"
      ]
     },
     "execution_count": 20,
     "metadata": {},
     "output_type": "execute_result"
    }
   ],
   "source": [
    "#Testing Function\n",
    "\n",
    "A = np.random.random((4,4))\n",
    "D = drazin(A, 0.01)\n",
    "\n",
    "is_drazin(A,D,2)"
   ]
  },
  {
   "cell_type": "markdown",
   "metadata": {},
   "source": [
    "## Problem 3"
   ]
  },
  {
   "cell_type": "code",
   "execution_count": 102,
   "metadata": {
    "collapsed": false
   },
   "outputs": [],
   "source": [
    "from scipy.sparse import csgraph\n",
    "\n",
    "def resistance(A):\n",
    "    \"\"\"Accepts an nxn matrix of an undirected graph\n",
    "    Returns the effective resistance\n",
    "    Requires the csgraph package from scipy.spare\n",
    "    \"\"\"\n",
    "    L = csgraph.laplacian(A)\n",
    "    n = np.shape(A)[0]\n",
    "    R = np.zeros((n,n))\n",
    "    i = 0\n",
    "    while i < n:\n",
    "        L_star = np.copy(L)\n",
    "        identity = np.zeros(n)\n",
    "        identity[i] = 1\n",
    "        L_star[i] = identity\n",
    "        L_drazin = drazin(L_star, 0.001)\n",
    "        R[:,i] = np.diag(L_drazin)\n",
    "        R[i:i] = 0\n",
    "        i +=1\n",
    "    return R"
   ]
  },
  {
   "cell_type": "code",
   "execution_count": 103,
   "metadata": {
    "collapsed": false
   },
   "outputs": [
    {
     "name": "stdout",
     "output_type": "stream",
     "text": [
      "[[ 1.  1.  2.  3.]\n",
      " [ 1.  1.  1.  2.]\n",
      " [ 2.  1.  1.  1.]\n",
      " [ 3.  2.  1.  1.]]\n"
     ]
    }
   ],
   "source": [
    "#Test Case 1: Upper Left Example\n",
    "A = np.array([[1,1,0,0],[1,1,1,0],[0,1,1,1],[0,0,1,1]])\n",
    "print(resistance(A))"
   ]
  },
  {
   "cell_type": "code",
   "execution_count": 104,
   "metadata": {
    "collapsed": false,
    "scrolled": true
   },
   "outputs": [
    {
     "name": "stdout",
     "output_type": "stream",
     "text": [
      "[[ 1.          0.66666667  0.66666667]\n",
      " [ 0.66666667  1.          0.66666667]\n",
      " [ 0.66666667  0.66666667  1.        ]]\n"
     ]
    }
   ],
   "source": [
    "#Test Case 2: Triangle\n",
    "A = np.array([[1,1,1],[1,1,1],[1,1,1]])\n",
    "print(resistance(A))"
   ]
  },
  {
   "cell_type": "markdown",
   "metadata": {},
   "source": [
    "The output matches the test cases chosen so it appears that our function works!"
   ]
  },
  {
   "cell_type": "markdown",
   "metadata": {},
   "source": [
    "## Problem 4"
   ]
  },
  {
   "cell_type": "code",
   "execution_count": 122,
   "metadata": {
    "collapsed": true
   },
   "outputs": [],
   "source": [
    "class LinkPredictor:\n",
    "    def __init__(self, filename):\n",
    "        \n",
    "        #Initialize the list of to and from connections\n",
    "        self.a = []\n",
    "        self.b = []\n",
    "        with open(filename, 'r') as file:\n",
    "            lines = file.readlines()\n",
    "        for entry in lines:\n",
    "            connection = entry.split(',')\n",
    "            self.a.append(connection[0])\n",
    "            self.b.append(connection[1].strip())\n",
    "            \n",
    "        #Get the list of names\n",
    "        self.names = []\n",
    "        for name in self.a:\n",
    "            if name not in self.names:\n",
    "                self.names.append(name)\n",
    "        for name in self.b:\n",
    "            if name not in self.names:\n",
    "                self.names.append(name)\n",
    "        self.length = len(self.names)\n",
    "        \n",
    "        #Set up the network \n",
    "        network = []\n",
    "        i = 0\n",
    "        while i < self.length:\n",
    "            connections = np.zeros(self.length)\n",
    "            connections[i] = 1\n",
    "            name = self.names[i]\n",
    "            length2 = len(self.a)\n",
    "            j = 0\n",
    "            while j < length2:\n",
    "                if self.a[j] == name:\n",
    "                    partner = self.b[j]\n",
    "                    partner_pos = self.names.index(partner)\n",
    "                    connections[partner_pos] = 1\n",
    "                j += 1\n",
    "            \n",
    "            length3 = len(self.b)\n",
    "            k = 0\n",
    "            while k < length3:\n",
    "                if self.b[k] == name:\n",
    "                    partner = self.b[k]\n",
    "                    partner_pos = self.names.index(partner)\n",
    "                    connections[partner_pos] = 1\n",
    "                k += 1           \n",
    "            network.append(connections)\n",
    "            i += 1\n",
    "            \n",
    "        #Calculate connections and effective resistance\n",
    "        self.A = np.array(network)\n",
    "        self.A = self.A.astype(float)\n",
    "        self.R = resistance(self.A)\n",
    "        self.names = self.names\n",
    "        "
   ]
  }
 ],
 "metadata": {
  "anaconda-cloud": {},
  "kernelspec": {
   "display_name": "Python [default]",
   "language": "python",
   "name": "python3"
  },
  "language_info": {
   "codemirror_mode": {
    "name": "ipython",
    "version": 3
   },
   "file_extension": ".py",
   "mimetype": "text/x-python",
   "name": "python",
   "nbconvert_exporter": "python",
   "pygments_lexer": "ipython3",
   "version": "3.5.2"
  }
 },
 "nbformat": 4,
 "nbformat_minor": 1
}
