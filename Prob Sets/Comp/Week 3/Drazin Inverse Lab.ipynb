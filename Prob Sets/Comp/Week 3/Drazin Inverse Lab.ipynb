{
 "cells": [
  {
   "cell_type": "markdown",
   "metadata": {},
   "source": [
    "## Problem 1"
   ]
  },
  {
   "cell_type": "code",
   "execution_count": 1,
   "metadata": {
    "collapsed": true
   },
   "outputs": [],
   "source": [
    "import numpy as np\n",
    "from scipy import linalg as la\n",
    "\n",
    "def is_drazin(A, D, k):\n",
    "    product1 = np.dot(A,D)\n",
    "    product2 = np.dot(D,A)\n",
    "    exp1 = np.linalg.matrix_power(A, k+1)\n",
    "    exp0 = np.linalg.matrix_power(A, k)\n",
    "    product3 = np.dot(exp1, D)\n",
    "    product4 = np.dot(D,product1)\n",
    "    \n",
    "    if np.allclose(product1, product2) is False:\n",
    "        return False\n",
    "    elif np.allclose(product3, exp0) is False:\n",
    "        return False\n",
    "    elif np.allclose(product4, D) is False:\n",
    "        return False\n",
    "    else:\n",
    "        return True\n",
    "    "
   ]
  },
  {
   "cell_type": "code",
   "execution_count": 2,
   "metadata": {
    "collapsed": false
   },
   "outputs": [
    {
     "data": {
      "text/plain": [
       "True"
      ]
     },
     "execution_count": 2,
     "metadata": {},
     "output_type": "execute_result"
    }
   ],
   "source": [
    "#Test 1\n",
    "\n",
    "A = np.array([[1,3,0,0],[0,1,3,0],[0,0,1,3],[0,0,0,0]])\n",
    "D = np.array([[1,-3,9,81],[0,1,-3,-18],[0,0,1,3],[0,0,0,0]])\n",
    "\n",
    "is_drazin(A,D,1)"
   ]
  },
  {
   "cell_type": "code",
   "execution_count": 3,
   "metadata": {
    "collapsed": false
   },
   "outputs": [
    {
     "data": {
      "text/plain": [
       "True"
      ]
     },
     "execution_count": 3,
     "metadata": {},
     "output_type": "execute_result"
    }
   ],
   "source": [
    "#Test 2\n",
    "\n",
    "B = np.array([[1,1,3],[5,2,6],[-2,-1,-3]])\n",
    "D = np.zeros((3,3))\n",
    "\n",
    "is_drazin(B,D,3)"
   ]
  },
  {
   "cell_type": "code",
   "execution_count": 4,
   "metadata": {
    "collapsed": false
   },
   "outputs": [
    {
     "data": {
      "text/plain": [
       "False"
      ]
     },
     "execution_count": 4,
     "metadata": {},
     "output_type": "execute_result"
    }
   ],
   "source": [
    "#Test 3\n",
    "\n",
    "B = np.array([[3,1,4],[5,2,6],[-2,-1,-3]])\n",
    "D = np.zeros((3,3))\n",
    "\n",
    "is_drazin(B,D,3)"
   ]
  },
  {
   "cell_type": "markdown",
   "metadata": {},
   "source": [
    "## Problem 2"
   ]
  },
  {
   "cell_type": "code",
   "execution_count": 5,
   "metadata": {
    "collapsed": true
   },
   "outputs": [],
   "source": [
    "def drazin(A, tol):\n",
    "    \"\"\"Computes the Drazin inverse of an nxn matrix A\"\"\"\n",
    "    n = np.shape(A)[0]\n",
    "    f = lambda x: abs(x) > tol\n",
    "    Q1,S,k1 = la.schur(A, sort=f)\n",
    "    f = lambda x: abs(x) <= tol\n",
    "    Q2,T,k2 = la.schur(A, sort=f)\n",
    "    \n",
    "    U = np.concatenate((S[:,:k1],T[:,:n-k1]),axis=1)\n",
    "    Uinv = np.linalg.inv(U)\n",
    "    V = np.dot(np.dot(Uinv, A), U)\n",
    "    Z = np.zeros((n,n))\n",
    "    \n",
    "    if k1 != 0:\n",
    "        Minv = np.linalg.inv(V[:k1,:k1])\n",
    "        Z[:k1,:k1] = Minv\n",
    "        \n",
    "    return np.dot(np.dot(U,Z),Uinv)\n",
    "    "
   ]
  },
  {
   "cell_type": "code",
   "execution_count": 6,
   "metadata": {
    "collapsed": false
   },
   "outputs": [
    {
     "data": {
      "text/plain": [
       "True"
      ]
     },
     "execution_count": 6,
     "metadata": {},
     "output_type": "execute_result"
    }
   ],
   "source": [
    "#Testing Function\n",
    "\n",
    "A = np.random.random((4,4))\n",
    "D = drazin(A, 0.01)\n",
    "\n",
    "is_drazin(A,D,2)"
   ]
  },
  {
   "cell_type": "markdown",
   "metadata": {},
   "source": [
    "## Problem 3"
   ]
  },
  {
   "cell_type": "code",
   "execution_count": 85,
   "metadata": {
    "collapsed": false
   },
   "outputs": [],
   "source": [
    "from scipy.sparse import csgraph\n",
    "\n",
    "def resistance(A):\n",
    "    \"\"\"Accepts an nxn matrix of an undirected graph\n",
    "    Returns the effective resistance\n",
    "    Requires the csgraph package from scipy.spare\n",
    "    \"\"\"\n",
    "    L = csgraph.laplacian(A)\n",
    "    n = np.shape(A)[0]\n",
    "    R = np.zeros((n,n))\n",
    "    i = 0\n",
    "    while i < n:\n",
    "        L_star = np.copy(L)\n",
    "        identity = np.zeros(n)\n",
    "        identity[i] = 1\n",
    "        L_star[i] = identity\n",
    "        L_drazin = drazin(L_star, 0.001)\n",
    "        R[:,i] = np.diag(L_drazin)\n",
    "        R[i,i] = 0\n",
    "        i +=1\n",
    "    return R"
   ]
  },
  {
   "cell_type": "code",
   "execution_count": 86,
   "metadata": {
    "collapsed": false,
    "scrolled": true
   },
   "outputs": [
    {
     "name": "stdout",
     "output_type": "stream",
     "text": [
      "[[ 0.  1.  2.  3.]\n",
      " [ 1.  0.  1.  2.]\n",
      " [ 2.  1.  0.  1.]\n",
      " [ 3.  2.  1.  0.]]\n"
     ]
    }
   ],
   "source": [
    "#Test Case 1: Upper Left Example\n",
    "A = np.array([[1,1,0,0],[1,1,1,0],[0,1,1,1],[0,0,1,1]])\n",
    "print(resistance(A))"
   ]
  },
  {
   "cell_type": "code",
   "execution_count": 87,
   "metadata": {
    "collapsed": false,
    "scrolled": false
   },
   "outputs": [
    {
     "name": "stdout",
     "output_type": "stream",
     "text": [
      "[[ 0.          0.66666667  0.66666667]\n",
      " [ 0.66666667  0.          0.66666667]\n",
      " [ 0.66666667  0.66666667  0.        ]]\n"
     ]
    }
   ],
   "source": [
    "#Test Case 2: Triangle\n",
    "A = np.array([[1,1,1],[1,1,1],[1,1,1]])\n",
    "print(resistance(A))"
   ]
  },
  {
   "cell_type": "markdown",
   "metadata": {},
   "source": [
    "The output matches the test cases chosen so it appears that our function works!"
   ]
  },
  {
   "cell_type": "markdown",
   "metadata": {},
   "source": [
    "## Problems 4 and 5"
   ]
  },
  {
   "cell_type": "code",
   "execution_count": 197,
   "metadata": {
    "collapsed": false
   },
   "outputs": [],
   "source": [
    "import pandas as pd\n",
    "\n",
    "class LinkPredictor:\n",
    "    def __init__(self, filename):\n",
    "        \n",
    "        #Initialize the list of indices\n",
    "        a = []\n",
    "        b = []\n",
    "        with open(filename, 'r') as file:\n",
    "            connections = file.readlines()\n",
    "        for entry in connections:\n",
    "            connection = entry.split(',')\n",
    "            a.append(connection[0])\n",
    "            b.append(connection[1].strip())\n",
    "        names = np.column_stack((a,b))\n",
    "        m = np.shape(names)[0]\n",
    "        n = np.shape(names)[1] \n",
    "        person, pos = np.unique(names, return_inverse=True)\n",
    "        pos = pos.reshape((m,n))\n",
    "        \n",
    "        #Set up the network \n",
    "        k = len(person)\n",
    "        network = np.zeros([k,k], dtype=float)\n",
    "        i = 0\n",
    "        while i < m:\n",
    "            network[pos[i,0],pos[i,0]] = 1\n",
    "            network[pos[i,0],pos[i,1]] = 1\n",
    "            network[pos[i,1],pos[i,0]] = 1\n",
    "            i += 1\n",
    "        \n",
    "        #Calculate connections and effective resistance\n",
    "        self.A = network.astype(float)\n",
    "        self.R = resistance(network)\n",
    "        self.people = person\n",
    "            \n",
    "    #Problem 5 functions\n",
    "    def predict_link(self,node=None):\n",
    "        R2 = np.copy(self.R)\n",
    "        R2=R2*(self.A==0)\n",
    "        R2[R2==0]=np.max(R2)\n",
    "        if node is None:\n",
    "            minimum = np.min(R2)\n",
    "            loc = np.where(R2==minimum)\n",
    "            return (self.people[loc[0][0]],self.people[loc[1][0]])\n",
    "        else:\n",
    "            if node not in self.people:\n",
    "                raise ValueError(\"You must enter a valid name.\")\n",
    "            else:\n",
    "                position = np.where(self.people==node)\n",
    "                column = R2[:,position]\n",
    "                minimum = np.min(column)\n",
    "                loc = np.where(column==minimum)\n",
    "                return self.people[loc[0][0]]\n",
    "        \n",
    "    def add_link(self, node1, node2):\n",
    "        if node1 not in self.people:\n",
    "            raise ValueError(\"The first name entered is not valid.\")\n",
    "        elif node2 not in self.people:\n",
    "            raise ValueError(\"The second name entered is not valid.\")\n",
    "        else:\n",
    "            pos1 = np.where(self.people==node1)\n",
    "            pos2 = np.where(self.people==node2)\n",
    "            self.A[pos1, pos2] = 1\n",
    "            self.A[pos2, pos1] = 1\n",
    "            self.R = resistance(self.A)\n",
    "            print(\"Connected!\")"
   ]
  },
  {
   "cell_type": "code",
   "execution_count": 198,
   "metadata": {
    "collapsed": false,
    "scrolled": false
   },
   "outputs": [
    {
     "data": {
      "text/plain": [
       "('Oliver', 'Emily')"
      ]
     },
     "execution_count": 198,
     "metadata": {},
     "output_type": "execute_result"
    }
   ],
   "source": [
    "network = LinkPredictor('social_network.csv')\n",
    "network.predict_link()"
   ]
  },
  {
   "cell_type": "code",
   "execution_count": 199,
   "metadata": {
    "collapsed": false
   },
   "outputs": [
    {
     "data": {
      "text/plain": [
       "'Carol'"
      ]
     },
     "execution_count": 199,
     "metadata": {},
     "output_type": "execute_result"
    }
   ],
   "source": [
    "network.predict_link(\"Melanie\")"
   ]
  },
  {
   "cell_type": "code",
   "execution_count": 201,
   "metadata": {
    "collapsed": false
   },
   "outputs": [
    {
     "name": "stdout",
     "output_type": "stream",
     "text": [
      "Sonia\n",
      "Connected!\n"
     ]
    }
   ],
   "source": [
    "print(network.predict_link(\"Alan\"))\n",
    "network.add_link(\"Alan\",\"Sonia\")"
   ]
  },
  {
   "cell_type": "code",
   "execution_count": 202,
   "metadata": {
    "collapsed": false
   },
   "outputs": [
    {
     "name": "stdout",
     "output_type": "stream",
     "text": [
      "Piers\n",
      "Connected!\n"
     ]
    }
   ],
   "source": [
    "print(network.predict_link(\"Alan\"))\n",
    "network.add_link(\"Alan\",\"Piers\")"
   ]
  },
  {
   "cell_type": "code",
   "execution_count": 203,
   "metadata": {
    "collapsed": false
   },
   "outputs": [
    {
     "name": "stdout",
     "output_type": "stream",
     "text": [
      "Abigail\n",
      "Connected!\n"
     ]
    }
   ],
   "source": [
    "print(network.predict_link(\"Alan\"))\n",
    "network.add_link(\"Alan\",\"Abigail\")"
   ]
  }
 ],
 "metadata": {
  "anaconda-cloud": {},
  "kernelspec": {
   "display_name": "Python [default]",
   "language": "python",
   "name": "python3"
  },
  "language_info": {
   "codemirror_mode": {
    "name": "ipython",
    "version": 3
   },
   "file_extension": ".py",
   "mimetype": "text/x-python",
   "name": "python",
   "nbconvert_exporter": "python",
   "pygments_lexer": "ipython3",
   "version": "3.5.2"
  }
 },
 "nbformat": 4,
 "nbformat_minor": 1
}
