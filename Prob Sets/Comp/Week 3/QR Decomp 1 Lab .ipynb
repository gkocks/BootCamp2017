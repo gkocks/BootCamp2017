{
 "cells": [
  {
   "cell_type": "markdown",
   "metadata": {},
   "source": [
    "## Problem 1: Modified Gram-Schmidt"
   ]
  },
  {
   "cell_type": "code",
   "execution_count": 59,
   "metadata": {
    "collapsed": false,
    "scrolled": true
   },
   "outputs": [
    {
     "name": "stdout",
     "output_type": "stream",
     "text": [
      "[[ 0.70192829  0.12393982]\n",
      " [ 0.56785236  0.95715545]\n",
      " [ 0.09677499  0.29348275]\n",
      " [ 0.18955045  0.04483686]]\n"
     ]
    }
   ],
   "source": [
    "#Import libraries and initialize a random matrix A\n",
    "\n",
    "import numpy as np\n",
    "from scipy import linalg as la\n",
    "\n",
    "A = np.random.random((4,2))\n",
    "print(A)"
   ]
  },
  {
   "cell_type": "code",
   "execution_count": 60,
   "metadata": {
    "collapsed": true
   },
   "outputs": [],
   "source": [
    "def gram(A):\n",
    "    \"\"\"Modified Gram-Schmidt algorithm; takes in matrix A and gives QR decomposition\"\"\"\n",
    "    m = np.shape(A)[0]\n",
    "    n = np.shape(A)[1]\n",
    "    Q = np.copy(A)\n",
    "    R = np.zeros((n, n))\n",
    "    i = 0\n",
    "    while i <= n-1:\n",
    "        a = Q[:,i]\n",
    "        R[i][i] = np.linalg.norm(a)\n",
    "        Q[:,i] = a/R[i][i]\n",
    "        j = i + 1\n",
    "        while j <= n-1:\n",
    "            a = Q[:,i]\n",
    "            b = Q[:,j].T\n",
    "            R[i][j] = np.dot(b, a)\n",
    "            Q[:,j] = b-(R[i][j])*(Q[:,i])\n",
    "            j += 1\n",
    "        i += 1\n",
    "    return Q, R "
   ]
  },
  {
   "cell_type": "code",
   "execution_count": 61,
   "metadata": {
    "collapsed": false,
    "scrolled": true
   },
   "outputs": [
    {
     "name": "stdout",
     "output_type": "stream",
     "text": [
      "[[ 0.75670886 -0.59354132]\n",
      " [ 0.61216924  0.72928996]\n",
      " [ 0.1043276   0.30828684]\n",
      " [ 0.20434353 -0.1442362 ]]\n",
      "[[ 0.92760682  0.71950796]\n",
      " [ 0.          0.70849023]]\n"
     ]
    }
   ],
   "source": [
    "Q, R = gram(A)\n",
    "print(Q)\n",
    "print(R)"
   ]
  },
  {
   "cell_type": "code",
   "execution_count": 62,
   "metadata": {
    "collapsed": false
   },
   "outputs": [
    {
     "name": "stdout",
     "output_type": "stream",
     "text": [
      "[[-0.75670886  0.59354132]\n",
      " [-0.61216924 -0.72928996]\n",
      " [-0.1043276  -0.30828684]\n",
      " [-0.20434353  0.1442362 ]]\n",
      "[[-0.92760682 -0.71950796]\n",
      " [ 0.         -0.70849023]]\n"
     ]
    }
   ],
   "source": [
    "Q,R = la.qr(A, mode=\"economic\") # Use mode=\"economic\" for reduced QR.\n",
    "print(Q)\n",
    "print(R)"
   ]
  },
  {
   "cell_type": "markdown",
   "metadata": {
    "collapsed": true
   },
   "source": [
    "Our algorithm gives exactly the negative of SciPy's Gram-Schmidt algorithm. This is perfectly fine, as we proved in Problem Set 2 that these two factorizations are identical."
   ]
  },
  {
   "cell_type": "markdown",
   "metadata": {},
   "source": [
    "## Problem 2"
   ]
  },
  {
   "cell_type": "code",
   "execution_count": 69,
   "metadata": {
    "collapsed": true
   },
   "outputs": [],
   "source": [
    "def gram_det(A):\n",
    "    return abs((gram(A)[1]).diagonal().prod())"
   ]
  },
  {
   "cell_type": "code",
   "execution_count": 70,
   "metadata": {
    "collapsed": false
   },
   "outputs": [
    {
     "name": "stdout",
     "output_type": "stream",
     "text": [
      "The slowest run took 4.41 times longer than the fastest. This could mean that an intermediate result is being cached.\n",
      "10000 loops, best of 3: 97.6 µs per loop\n"
     ]
    }
   ],
   "source": [
    "#Output for a square matrix A\n",
    "A = np.random.random((4,4))\n",
    "gram_det(A)\n",
    "\n",
    "%timeit gram_det(A)"
   ]
  },
  {
   "cell_type": "code",
   "execution_count": 71,
   "metadata": {
    "collapsed": false
   },
   "outputs": [
    {
     "name": "stdout",
     "output_type": "stream",
     "text": [
      "The slowest run took 98.13 times longer than the fastest. This could mean that an intermediate result is being cached.\n",
      "100000 loops, best of 3: 11.7 µs per loop\n"
     ]
    }
   ],
   "source": [
    "#Check this determinant manually\n",
    "np.linalg.det(A)\n",
    "\n",
    "%timeit np.linalg.det(A)"
   ]
  },
  {
   "cell_type": "markdown",
   "metadata": {},
   "source": [
    "## Problem 3"
   ]
  },
  {
   "cell_type": "code",
   "execution_count": 84,
   "metadata": {
    "collapsed": true
   },
   "outputs": [],
   "source": [
    "def solver(A, b):\n",
    "    \"\"\"Solves equation of the form Ax=b where A is an nxn matrix\n",
    "    and b is a vector of length n using QR decomposition\"\"\"\n",
    "    Q = gram(A)[0]\n",
    "    R = gram(A)[1]\n",
    "    QT = Q.T\n",
    "    y = np.dot(QT, b)\n",
    "    \n",
    "    #Solve Rx = y for x using back substitution\n",
    "    n = np.size(y)\n",
    "    x = np.zeros(n)\n",
    "    \n",
    "    x[-1] = (y[-1])/R[-1, -1]\n",
    "    for i in range(n-2, -1, -1):\n",
    "        x[i] = (y[i] - np.sum(R[i, i+1:] * x[i+1:]))/R[i,i]\n",
    "    return x"
   ]
  },
  {
   "cell_type": "code",
   "execution_count": 85,
   "metadata": {
    "collapsed": false
   },
   "outputs": [
    {
     "name": "stdout",
     "output_type": "stream",
     "text": [
      "[[ 0.66091854  0.45313202  0.4139155   0.55141113]\n",
      " [ 0.27035871  0.0583324   0.08745433  0.35002164]\n",
      " [ 0.65276199  0.41572612  0.20805255  0.07086233]\n",
      " [ 0.84344145  0.32327592  0.41852578  0.98982664]]\n",
      "[[ 0.53292117]\n",
      " [ 0.73854891]\n",
      " [ 0.67050492]\n",
      " [ 0.04038322]]\n"
     ]
    },
    {
     "data": {
      "text/plain": [
       "array([-10.6127543 ,  36.04068599, -40.39841297,  14.39475469])"
      ]
     },
     "execution_count": 85,
     "metadata": {},
     "output_type": "execute_result"
    }
   ],
   "source": [
    "A = np.random.random((4,4))\n",
    "b = np.random.random((4,1))\n",
    "print(A)\n",
    "print(b)\n",
    "\n",
    "solver(A,b)"
   ]
  },
  {
   "cell_type": "code",
   "execution_count": 86,
   "metadata": {
    "collapsed": false
   },
   "outputs": [
    {
     "data": {
      "text/plain": [
       "array([[-10.6127543 ],\n",
       "       [ 36.04068599],\n",
       "       [-40.39841297],\n",
       "       [ 14.39475469]])"
      ]
     },
     "execution_count": 86,
     "metadata": {},
     "output_type": "execute_result"
    }
   ],
   "source": [
    "np.linalg.solve(A,b)"
   ]
  },
  {
   "cell_type": "markdown",
   "metadata": {},
   "source": [
    "We have verified above that our function gives the same output as the NumPy linalg solver."
   ]
  },
  {
   "cell_type": "markdown",
   "metadata": {},
   "source": [
    "## Problem 4: Householder Algorithm"
   ]
  },
  {
   "cell_type": "code",
   "execution_count": 89,
   "metadata": {
    "collapsed": false
   },
   "outputs": [
    {
     "data": {
      "text/plain": [
       "array([[ 1.,  0.],\n",
       "       [ 0.,  1.]])"
      ]
     },
     "execution_count": 89,
     "metadata": {},
     "output_type": "execute_result"
    }
   ],
   "source": [
    "np.eye(2)"
   ]
  },
  {
   "cell_type": "code",
   "execution_count": 90,
   "metadata": {
    "collapsed": true
   },
   "outputs": [],
   "source": [
    "def sign(x):\n",
    "    if x >= 0:\n",
    "        return 1\n",
    "    else:\n",
    "        return -1\n",
    "\n",
    "def householder(A):\n",
    "    m = np.shape(A)[0]\n",
    "    n = np.shape(A)[1]\n",
    "    R = np.copy(A)\n",
    "    Q = np.eye(m)\n",
    "    k = 0\n",
    "    while k <= n-1:\n",
    "        u = np.copy(R[k:,k])\n",
    "        u[0] = u[0]+sign(u[0])*np.linalg.norm(u)\n",
    "        u = u/np.linalg.norm(u)\n",
    "        uT = u.T\n",
    "        uTR = np.dot(uT, R[k:,k:])\n",
    "        R[k:,k:] += -2*np.outer(u, uTR)\n",
    "        uTQ = np.dot(uT, Q[k:,:])\n",
    "        Q[k:,:] += -2*np.outer(u, uTQ)\n",
    "        k+=1\n",
    "    return Q.T, R "
   ]
  },
  {
   "cell_type": "code",
   "execution_count": 91,
   "metadata": {
    "collapsed": false
   },
   "outputs": [
    {
     "name": "stdout",
     "output_type": "stream",
     "text": [
      "[[ 0.34872273  0.65997485  0.84679209]\n",
      " [ 0.68771354  0.95043757  0.82285859]\n",
      " [ 0.74026871  0.23086033  0.76699056]\n",
      " [ 0.67499975  0.37977192  0.21999355]\n",
      " [ 0.13315458  0.66809619  0.97365066]]\n",
      "[[-0.27432896 -0.40784396 -0.18845387 -0.82637912  0.19997404]\n",
      " [-0.54100215 -0.40416276  0.41116241  0.14111472 -0.59581981]\n",
      " [-0.58234561  0.46783594 -0.6286109   0.05512847 -0.20931391]\n",
      " [-0.53100062  0.23367358  0.4546406   0.11828551  0.66539121]\n",
      " [-0.10474843 -0.62995394 -0.43997826  0.52929536  0.34416763]]\n",
      "[[-1.27118449 -1.10132064 -1.34292653]\n",
      " [ 0.         -0.87742063 -0.88105047]\n",
      " [ 0.          0.         -0.63175848]\n",
      " [ 0.          0.          0.        ]\n",
      " [ 0.          0.          0.        ]]\n",
      "[[-0.27432896 -0.40784396 -0.18845387 -0.82637912  0.19997404]\n",
      " [-0.54100215 -0.40416276  0.41116241  0.14111472 -0.59581981]\n",
      " [-0.58234561  0.46783594 -0.6286109   0.05512847 -0.20931391]\n",
      " [-0.53100062  0.23367358  0.4546406   0.11828551  0.66539121]\n",
      " [-0.10474843 -0.62995394 -0.43997826  0.52929536  0.34416763]]\n",
      "[[ -1.27118449e+00  -1.10132064e+00  -1.34292653e+00]\n",
      " [  0.00000000e+00  -8.77420627e-01  -8.81050467e-01]\n",
      " [  0.00000000e+00  -1.11022302e-16  -6.31758480e-01]\n",
      " [  0.00000000e+00  -5.55111512e-17  -1.11022302e-16]\n",
      " [  0.00000000e+00   1.11022302e-16   1.11022302e-16]]\n"
     ]
    }
   ],
   "source": [
    "A = np.random.random((5, 3))\n",
    "Q,R = la.qr(A)\n",
    "print(A)\n",
    "print(Q)\n",
    "print(R)\n",
    "\n",
    "Q, R = householder(A)\n",
    "print(Q)\n",
    "print(R)"
   ]
  },
  {
   "cell_type": "markdown",
   "metadata": {},
   "source": [
    "Our Householder function works although there are some rounding errors for values close to 0."
   ]
  },
  {
   "cell_type": "markdown",
   "metadata": {},
   "source": [
    "## Problem 5: Hessenberg Transformation"
   ]
  },
  {
   "cell_type": "code",
   "execution_count": 95,
   "metadata": {
    "collapsed": false
   },
   "outputs": [],
   "source": [
    "def hessenberg(A):\n",
    "    m = np.shape(A)[0]\n",
    "    n = np.shape(A)[1]\n",
    "    H = np.copy(A)\n",
    "    Q = np.eye(m)\n",
    "    k = 0\n",
    "    while k <= n-3:\n",
    "        u = np.copy(H[k+1:,k])\n",
    "        u[0] = u[0]+sign(u[0])*np.linalg.norm(u)\n",
    "        u = u/np.linalg.norm(u)\n",
    "        uT = u.T\n",
    "        uTH = np.dot(uT, H[k+1:,k:])\n",
    "        H[k+1:,k:] += -2*np.outer(u, uTH)\n",
    "        \n",
    "        HU = np.dot(H[:,k+1:],u)\n",
    "        H[:,k+1:] += -2*np.outer(HU, uT)\n",
    "        \n",
    "        uTQ = np.dot(uT, Q[k+1:,:])\n",
    "        Q[k+1:,:] += -2*np.outer(uT, uTQ)\n",
    "        \n",
    "        k+=1\n",
    "    return H, Q.T"
   ]
  },
  {
   "cell_type": "code",
   "execution_count": 96,
   "metadata": {
    "collapsed": false
   },
   "outputs": [
    {
     "name": "stdout",
     "output_type": "stream",
     "text": [
      "[[ 0.78502425  0.65789695  0.29186986  0.49769646]\n",
      " [ 0.25256935  0.16518512  0.88297513  0.79713334]\n",
      " [ 0.42149956  0.99350072  0.57825134  0.2953125 ]\n",
      " [ 0.93412458  0.28521217  0.37040322  0.31259551]]\n",
      "[[ 0.78502425 -0.71445865 -0.47295845 -0.1777001 ]\n",
      " [-1.05548183  0.99033706  0.62581623 -0.19349675]\n",
      " [ 0.          0.99989765  0.33058907 -0.35314666]\n",
      " [ 0.          0.         -0.67336518 -0.26489414]]\n",
      "[[ 1.          0.          0.          0.        ]\n",
      " [ 0.         -0.23929294 -0.86072574 -0.44932182]\n",
      " [ 0.         -0.39934327 -0.33456634  0.85357502]\n",
      " [ 0.         -0.88502195  0.38368812 -0.26366566]]\n",
      "[[  7.85024252e-01  -7.14458650e-01  -4.72958450e-01  -1.77700099e-01]\n",
      " [ -1.05548183e+00   9.90337058e-01   6.25816225e-01  -1.93496753e-01]\n",
      " [ -5.55111512e-17   9.99897646e-01   3.30589066e-01  -3.53146663e-01]\n",
      " [ -1.11022302e-16   3.33066907e-16  -6.73365182e-01  -2.64894144e-01]]\n",
      "[[ 1.          0.          0.          0.        ]\n",
      " [ 0.         -0.23929294 -0.86072574 -0.44932182]\n",
      " [ 0.         -0.39934327 -0.33456634  0.85357502]\n",
      " [ 0.         -0.88502195  0.38368812 -0.26366566]]\n"
     ]
    }
   ],
   "source": [
    "A = np.random.random((4, 4))\n",
    "H, Q = la.hessenberg(A, calc_q=True)\n",
    "print(A)\n",
    "print(H)\n",
    "print(Q)\n",
    "\n",
    "H, Q = hessenberg(A)\n",
    "print(H)\n",
    "print(Q)"
   ]
  },
  {
   "cell_type": "markdown",
   "metadata": {},
   "source": [
    "Our output is the same with some rounding errors."
   ]
  }
 ],
 "metadata": {
  "anaconda-cloud": {},
  "kernelspec": {
   "display_name": "Python [default]",
   "language": "python",
   "name": "python3"
  },
  "language_info": {
   "codemirror_mode": {
    "name": "ipython",
    "version": 3
   },
   "file_extension": ".py",
   "mimetype": "text/x-python",
   "name": "python",
   "nbconvert_exporter": "python",
   "pygments_lexer": "ipython3",
   "version": "3.5.2"
  }
 },
 "nbformat": 4,
 "nbformat_minor": 1
}
