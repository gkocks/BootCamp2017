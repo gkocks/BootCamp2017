{
 "cells": [
  {
   "cell_type": "code",
   "execution_count": 3,
   "metadata": {
    "collapsed": false
   },
   "outputs": [
    {
     "name": "stdout",
     "output_type": "stream",
     "text": [
      "[[ 37  14 -32 -10]\n",
      " [-54  -7  58  65]]\n"
     ]
    }
   ],
   "source": [
    "#Problem 1\n",
    "\n",
    "import numpy as np\n",
    "\n",
    "def mult(A,B):\n",
    "    return np.dot(A,B)\n",
    "\n",
    "A = np.array([[3,-1,4],[1,5,-9]])\n",
    "B = np.array([[2,6,-5,3],[5,-8,9,7],[9,-3,-2,-3]])\n",
    "\n",
    "print(mult(A,B))\n"
   ]
  },
  {
   "cell_type": "code",
   "execution_count": 4,
   "metadata": {
    "collapsed": false
   },
   "outputs": [
    {
     "name": "stdout",
     "output_type": "stream",
     "text": [
      "[[0 0 0]\n",
      " [0 0 0]\n",
      " [0 0 0]]\n"
     ]
    }
   ],
   "source": [
    "#Problem 2\n",
    "\n",
    "def poly(A):\n",
    "    A_sq = np.dot(A,A)\n",
    "    A_cu = np.dot(A, A_sq)\n",
    "    return -1*A_cu + 9*A_sq - 15*A\n",
    "\n",
    "A = np.array([[3,1,4],[1,5,9],[-5,3,1]])\n",
    "print(poly(A))"
   ]
  },
  {
   "cell_type": "code",
   "execution_count": 14,
   "metadata": {
    "collapsed": false
   },
   "outputs": [
    {
     "name": "stdout",
     "output_type": "stream",
     "text": [
      "[[1 1 1 1 1 1 1]\n",
      " [0 1 1 1 1 1 1]\n",
      " [0 0 1 1 1 1 1]\n",
      " [0 0 0 1 1 1 1]\n",
      " [0 0 0 0 1 1 1]\n",
      " [0 0 0 0 0 1 1]\n",
      " [0 0 0 0 0 0 1]]\n",
      "[[-1  5  5  5  5  5  5]\n",
      " [-1 -1  5  5  5  5  5]\n",
      " [-1 -1 -1  5  5  5  5]\n",
      " [-1 -1 -1 -1  5  5  5]\n",
      " [-1 -1 -1 -1 -1  5  5]\n",
      " [-1 -1 -1 -1 -1 -1  5]\n",
      " [-1 -1 -1 -1 -1 -1 -1]]\n",
      "[[ -7  -8  -3   8  25  48  77]\n",
      " [ -6 -12 -12  -6   6  24  48]\n",
      " [ -5 -10 -15 -14  -7   6  25]\n",
      " [ -4  -8 -12 -16 -14  -6   8]\n",
      " [ -3  -6  -9 -12 -15 -12  -3]\n",
      " [ -2  -4  -6  -8 -10 -12  -8]\n",
      " [ -1  -2  -3  -4  -5  -6  -7]]\n"
     ]
    }
   ],
   "source": [
    "#Problem 3\n",
    "\n",
    "#Write a function that defines the functions as NumPy arrays.\n",
    "\n",
    "def createA(x):\n",
    "    I = np.ones((x,x), dtype=np.int)\n",
    "    return np.triu(I)\n",
    "\n",
    "def createB(x):\n",
    "    I = np.ones((x,x), dtype=np.int)\n",
    "    lower = -1*(np.tril(I))\n",
    "    upper = 5*(np.triu(I))\n",
    "    diagonal = np.diag(I)\n",
    "    diag_only = -5*(np.diag(diagonal))\n",
    "    return lower+upper+diag_only\n",
    "\n",
    "A = createA(7)\n",
    "B = createB(7)\n",
    "\n",
    "print(A)\n",
    "print(B)\n",
    "\n",
    "#Calculate the matrix product ABA. Change the data type fo the resulting matrix to np.int64.\n",
    "\n",
    "def multAB(A,B):\n",
    "    AB = np.dot(A,B)\n",
    "    ABA = np.dot(AB,A)\n",
    "    return ABA.astype(np.int64) \n",
    "\n",
    "print(multAB(A,B))"
   ]
  },
  {
   "cell_type": "code",
   "execution_count": 21,
   "metadata": {
    "collapsed": false
   },
   "outputs": [
    {
     "name": "stdout",
     "output_type": "stream",
     "text": [
      "[[1 3 0]]\n"
     ]
    }
   ],
   "source": [
    "#Problem 4\n",
    "\n",
    "def setzero(X):\n",
    "    Xstar = np.copy(X)\n",
    "    mask = Xstar < 0\n",
    "    Xstar[mask] = 0\n",
    "    return Xstar\n",
    "\n",
    "#test case:\n",
    "array = np.array([[1,3,-5]])\n",
    "print(setzero(array))"
   ]
  },
  {
   "cell_type": "code",
   "execution_count": 32,
   "metadata": {
    "collapsed": false
   },
   "outputs": [
    {
     "name": "stdout",
     "output_type": "stream",
     "text": [
      "[[ 0.  0.  0.  0.  1.  1.  0.  0.]\n",
      " [ 0.  0.  0.  2.  3.  0.  1.  0.]\n",
      " [ 0.  0.  0.  4.  5.  0.  0.  1.]\n",
      " [ 0.  2.  4.  0.  0.  0.  0.  0.]\n",
      " [ 1.  3.  5.  0.  0.  0.  0.  0.]\n",
      " [ 3.  0.  0.  0.  0. -2.  0.  0.]\n",
      " [ 3.  3.  0.  0.  0.  0. -2.  0.]\n",
      " [ 3.  3.  3.  0.  0.  0.  0. -2.]]\n"
     ]
    }
   ],
   "source": [
    "#Problem 5\n",
    "\n",
    "A = np.array([[0,2,4],[1,3,5]])\n",
    "Atrans = np.transpose(A)\n",
    "\n",
    "B1 = np.ones((3,3),dtype=np.int)\n",
    "B2 = B1*3\n",
    "B = np.tril(B2)\n",
    "\n",
    "C = np.diag([-2,-2,-2])\n",
    "\n",
    "zeros1 = np.zeros((3,3), dtype=np.int)\n",
    "zeros2 = np.zeros((5,2), dtype=np.int)\n",
    "zeros3 = np.zeros((2,3), dtype=np.int)\n",
    "\n",
    "I = np.eye(3)\n",
    "\n",
    "Col1 = np.vstack((zeros1,A,B))\n",
    "Col2 = np.vstack((Atrans, zeros2))\n",
    "Col3 = np.vstack((I, zeros3, C))\n",
    "\n",
    "print(np.hstack((Col1, Col2, Col3)))\n",
    "\n",
    "\n"
   ]
  },
  {
   "cell_type": "code",
   "execution_count": 48,
   "metadata": {
    "collapsed": false
   },
   "outputs": [
    {
     "name": "stdout",
     "output_type": "stream",
     "text": [
      "[[ 0.5        -0.16666667  0.66666667]\n",
      " [-0.33333333 -1.66666667  3.        ]]\n"
     ]
    }
   ],
   "source": [
    "#Problem 6\n",
    "\n",
    "def rowstoch(A):\n",
    "    sums = A.sum(axis=1).reshape((2,1))\n",
    "    return A/sums\n",
    "\n",
    "#Test case:\n",
    "A = np.array([[3,-1,4],[1,5,-9]])\n",
    "print(rowstoch(A))"
   ]
  },
  {
   "cell_type": "code",
   "execution_count": 79,
   "metadata": {
    "collapsed": false
   },
   "outputs": [
    {
     "name": "stdout",
     "output_type": "stream",
     "text": [
      "70600674\n"
     ]
    }
   ],
   "source": [
    "#Problem 7\n",
    "\n",
    "grid = np.load(\"grid.npy\")\n",
    "maxima = []\n",
    "\n",
    "horizontal_max = np.max(grid[:,:-3] * grid[:,1:-2] * grid[:,2:-1] * grid[:,3:])\n",
    "maxima.append(horizontal_max)\n",
    "\n",
    "vertical_max = np.max(grid[:-3,:]*grid[1:-2,:]*grid[2:-1,:]*grid[3:,:])\n",
    "maxima.append(vertical_max)\n",
    "\n",
    "leftdiag_max = np.max(grid[:-3,:-3]*grid[1:-2,1:-2]*grid[2:-1,2:-1]*grid[3:,3:])\n",
    "maxima.append(leftdiag_max)\n",
    "\n",
    "rightdiag_max = np.max(grid[:-3,3:]*grid[1:-2,2:-1]*grid[2:-1,1:-2]*grid[3:,:-3])\n",
    "maxima.append(rightdiag_max)\n",
    "\n",
    "print(max(maxima))"
   ]
  },
  {
   "cell_type": "code",
   "execution_count": null,
   "metadata": {
    "collapsed": true
   },
   "outputs": [],
   "source": []
  }
 ],
 "metadata": {
  "anaconda-cloud": {},
  "kernelspec": {
   "display_name": "Python [default]",
   "language": "python",
   "name": "python3"
  },
  "language_info": {
   "codemirror_mode": {
    "name": "ipython",
    "version": 3
   },
   "file_extension": ".py",
   "mimetype": "text/x-python",
   "name": "python",
   "nbconvert_exporter": "python",
   "pygments_lexer": "ipython3",
   "version": "3.5.2"
  }
 },
 "nbformat": 4,
 "nbformat_minor": 1
}
