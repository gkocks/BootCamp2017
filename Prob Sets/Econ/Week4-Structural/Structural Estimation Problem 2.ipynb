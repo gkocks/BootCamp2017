{
 "cells": [
  {
   "cell_type": "markdown",
   "metadata": {},
   "source": [
    "## Part A"
   ]
  },
  {
   "cell_type": "code",
   "execution_count": 1,
   "metadata": {
    "collapsed": true
   },
   "outputs": [],
   "source": [
    "# Import packages\n",
    "import numpy as np\n",
    "import numpy.linalg as lin\n",
    "import scipy.stats as sts\n",
    "import scipy.integrate as intgr\n",
    "import scipy.optimize as opt\n",
    "import matplotlib\n",
    "import matplotlib.pyplot as plt\n",
    "import pandas as pd\n",
    "import math"
   ]
  },
  {
   "cell_type": "code",
   "execution_count": 2,
   "metadata": {
    "collapsed": true
   },
   "outputs": [],
   "source": [
    "# Import data\n",
    "data = np.loadtxt('data/MacroSeries.txt', delimiter=',')\n",
    "c = data[:,0]\n",
    "k = data[:,1]\n",
    "w = data[:,2]\n",
    "r = data[:,3]"
   ]
  },
  {
   "cell_type": "code",
   "execution_count": 3,
   "metadata": {
    "collapsed": true
   },
   "outputs": [],
   "source": [
    "# Function for obtaining z values\n",
    "def get_z(w, k, alpha):\n",
    "    z = np.zeros(len(w))\n",
    "    z = np.log(w/((1-alpha)*(k**alpha)))\n",
    "    return z"
   ]
  },
  {
   "cell_type": "code",
   "execution_count": 4,
   "metadata": {
    "collapsed": true
   },
   "outputs": [],
   "source": [
    "def log_likelihood(w, k, alpha, rho, mu, sigma):\n",
    "    z = get_z(w,k,alpha)\n",
    "    mean = np.zeros(len(z))\n",
    "    for i in range(len(mean)):\n",
    "        if i == 0:\n",
    "            mean[i] = mu\n",
    "        else:\n",
    "            mean[i] = rho*z[i-1] + (1-rho)*mu\n",
    "    pdf_vals = (1/(sigma * np.sqrt(2 * np.pi))*np.exp( - (z - mean)**2 / (2 * sigma**2)))\n",
    "    pdf_vals[np.isclose(pdf_vals, np.zeros_like(pdf_vals), atol=1e-10)] = 1e-10\n",
    "    ln_pdf_vals = np.log(pdf_vals ,where=(pdf_vals > 0))\n",
    "    log_lik_val = np.sum(ln_pdf_vals)\n",
    "    return log_lik_val "
   ]
  },
  {
   "cell_type": "code",
   "execution_count": 5,
   "metadata": {
    "collapsed": true
   },
   "outputs": [],
   "source": [
    "def crit(params, *args):\n",
    "    alpha, rho, mu, sigma = params\n",
    "    w, k = args\n",
    "    log_lik_val = log_likelihood(w, k, alpha, rho, mu, sigma)\n",
    "    neg_log_lik_val = -log_lik_val\n",
    "    return neg_log_lik_val"
   ]
  },
  {
   "cell_type": "code",
   "execution_count": 6,
   "metadata": {
    "collapsed": false,
    "scrolled": true
   },
   "outputs": [
    {
     "name": "stdout",
     "output_type": "stream",
     "text": [
      "INITIAL CONDITIONS:\n",
      "alpha0 = 0.5\n",
      "rho0 = 0.75\n",
      "mu0 = 5.0\n",
      "sigma0 = 0.8\n",
      "\n",
      "RESULTS:\n",
      "alpha_MLE = 0.457517689185\n",
      "rho_MLE = 0.720488145371\n",
      "mu_MLE = 9.52270048591\n",
      "sigma_MLE = 0.0919962533974\n",
      "\n",
      "HESSIAN MATRIX\n",
      "[[  1.08233514e+01   1.36717960e+00  -1.46227736e+02  -4.44524777e-01]\n",
      " [  1.36717960e+00   2.62635031e+00  -1.72705944e+01  -6.69951387e-02]\n",
      " [ -1.46227736e+02  -1.72705944e+01   1.97618382e+03   6.00029132e+00]\n",
      " [ -4.44524777e-01  -6.69951387e-02   6.00029131e+00   1.84197963e-02]]\n",
      "\n",
      "      fun: -96.706908072584142\n",
      " hess_inv: <4x4 LbfgsInvHessProduct with dtype=float64>\n",
      "      jac: array([  1.07576170e-03,  -3.83693077e-05,   7.38964445e-05,\n",
      "         5.25801624e-04])\n",
      "  message: b'CONVERGENCE: REL_REDUCTION_OF_F_<=_FACTR*EPSMCH'\n",
      "     nfev: 295\n",
      "      nit: 35\n",
      "   status: 0\n",
      "  success: True\n",
      "        x: array([ 0.45751769,  0.72048815,  9.52270049,  0.09199625])\n"
     ]
    }
   ],
   "source": [
    "alpha0 = 0.50\n",
    "rho0 = 0.75\n",
    "mu0 = 5.0\n",
    "sigma0 = 0.80\n",
    "params_init = np.array([alpha0, rho0, mu0, sigma0])\n",
    "args = (w, k)\n",
    "\n",
    "results = opt.minimize(crit, params_init, args=(args), method='L-BFGS-B',\n",
    "                       bounds=((1e-10, 1-1e-10),(-1+1e-10, 1-1e-10),\n",
    "                               (1e-10, None), (1e-10, None)))\n",
    "\n",
    "alpha_mle, rho_mle, mu_mle, sigma_mle = results.x\n",
    "log_lik_mle = log_likelihood(w, k, alpha_mle, rho_mle, mu_mle, sigma_mle)\n",
    "alpha_MLE, rho_MLE, mu_MLE, sigma_MLE = results.x\n",
    "print(\"INITIAL CONDITIONS:\")\n",
    "print(\"alpha0 = \"+str(alpha0))\n",
    "print(\"rho0 = \"+str(rho0))\n",
    "print(\"mu0 = \"+str(mu0))\n",
    "print(\"sigma0 = \"+str(sigma0))\n",
    "print(\"\")\n",
    "print(\"RESULTS:\")\n",
    "print(\"alpha_MLE = \"+str(alpha_MLE))\n",
    "print(\"rho_MLE = \"+str(rho_MLE))\n",
    "print(\"mu_MLE = \"+str(mu_MLE))\n",
    "print(\"sigma_MLE = \"+str(sigma_MLE))\n",
    "alpha_MLE, rho_MLE, mu_MLE, sigma_MLE = results.x\n",
    "print(\"\")\n",
    "print(\"HESSIAN MATRIX\")\n",
    "print(results.hess_inv.todense())\n",
    "print(\"\")\n",
    "print(results)"
   ]
  },
  {
   "cell_type": "markdown",
   "metadata": {},
   "source": [
    "## Part B"
   ]
  },
  {
   "cell_type": "code",
   "execution_count": 7,
   "metadata": {
    "collapsed": false
   },
   "outputs": [
    {
     "name": "stdout",
     "output_type": "stream",
     "text": [
      "INITIAL CONDITIONS:\n",
      "alpha0 = 0.5\n",
      "rho0 = 0.75\n",
      "mu0 = 5.0\n",
      "sigma0 = 0.8\n",
      "\n",
      "RESULTS:\n",
      "alpha_MLE = 0.457466530472\n",
      "rho_MLE = 0.720534302462\n",
      "mu_MLE = 9.37119012628\n",
      "sigma_MLE = 0.0919956454084\n",
      "\n",
      "HESSIAN MATRIX\n",
      "[[  2.10331696e+01   7.04342389e+00  -3.76372080e+02  -2.15558358e+00]\n",
      " [  7.04342389e+00   1.90308420e+02  -1.61651620e+02   5.10899047e+00]\n",
      " [ -3.76372080e+02  -1.61651620e+02   6.74163780e+03   3.74659667e+01]\n",
      " [ -2.15558358e+00   5.10899047e+00   3.74659667e+01   4.02340718e-01]]\n",
      "\n",
      "      fun: -96.706907988593287\n",
      " hess_inv: <4x4 LbfgsInvHessProduct with dtype=float64>\n",
      "      jac: array([ 0.03154099,  0.00178062,  0.00169535, -0.01384564])\n",
      "  message: b'CONVERGENCE: REL_REDUCTION_OF_F_<=_FACTR*EPSMCH'\n",
      "     nfev: 260\n",
      "      nit: 27\n",
      "   status: 0\n",
      "  success: True\n",
      "        x: array([ 0.45746653,  0.7205343 ,  9.37119013,  0.09199565])\n"
     ]
    }
   ],
   "source": [
    "# Function for obtaining z values\n",
    "def get_z(r, k, alpha):\n",
    "    z = np.log(r/((alpha)*(k**(alpha-1))))\n",
    "    return z\n",
    "\n",
    "def log_likelihood(r, k, alpha, rho, mu, sigma):\n",
    "    z = get_z(r,k,alpha)\n",
    "    mean = np.zeros(len(z))\n",
    "    for i in range(len(mean)):\n",
    "        if i == 0:\n",
    "            mean[i] = mu\n",
    "        else:\n",
    "            mean[i] = rho*z[i-1] + (1-rho)*mu\n",
    "    pdf_vals = (1/(sigma * np.sqrt(2 * np.pi))*np.exp( - (z - mean)**2 / (2 * sigma**2)))\n",
    "    pdf_vals[np.isclose(pdf_vals, np.zeros_like(pdf_vals), atol=1e-10)] = 1e-10\n",
    "    ln_pdf_vals = np.log(pdf_vals ,where=(pdf_vals > 0))\n",
    "    log_lik_val = np.sum(ln_pdf_vals)\n",
    "    return log_lik_val \n",
    "\n",
    "def crit(params, *args):\n",
    "    alpha, rho, mu, sigma = params\n",
    "    r, k = args\n",
    "    log_lik_val = log_likelihood(r, k, alpha, rho, mu, sigma)\n",
    "    neg_log_lik_val = -log_lik_val\n",
    "    return neg_log_lik_val\n",
    "\n",
    "alpha0 = 0.50\n",
    "rho0 = 0.75\n",
    "mu0 = 5.0\n",
    "sigma0 = 0.80\n",
    "params_init = np.array([alpha0, rho0, mu0, sigma0])\n",
    "args = (r, k)\n",
    "\n",
    "results = opt.minimize(crit, params_init, args=(args), method='L-BFGS-B',\n",
    "                       bounds=((1e-10, 1-1e-10),(-1+1e-10, 1-1e-10),\n",
    "                               (1e-10, None), (1e-10, None)))\n",
    "\n",
    "alpha_mle, rho_mle, mu_mle, sigma_mle = results.x\n",
    "log_lik_mle = log_likelihood(r, k, alpha_mle, rho_mle, mu_mle, sigma_mle)\n",
    "alpha_MLE, rho_MLE, mu_MLE, sigma_MLE = results.x\n",
    "print(\"INITIAL CONDITIONS:\")\n",
    "print(\"alpha0 = \"+str(alpha0))\n",
    "print(\"rho0 = \"+str(rho0))\n",
    "print(\"mu0 = \"+str(mu0))\n",
    "print(\"sigma0 = \"+str(sigma0))\n",
    "print(\"\")\n",
    "print(\"RESULTS:\")\n",
    "print(\"alpha_MLE = \"+str(alpha_MLE))\n",
    "print(\"rho_MLE = \"+str(rho_MLE))\n",
    "print(\"mu_MLE = \"+str(mu_MLE))\n",
    "print(\"sigma_MLE = \"+str(sigma_MLE))\n",
    "alpha_MLE, rho_MLE, mu_MLE, sigma_MLE = results.x\n",
    "print(\"\")\n",
    "print(\"HESSIAN MATRIX\")\n",
    "print(results.hess_inv.todense())\n",
    "print(\"\")\n",
    "print(results)"
   ]
  },
  {
   "cell_type": "markdown",
   "metadata": {},
   "source": [
    "## Part C"
   ]
  },
  {
   "cell_type": "code",
   "execution_count": 8,
   "metadata": {
    "collapsed": false
   },
   "outputs": [
    {
     "data": {
      "text/plain": [
       "9.3705807571941744"
      ]
     },
     "execution_count": 8,
     "metadata": {},
     "output_type": "execute_result"
    }
   ],
   "source": [
    "r = 1\n",
    "k = 7500000\n",
    "z0 = 10\n",
    "z1 = np.log(r/(alpha_MLE*k**(alpha_MLE-1)))\n",
    "z1\n",
    "#This gives the z1 value that is equivalent to r=1."
   ]
  },
  {
   "cell_type": "code",
   "execution_count": 9,
   "metadata": {
    "collapsed": false
   },
   "outputs": [
    {
     "name": "stdout",
     "output_type": "stream",
     "text": [
      "0.999999592268\n"
     ]
    }
   ],
   "source": [
    "mu = rho_MLE*z0 + (1-rho_MLE)*mu_MLE\n",
    "p = 1-sts.norm.cdf(z1,loc=mu,scale=sigma_MLE)\n",
    "print(p)"
   ]
  },
  {
   "cell_type": "markdown",
   "metadata": {},
   "source": [
    "There is over a 99% probability that the interest rate will be greater than 1 in the next period."
   ]
  }
 ],
 "metadata": {
  "kernelspec": {
   "display_name": "Python [default]",
   "language": "python",
   "name": "python3"
  },
  "language_info": {
   "codemirror_mode": {
    "name": "ipython",
    "version": 3
   },
   "file_extension": ".py",
   "mimetype": "text/x-python",
   "name": "python",
   "nbconvert_exporter": "python",
   "pygments_lexer": "ipython3",
   "version": "3.5.2"
  }
 },
 "nbformat": 4,
 "nbformat_minor": 1
}
