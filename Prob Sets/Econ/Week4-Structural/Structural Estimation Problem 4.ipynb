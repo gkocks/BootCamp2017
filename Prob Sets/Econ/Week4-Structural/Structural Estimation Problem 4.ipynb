{
 "cells": [
  {
   "cell_type": "code",
   "execution_count": 132,
   "metadata": {
    "collapsed": true
   },
   "outputs": [],
   "source": [
    "# Import packages\n",
    "import numpy as np\n",
    "import numpy.linalg as lin\n",
    "import scipy.stats as sts\n",
    "import scipy.integrate as intgr\n",
    "import scipy.optimize as opt\n",
    "import matplotlib\n",
    "import matplotlib.pyplot as plt\n",
    "import pandas as pd\n",
    "import math"
   ]
  },
  {
   "cell_type": "code",
   "execution_count": 133,
   "metadata": {
    "collapsed": false
   },
   "outputs": [],
   "source": [
    "# Import data\n",
    "data = np.loadtxt('data/MacroSeries.txt', delimiter=',')\n",
    "c = data[:,0]\n",
    "k = data[:,1]\n",
    "w = data[:,2]\n",
    "r = data[:,3]"
   ]
  },
  {
   "cell_type": "code",
   "execution_count": 134,
   "metadata": {
    "collapsed": true
   },
   "outputs": [],
   "source": [
    "# All data moments equal 0 by construction\n",
    "data_moment1 = 0\n",
    "data_moment2 = 0\n",
    "data_moment3 = 0\n",
    "data_moment4 = 0"
   ]
  },
  {
   "cell_type": "code",
   "execution_count": 135,
   "metadata": {
    "collapsed": false
   },
   "outputs": [],
   "source": [
    "def model_moments(c,k,w,r,*params):\n",
    "    alpha, beta, rho, mu = params\n",
    "    #Use equation 4 to back out the values for z given parameters\n",
    "    z = np.zeros(len(data))\n",
    "    for i in range(len(z)):\n",
    "            z[i] = np.log(r[i]/(alpha*(k[i])**(alpha-1)))\n",
    "    moments_1 = []\n",
    "    moments_2 = []\n",
    "    moments_3 = []\n",
    "    moments_4 = []\n",
    "    for i in range(len(z)-1):\n",
    "        #Equation 6:\n",
    "        A = z[i+1] - rho*z[i] - (1-rho)*mu\n",
    "        moments_1.append(A)\n",
    "        \n",
    "        #Equation 7:\n",
    "        B = (z[i+1] - rho*z[i] -(1-rho)*z[i])*z[i]\n",
    "        moments_2.append(B)\n",
    "        \n",
    "        #Equation 8:\n",
    "        C = (beta*alpha*np.exp(z[i+1])*(k[i+1]**(alpha-1)))*(c[i]/c[i+1]) - 1\n",
    "        moments_3.append(C)\n",
    "        \n",
    "        #Equation 9:\n",
    "        D = ((beta*alpha*np.exp(z[i+1])*(k[i+1]**(alpha-1)))*(c[i]/c[i+1]) - 1)*w[i]\n",
    "        moments_4.append(D)\n",
    "    \n",
    "    moment_1 = sum(moments_1)/len(moments_1)\n",
    "    moment_2 = sum(moments_2)/len(moments_2)\n",
    "    moment_3 = sum(moments_3)/len(moments_3)\n",
    "    moment_4 = sum(moments_4)/len(moments_4)\n",
    "    return moment_1, moment_2, moment_3, moment_4"
   ]
  },
  {
   "cell_type": "code",
   "execution_count": 136,
   "metadata": {
    "collapsed": true
   },
   "outputs": [],
   "source": [
    "def err_vec(c, k, w, r, *params):\n",
    "    alpha, beta, rho, mu = params\n",
    "    moms_data = np.array([ data_moment1, data_moment2, data_moment3, data_moment4])\n",
    "    moment_1, moment_2, moment_3, moment_4 = model_moments(c,k,w,r, alpha, beta, rho, mu)\n",
    "    moms_model = np.array([moment_1, moment_2, moment_3, moment_4])\n",
    "    err_vec = moms_model - moms_data\n",
    "    return err_vec"
   ]
  },
  {
   "cell_type": "code",
   "execution_count": 137,
   "metadata": {
    "collapsed": true
   },
   "outputs": [],
   "source": [
    "def criterion(params, *args):\n",
    "    alpha, beta, rho, mu = params\n",
    "    c, k, w, r, W = args\n",
    "    err = err_vec(c, k, w, r, alpha, beta, rho, mu)\n",
    "    crit_val = np.dot(np.dot(err.T,W),err)\n",
    "    return crit_val"
   ]
  },
  {
   "cell_type": "code",
   "execution_count": 141,
   "metadata": {
    "collapsed": false
   },
   "outputs": [
    {
     "name": "stdout",
     "output_type": "stream",
     "text": [
      "      fun: 0.002797063678308983\n",
      " hess_inv: <4x4 LbfgsInvHessProduct with dtype=float64>\n",
      "      jac: array([  5.63359078e-02,   2.65498019e+03,  -5.29134028e-06,\n",
      "         2.60890732e-03])\n",
      "  message: b'CONVERGENCE: REL_REDUCTION_OF_F_<=_FACTR*EPSMCH'\n",
      "     nfev: 205\n",
      "      nit: 22\n",
      "   status: 0\n",
      "  success: True\n",
      "        x: array([  9.41422436e-01,   9.89999995e-01,   1.81288054e-04,\n",
      "         9.99817402e-01])\n",
      "0.94142243623\n",
      "0.989999995012\n",
      "0.000181288053965\n",
      "0.999817401592\n",
      "0.00279706367831\n"
     ]
    }
   ],
   "source": [
    "#  Parameters initial conditions\n",
    "params_init = np.array( [0.25 ,0.75, 0, 1] )\n",
    "\n",
    "#GMM Matrix\n",
    "W_I = np.eye(4)\n",
    "# all required components\n",
    "GMM_args = (c, k, w, r, W_I)\n",
    "# define params bounds\n",
    "param_bounds = ( (1e-10, 1-1e-10), (1e-10, 1-1e-10) , \\\n",
    "                 (-1+1e-10, 1-1e-10), (1e-10, None) )\n",
    "\n",
    "# optimize\n",
    "results_GMM = opt.minimize(criterion, params_init, args=(c,k,w,r,W_I), \\\n",
    "                           bounds = param_bounds, method = 'L-BFGS-B') \n",
    "\n",
    "\n",
    "# print out the results\n",
    "alpha_GMM, beta_GMM, rho_GMM, mu_GMM = results_GMM.x\n",
    "print(results_GMM)\n",
    "print(alpha_GMM)\n",
    "print(beta_GMM)\n",
    "print(rho_GMM)\n",
    "print(mu_GMM)\n",
    "print(results_GMM.fun)"
   ]
  },
  {
   "cell_type": "code",
   "execution_count": null,
   "metadata": {
    "collapsed": true
   },
   "outputs": [],
   "source": []
  }
 ],
 "metadata": {
  "kernelspec": {
   "display_name": "Python [default]",
   "language": "python",
   "name": "python3"
  },
  "language_info": {
   "codemirror_mode": {
    "name": "ipython",
    "version": 3
   },
   "file_extension": ".py",
   "mimetype": "text/x-python",
   "name": "python",
   "nbconvert_exporter": "python",
   "pygments_lexer": "ipython3",
   "version": "3.5.2"
  }
 },
 "nbformat": 4,
 "nbformat_minor": 1
}
