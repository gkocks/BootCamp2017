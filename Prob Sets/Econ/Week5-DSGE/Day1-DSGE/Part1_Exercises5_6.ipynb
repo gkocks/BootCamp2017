{
 "cells": [
  {
   "cell_type": "markdown",
   "metadata": {},
   "source": [
    "## Exercise 5"
   ]
  },
  {
   "cell_type": "code",
   "execution_count": 1,
   "metadata": {
    "collapsed": false
   },
   "outputs": [],
   "source": [
    "#Parameter values\n",
    "\n",
    "gamma = 2.5\n",
    "beta = 0.98\n",
    "alpha = 0.40\n",
    "delta = 0.10\n",
    "tau = 0.05"
   ]
  },
  {
   "cell_type": "code",
   "execution_count": 2,
   "metadata": {
    "collapsed": true
   },
   "outputs": [],
   "source": [
    "# Vector of difference equations\n",
    "import numpy as np\n",
    "from scipy.linalg import norm\n",
    "\n",
    "def diff(variables, params):\n",
    "    c, r, k, T = variables \n",
    "    gamma, beta, alpha, delta, tau = params\n",
    "    euler1 = c-(1*tau)*(r-delta)*k+T\n",
    "    euler2 = beta*c**(-gamma)*((r-delta)*(1-tau)+1) - c**(-gamma)\n",
    "    euler3 = alpha*(k**(alpha-1))-r\n",
    "    euler4 = tau*(r-delta)*k-T\n",
    "    vector = np.array([euler1, euler2, euler3, euler4])\n",
    "    val = norm(vector)\n",
    "    return val "
   ]
  },
  {
   "cell_type": "code",
   "execution_count": 3,
   "metadata": {
    "collapsed": true
   },
   "outputs": [],
   "source": [
    "c0 = 0.5\n",
    "r0 = 0.5\n",
    "k0 = 0.5\n",
    "T0 = 0.5"
   ]
  },
  {
   "cell_type": "code",
   "execution_count": 4,
   "metadata": {
    "collapsed": false
   },
   "outputs": [
    {
     "name": "stdout",
     "output_type": "stream",
     "text": [
      "Steady state consumption: 0.00812694429488\n",
      "Steady state interest rate: 0.121482272385\n",
      "Steady state capital: 7.20738731592\n",
      "Steady state T: 1.00032965503e-08\n"
     ]
    }
   ],
   "source": [
    "import scipy.optimize as opt\n",
    "\n",
    "vector0 = np.array([c0, r0, k0, T0])\n",
    "params = [gamma, beta, alpha, delta, tau]\n",
    "bounds = ((1e-8, None), (1e-8, None), (1e-8, None), (1e-8, None))\n",
    "sol = opt.minimize(diff, vector0, args = params, method = 'L-BFGS-B',bounds = bounds)\n",
    "c_opt, r_opt, k_opt, T_opt = sol.x\n",
    "print(\"Steady state consumption: \" + str(c_opt))\n",
    "print(\"Steady state interest rate: \" + str(r_opt))\n",
    "print(\"Steady state capital: \" + str(k_opt))\n",
    "print(\"Steady state T: \" + str(T_opt))"
   ]
  },
  {
   "cell_type": "code",
   "execution_count": 5,
   "metadata": {
    "collapsed": false
   },
   "outputs": [
    {
     "name": "stdout",
     "output_type": "stream",
     "text": [
      "Investment: 0.720738731592\n",
      "Output: 2.20349030716\n"
     ]
    }
   ],
   "source": [
    "investment = delta*k_opt\n",
    "output = k_opt**alpha\n",
    "\n",
    "print(\"Investment: \" + str(investment))\n",
    "print(\"Output: \" + str(output))"
   ]
  },
  {
   "cell_type": "markdown",
   "metadata": {},
   "source": [
    "## Exercise 6"
   ]
  },
  {
   "cell_type": "code",
   "execution_count": 6,
   "metadata": {
    "collapsed": true
   },
   "outputs": [],
   "source": [
    "# Parameter values\n",
    "\n",
    "gamma = 2.5\n",
    "xi = 1.5\n",
    "beta = 0.98\n",
    "alpha = 0.40\n",
    "a = 0.5\n",
    "delta = 0.10\n",
    "tau = 0.05\n",
    "z_bar = 0"
   ]
  },
  {
   "cell_type": "code",
   "execution_count": 7,
   "metadata": {
    "collapsed": true
   },
   "outputs": [],
   "source": [
    "def diff2(variables, params):\n",
    "    c, w, ell, r, k, T = variables\n",
    "    gamma, xi, beta, alpha, a, delta, tau, z_bar = params\n",
    "    euler1 = c - (1 - tau) * (w * ell + (r - delta) * k) - T\n",
    "    euler2 = beta*c**(-gamma)*((r-delta)*(1-tau)+1) - c**(-gamma) \n",
    "    euler3 = a*((1-ell)**(-xi))-(c**(-gamma))*w*(1-tau)\n",
    "    euler4 = ((ell * np.exp(z_bar))**(1-alpha))*alpha*(k**(alpha-1))-r\n",
    "    euler5 = w - (1-alpha)*(k**alpha)*ell**(-alpha)*np.exp(z_bar * (1 - alpha))\n",
    "    euler6 = tau*(w*ell+(r-delta)*k)-T\n",
    "   \n",
    "    vector = np.array([euler1, euler2, euler3, euler4, euler5, euler6])\n",
    "    val = norm(vector)\n",
    "    return val\n",
    " "
   ]
  },
  {
   "cell_type": "code",
   "execution_count": 8,
   "metadata": {
    "collapsed": true
   },
   "outputs": [],
   "source": [
    "c0 = 0.5\n",
    "w0 = 1.5\n",
    "ell0 = 0.5\n",
    "r0 = 0.5\n",
    "k0 = 4.0\n",
    "T0 = 1.0"
   ]
  },
  {
   "cell_type": "code",
   "execution_count": 9,
   "metadata": {
    "collapsed": false
   },
   "outputs": [
    {
     "name": "stdout",
     "output_type": "stream",
     "text": [
      "Steady state consumption: 0.860702395355\n",
      "Steady state wage: 1.32795039768\n",
      "Steady state labor: 0.579791604726\n",
      "Steady state interest rate: 0.121482432065\n",
      "Steady state capital: 4.22521179588\n",
      "Steady state T: 0.0430351563556\n",
      "Investment: 0.422521179588\n",
      "Output: 1.28322421684\n"
     ]
    }
   ],
   "source": [
    "import scipy.optimize as opt\n",
    "\n",
    "vector0 = np.array([c0, w0, ell0, r0, k0, T0])\n",
    "params = [gamma, xi, beta, alpha, a, delta, tau, z_bar]\n",
    "bounds = ((1e-8, None), (1e-8, None), (1e-8, .995), (1e-8, None), (1e-8, None), (1e-8, None))\n",
    "sol = opt.minimize(diff2, vector0, args = params, method = 'L-BFGS-B',bounds = bounds)\n",
    "c_opt, w_opt, ell_opt, r_opt, k_opt, T_opt = sol.x\n",
    "print(\"Steady state consumption: \" + str(c_opt))\n",
    "print(\"Steady state wage: \" + str(w_opt))\n",
    "print(\"Steady state labor: \" + str(ell_opt))\n",
    "print(\"Steady state interest rate: \" + str(r_opt))\n",
    "print(\"Steady state capital: \" + str(k_opt))\n",
    "print(\"Steady state T: \" + str(T_opt))\n",
    "\n",
    "investment = delta*k_opt\n",
    "output = k_opt**alpha * (ell_opt * np.exp(z_bar)) ** (1 - alpha)\n",
    "\n",
    "print(\"Investment: \" + str(investment))\n",
    "print(\"Output: \" + str(output))\n",
    "\n"
   ]
  }
 ],
 "metadata": {
  "anaconda-cloud": {},
  "kernelspec": {
   "display_name": "Python [default]",
   "language": "python",
   "name": "python3"
  },
  "language_info": {
   "codemirror_mode": {
    "name": "ipython",
    "version": 3
   },
   "file_extension": ".py",
   "mimetype": "text/x-python",
   "name": "python",
   "nbconvert_exporter": "python",
   "pygments_lexer": "ipython3",
   "version": "3.5.2"
  }
 },
 "nbformat": 4,
 "nbformat_minor": 1
}
