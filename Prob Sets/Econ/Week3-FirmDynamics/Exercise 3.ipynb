{
 "cells": [
  {
   "cell_type": "markdown",
   "metadata": {
    "collapsed": true
   },
   "source": [
    "## Exercise 3: Coleman Policy Function Iteration"
   ]
  },
  {
   "cell_type": "code",
   "execution_count": 1,
   "metadata": {
    "collapsed": true
   },
   "outputs": [],
   "source": [
    "# Import packages\n",
    "import numpy as np\n",
    "import matplotlib.pyplot as plt\n",
    "import time\n",
    "\n",
    "# to print plots inline\n",
    "%matplotlib inline"
   ]
  },
  {
   "cell_type": "code",
   "execution_count": 2,
   "metadata": {
    "collapsed": true
   },
   "outputs": [],
   "source": [
    "# Specify parameters\n",
    "alpha_k = 0.29715\n",
    "alpha_l = 0.65\n",
    "delta = 0.154\n",
    "psi = 1.08\n",
    "w = 0.7\n",
    "r = 0.04\n",
    "sigma_eps = 0.213\n",
    "mu = 0.0\n",
    "rho = 0.7605\n",
    "sizez = 9\n",
    "\n",
    "betafirm = (1 / (1 + r))"
   ]
  },
  {
   "cell_type": "code",
   "execution_count": 3,
   "metadata": {
    "collapsed": false
   },
   "outputs": [
    {
     "name": "stdout",
     "output_type": "stream",
     "text": [
      "Grid points =  [-0.55913938 -0.32004072 -0.19425291 -0.09290094  0.          0.09290094\n",
      "  0.19425291  0.32004072  0.55913938]\n"
     ]
    }
   ],
   "source": [
    "# Use Adda-Cooper(2003) method to set up the endpoints for the z values\n",
    "\n",
    "# import packages\n",
    "from scipy.stats import norm\n",
    "\n",
    "# Compute cut-off values\n",
    "N = 9  # number of grid points (will have one more cut-off point than this)\n",
    "sigma_z = sigma_eps / ((1 - rho ** 2) ** (1 / 2))\n",
    "z_cutoffs = (sigma_z * norm.ppf(np.arange(N + 1) / N)) + mu\n",
    "z_grid_init = ((N * sigma_z * (norm.pdf((z_cutoffs[:-1] - mu) / sigma_z)\n",
    "                              - norm.pdf((z_cutoffs[1:] - mu) / sigma_z)))\n",
    "              + mu)\n",
    "print('Grid points = ', z_grid_init)"
   ]
  },
  {
   "cell_type": "code",
   "execution_count": 4,
   "metadata": {
    "collapsed": true
   },
   "outputs": [],
   "source": [
    "import math\n",
    "\n",
    "\"\"\"This section of the code establishes an initial grid which will be a NumPy array\n",
    "in this case of size 7x57x2.\"\"\"\n",
    "\n",
    "# Set up density grid for k and z\n",
    "dens = 1\n",
    "# put in bounds here for the capital stock space\n",
    "grid = []\n",
    "\n",
    "kstar = ((((1 / betafirm - 1 + delta) * ((w / alpha_l) ** (alpha_l / (1 - alpha_l)))) / (alpha_k * (1 ** (1 / (1 - alpha_l))))) **((1 - alpha_l) / (alpha_k + alpha_l - 1)))\n",
    "kbar = 2*kstar\n",
    "lb_k = 0.001\n",
    "ub_k = kbar\n",
    "krat = np.log(lb_k / ub_k)\n",
    "numb = np.ceil(krat / np.log(1 - delta))\n",
    "K = np.zeros(int(numb * dens))\n",
    "# we'll create in a way where we pin down the upper bound - since\n",
    "# the distance will be small near the lower bound, we'll miss that by little\n",
    "for j in range(int(numb * dens)):\n",
    "    K[j] = ub_k * (1 - delta) ** (j / dens)\n",
    "kvec = K[::-1]\n",
    "sizek = kvec.shape[0]\n",
    "\n",
    "grid_star = []\n",
    "lnz_grid = z_grid_init\n",
    "z_grid = np.exp(z_grid_init)\n",
    "for i in range(len(z_grid)):\n",
    "    for j in range(sizek):\n",
    "        grid_star.append(np.array([z_grid[i],kvec[j]]))\n",
    "grid = np.array(grid_star)\n",
    "grid = grid.reshape(N, sizek, 2)\n",
    "m,n,o = np.shape(grid)"
   ]
  },
  {
   "cell_type": "code",
   "execution_count": 5,
   "metadata": {
    "collapsed": false
   },
   "outputs": [
    {
     "name": "stdout",
     "output_type": "stream",
     "text": [
      "Transition matrix =  [[  5.34646999e-01   2.33099908e-01   1.19241334e-01   6.16948412e-02\n",
      "    3.06368282e-02   1.38694209e-02   5.27307457e-03   1.39972319e-03\n",
      "    1.37871226e-04]\n",
      " [  2.33099908e-01   2.53066831e-01   1.95990939e-01   1.38221479e-01\n",
      "    8.98690322e-02   5.26608516e-02   2.62024217e-02   9.48881413e-03\n",
      "    1.39972319e-03]\n",
      " [  1.19241334e-01   1.95990939e-01   1.96744233e-01   1.70765394e-01\n",
      "    1.33994761e-01   9.44950201e-02   5.72928238e-02   2.62024217e-02\n",
      "    5.27307457e-03]\n",
      " [  6.16948412e-02   1.38221479e-01   1.70765394e-01   1.75481409e-01\n",
      "    1.60693238e-01   1.32118347e-01   9.44950201e-02   5.26608516e-02\n",
      "    1.38694209e-02]\n",
      " [  3.06368282e-02   8.98690322e-02   1.33994761e-01   1.60693238e-01\n",
      "    1.69612281e-01   1.60693238e-01   1.33994761e-01   8.98690322e-02\n",
      "    3.06368282e-02]\n",
      " [  1.38694209e-02   5.26608516e-02   9.44950201e-02   1.32118347e-01\n",
      "    1.60693238e-01   1.75481409e-01   1.70765394e-01   1.38221479e-01\n",
      "    6.16948412e-02]\n",
      " [  5.27307457e-03   2.62024217e-02   5.72928238e-02   9.44950201e-02\n",
      "    1.33994761e-01   1.70765394e-01   1.96744233e-01   1.95990939e-01\n",
      "    1.19241334e-01]\n",
      " [  1.39972319e-03   9.48881413e-03   2.62024217e-02   5.26608516e-02\n",
      "    8.98690322e-02   1.38221479e-01   1.95990939e-01   2.53066831e-01\n",
      "    2.33099908e-01]\n",
      " [  1.37871226e-04   1.39972319e-03   5.27307457e-03   1.38694209e-02\n",
      "    3.06368282e-02   6.16948412e-02   1.19241334e-01   2.33099908e-01\n",
      "    5.34646999e-01]]\n"
     ]
    }
   ],
   "source": [
    "# Determine the transition matrix pi between each z\n",
    "\n",
    "# import packages\n",
    "import scipy.integrate as integrate\n",
    "\n",
    "# define function that we will integrate\n",
    "def integrand(x, sigma_z, sigma_eps, rho, mu, z_j, z_jp1):\n",
    "    val = (np.exp((-1 * ((x - mu) ** 2)) / (2 * (sigma_z ** 2)))\n",
    "            * (norm.cdf((z_jp1 - (mu * (1 - rho)) - (rho * x)) / sigma_eps)\n",
    "               - norm.cdf((z_j - (mu * (1 - rho)) - (rho * x)) / sigma_eps)))\n",
    "    \n",
    "    return val\n",
    "\n",
    "# compute transition probabilities\n",
    "pi = np.empty((N, N))\n",
    "for i in range(N):\n",
    "    for j in range(N):\n",
    "        results = integrate.quad(integrand, z_cutoffs[i], z_cutoffs[i + 1],\n",
    "                                 args = (sigma_z, sigma_eps, rho, mu,\n",
    "                                         z_cutoffs[j], z_cutoffs[j + 1]))\n",
    "        pi[i,j] = (N / np.sqrt(2 * np.pi * sigma_z ** 2)) * results[0]\n",
    "        \n",
    "print('Transition matrix = ', pi)"
   ]
  },
  {
   "cell_type": "code",
   "execution_count": 7,
   "metadata": {
    "collapsed": true
   },
   "outputs": [],
   "source": [
    "# Set up Coleman equation\n",
    "\n",
    "def c1(k1, k, psi=1.08, delta=0.154):\n",
    "    return (psi*(k1-(1-delta)*k)/k)\n",
    "\n",
    "def c2(k1, k, psi=1.08, delta=0.154):\n",
    "    return (psi / 2) * ((-2)*(k1 - (1 - delta)*k)*(1 - delta)*k - (k1 - (1 - delta)*k)**2)/(k**2)\n",
    "    \n",
    "def pi2(k, z, alphal=0.65, alphak=0.297, w=0.7):\n",
    "    return alpha_k * (alpha_l/w) ** (alpha_l/(1 - alpha_l)) * z ** (1/(1 - alpha_l)) * k **((alpha_k - 1 + alpha_l)/(1 - alpha_l))"
   ]
  },
  {
   "cell_type": "code",
   "execution_count": 11,
   "metadata": {
    "collapsed": false,
    "scrolled": true
   },
   "outputs": [],
   "source": [
    "# Iterate the Euler equation\n",
    "PFtol = 1e-6\n",
    "PFdist = 7.0\n",
    "PFmaxiter = 3000\n",
    "Pinit = np.zeros((n,m))  # initial guess at policy function\n",
    "P = np.zeros((n,n,m))  # initialize Pmat matrix\n",
    "PFiter = 1\n",
    "start_time = time.clock()"
   ]
  },
  {
   "cell_type": "code",
   "execution_count": 13,
   "metadata": {
    "collapsed": false
   },
   "outputs": [
    {
     "ename": "NameError",
     "evalue": "name 'Pnew' is not defined",
     "output_type": "error",
     "traceback": [
      "\u001b[0;31m---------------------------------------------------------------------------\u001b[0m",
      "\u001b[0;31mNameError\u001b[0m                                 Traceback (most recent call last)",
      "\u001b[0;32m<ipython-input-13-f9e4c76254b8>\u001b[0m in \u001b[0;36m<module>\u001b[0;34m()\u001b[0m\n\u001b[1;32m      6\u001b[0m     \u001b[0;31m#Pnew = coleman_operator(Pold)\u001b[0m\u001b[0;34m\u001b[0m\u001b[0;34m\u001b[0m\u001b[0m\n\u001b[1;32m      7\u001b[0m     \u001b[0;34m\"\"\"Couldn't figure out exactly what would go in this part\"\"\"\u001b[0m\u001b[0;34m\u001b[0m\u001b[0m\n\u001b[0;32m----> 8\u001b[0;31m     \u001b[0merror\u001b[0m \u001b[0;34m=\u001b[0m \u001b[0mnp\u001b[0m\u001b[0;34m.\u001b[0m\u001b[0mlinalg\u001b[0m\u001b[0;34m.\u001b[0m\u001b[0mnorm\u001b[0m\u001b[0;34m(\u001b[0m\u001b[0mPold\u001b[0m \u001b[0;34m-\u001b[0m \u001b[0mPnew\u001b[0m\u001b[0;34m)\u001b[0m\u001b[0;34m\u001b[0m\u001b[0m\n\u001b[0m\u001b[1;32m      9\u001b[0m     \u001b[0mPold\u001b[0m \u001b[0;34m=\u001b[0m \u001b[0mPnew\u001b[0m\u001b[0;34m\u001b[0m\u001b[0m\n\u001b[1;32m     10\u001b[0m     \u001b[0mPFiter\u001b[0m \u001b[0;34m+=\u001b[0m \u001b[0;36m1\u001b[0m\u001b[0;34m\u001b[0m\u001b[0m\n",
      "\u001b[0;31mNameError\u001b[0m: name 'Pnew' is not defined"
     ]
    }
   ],
   "source": [
    "import numpy.linalg\n",
    "from scipy.optimize import brentq\n",
    "\n",
    "Pold = Pinit\n",
    "while PFdist > PFtol and PFiter < PFmaxiter:\n",
    "    #Pnew = coleman_operator(Pold)\n",
    "    \"\"\"Couldn't figure out exactly what would go in this part\"\"\"\n",
    "    error = np.linalg.norm(Pold - Pnew)\n",
    "    Pold = Pnew\n",
    "    PFiter += 1\n",
    "if PFiter < PFmaxiter:\n",
    "    print('Policy function converged after this many iterations:', egiter)\n",
    "else:\n",
    "    print('Policy function did not converge')\n",
    "PFI_time = time.clock() - start_time\n",
    "print('PFI took ', PFI_time, ' seconds to solve')"
   ]
  },
  {
   "cell_type": "code",
   "execution_count": null,
   "metadata": {
    "collapsed": true
   },
   "outputs": [],
   "source": []
  }
 ],
 "metadata": {
  "kernelspec": {
   "display_name": "Python [default]",
   "language": "python",
   "name": "python3"
  },
  "language_info": {
   "codemirror_mode": {
    "name": "ipython",
    "version": 3
   },
   "file_extension": ".py",
   "mimetype": "text/x-python",
   "name": "python",
   "nbconvert_exporter": "python",
   "pygments_lexer": "ipython3",
   "version": "3.5.2"
  }
 },
 "nbformat": 4,
 "nbformat_minor": 1
}
