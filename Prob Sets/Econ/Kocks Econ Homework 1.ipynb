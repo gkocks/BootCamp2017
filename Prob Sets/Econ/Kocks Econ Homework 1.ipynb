{
 "cells": [
  {
   "cell_type": "markdown",
   "metadata": {},
   "source": [
    "## Problem 1\n",
    "\n",
    "The steady state equilibrium is characterized by the following values:\n",
    "$$ b_2 = 0.0193127352392 $$\n",
    "$$ b_3 = 0.058411590879 $$\n",
    "$$ r = 2.43303025356 $$\n",
    "$$ w = 0.201725293596 $$\n",
    "$$ c_1 = 0.182412558356 $$\n",
    "$$ c_2 = 0.209614907072 $$\n",
    "$$ c_3 = 0.240873817365 $$"
   ]
  },
  {
   "cell_type": "code",
   "execution_count": 4,
   "metadata": {
    "collapsed": false
   },
   "outputs": [
    {
     "name": "stdout",
     "output_type": "stream",
     "text": [
      "b2 value: 0.0193127352392\n",
      "b3 value: 0.058411590879\n",
      "r value: 2.43303025356\n",
      "w value: 0.201725293596\n",
      "c1 value: 0.182412558356\n",
      "c2 value: 0.209614907072\n",
      "c3 value: 0.240873817365\n"
     ]
    }
   ],
   "source": [
    "# Problem 1\n",
    "# Solve for the steady-state in 3-per OG model\n",
    "\n",
    "# Import libraries\n",
    "import numpy as np\n",
    "import scipy.optimize as opt\n",
    "\n",
    "# Household paramters\n",
    "yrs_live = 60\n",
    "S=3\n",
    "nvec = np.array([1.0,1.0,0.2]) #labor schedule for the households\n",
    "L = nvec.sum() #total household labor\n",
    "beta_annual = 0.96\n",
    "beta = beta_annual**(yrs_live/S)\n",
    "sigma = 3.0 #coefficient fo relative risk aversion in the utility function\n",
    "\n",
    "# Firms' parameters\n",
    "alpha = 0.35\n",
    "A = 1.0\n",
    "delta_annual = 0.05 #depreciation rate\n",
    "delta = 1-(1-delta_annual)**(yrs_live/ S)\n",
    "\n",
    "#stuff will take as an input guesses for b2 and b3, and arguments beta and sigma\n",
    "\n",
    "def get_r(K, L, *params):\n",
    "    A, alpha, delta = params\n",
    "    r = alpha*A*((L/K)**(1-alpha)) - delta\n",
    "    return r\n",
    "\n",
    "def get_w(K, L, *params):\n",
    "    A, alpha, delta = params\n",
    "    w = (1-alpha)*A*((K/L)**(alpha))\n",
    "    return w\n",
    "\n",
    "def find_errors(b2b3vals, *args):\n",
    "    beta, sigma, nvec, alpha, A, delta = args\n",
    "    r = get_r(b2b3vals.sum(), L, A, alpha, delta)\n",
    "    w = get_w(b2b3vals.sum(), L, A, alpha, delta)\n",
    "    MUc1 = (w - b2b3vals[0])**(-sigma)\n",
    "    MUc2 = ((1+r)*(b2b3vals[0]) + w - b2b3vals[1])**(-sigma)\n",
    "    MUc3 = ((1+r)*(b2b3vals[1]) + 0.2*w)**(-sigma)\n",
    "    error1 = MUc1 - beta*(1+r)*MUc2\n",
    "    error2 = MUc2 - beta*(1+r)*MUc3\n",
    "    errors = np.array([error1, error2])\n",
    "    return errors\n",
    "\n",
    "#Make initial guess for b2 and b3, and then solve\n",
    "b2_0 = 0.1\n",
    "b3_0 = 0.1\n",
    "b_0 = np.array([b2_0, b3_0])\n",
    "b_args = (beta, sigma, nvec, alpha, A, delta)\n",
    "b_result = opt.root(find_errors, b_0, args=(b_args)) \n",
    "b2_ss = b_result.x[0]\n",
    "b3_ss = b_result.x[1]\n",
    "w_ss = get_w(b2_ss + b3_ss, L, A, alpha, delta)\n",
    "r_ss = get_r(b2_ss + b3_ss, L, A, alpha, delta)\n",
    "c1_ss = w_ss - b2_ss\n",
    "c2_ss = (1+r_ss)*b2_ss + w_ss - b3_ss\n",
    "c3_ss = (1+r_ss)*b3_ss + 0.2*w_ss\n",
    "print(\"b2 value: \" + str(b2_ss))\n",
    "print(\"b3 value: \" + str(b3_ss))\n",
    "print(\"r value: \" + str(r_ss))\n",
    "print(\"w value: \" + str(w_ss))\n",
    "print(\"c1 value: \" + str(c1_ss))\n",
    "print(\"c2 value: \" + str(c2_ss))\n",
    "print(\"c3 value: \" + str(c3_ss))"
   ]
  },
  {
   "cell_type": "markdown",
   "metadata": {},
   "source": [
    "## Problem 2\n",
    "\n",
    "When $\\beta$ increases, we obtain the following new steady state values:\n",
    "\n",
    "$$b_2 = 0.028176959268$$\n",
    "$$b_3 = 0.0768655662396$$\n",
    "$$r = 1.88635999915$$\n",
    "$$w = 0.22415231191$$\n",
    "$$c_1 = 0.195975352642$$\n",
    "$$c_2 = 0.228615593799$$\n",
    "$$c_3 = 0.266692158088$$\n",
    "\n",
    "We note that compared to Problem 1, all of the values increase except for r. The intuition is that as households get more patient, they will save more money because they place more value on future savings. As a result, the total amount of capital K increases so wages increase while the interest rate r decreases. Due to the increase in wages and total capital, consumption in each period also increases.\n"
   ]
  },
  {
   "cell_type": "code",
   "execution_count": 5,
   "metadata": {
    "collapsed": false
   },
   "outputs": [
    {
     "name": "stdout",
     "output_type": "stream",
     "text": [
      "b2 value: 0.028176959268\n",
      "b3 value: 0.0768655662396\n",
      "r value: 1.88635999915\n",
      "w value: 0.22415231191\n",
      "c1 value: 0.195975352642\n",
      "c2 value: 0.228615593799\n",
      "c3 value: 0.266692158088\n"
     ]
    }
   ],
   "source": [
    "# Problem 2\n",
    "\n",
    "beta = 0.55\n",
    "b2_0 = 0.1\n",
    "b3_0 = 0.1\n",
    "b_0 = np.array([b2_0, b3_0])\n",
    "b_args = (beta, sigma, nvec, alpha, A, delta)\n",
    "b_result = opt.root(find_errors, b_0, args=(b_args)) \n",
    "b2_ss = b_result.x[0]\n",
    "b3_ss = b_result.x[1]\n",
    "w_ss = get_w(b2_ss + b3_ss, L, A, alpha, delta)\n",
    "r_ss = get_r(b2_ss + b3_ss, L, A, alpha, delta)\n",
    "c1_ss = w_ss - b2_ss\n",
    "c2_ss = (1+r_ss)*b2_ss + w_ss - b3_ss\n",
    "c3_ss = (1+r_ss)*b3_ss + 0.2*w_ss\n",
    "print(\"b2 value: \" + str(b2_ss))\n",
    "print(\"b3 value: \" + str(b3_ss))\n",
    "print(\"r value: \" + str(r_ss))\n",
    "print(\"w value: \" + str(w_ss))\n",
    "print(\"c1 value: \" + str(c1_ss))\n",
    "print(\"c2 value: \" + str(c2_ss))\n",
    "print(\"c3 value: \" + str(c3_ss))"
   ]
  },
  {
   "cell_type": "markdown",
   "metadata": {},
   "source": [
    "## Problem 3\n",
    "\n",
    "The transition path to the steady state equilibrium is shown in the output below. The output for both calculated paths of K are printed to illustrate that the solution did indeed converge."
   ]
  },
  {
   "cell_type": "code",
   "execution_count": 6,
   "metadata": {
    "collapsed": false
   },
   "outputs": [
    {
     "name": "stdout",
     "output_type": "stream",
     "text": [
      "[ 0.07970294  0.07537332  0.07773082  0.07716542  0.07761587  0.07757059\n",
      "  0.0776684   0.07767696  0.07770178  0.07770869  0.07771592  0.07771898\n",
      "  0.07772129  0.07772246  0.07772324  0.07772367  0.07772394  0.0777241\n",
      "  0.07772419  0.07772425  0.07772428  0.0777243   0.07772432  0.07772432\n",
      "  0.07772433  0.07772433  0.07772433  0.07772433  0.07772433  0.07772433\n",
      "  0.07772433  0.07772433  0.07772433  0.07772433  0.07772433  0.07772433\n",
      "  0.07772433  0.07772433  0.07772433  0.07772433]\n",
      "[ 0.07970294  0.07537332  0.07773082  0.07716542  0.07761587  0.07757059\n",
      "  0.0776684   0.07767696  0.07770178  0.07770869  0.07771592  0.07771898\n",
      "  0.07772129  0.07772246  0.07772324  0.07772367  0.07772394  0.0777241\n",
      "  0.07772419  0.07772425  0.07772428  0.0777243   0.07772431  0.07772432\n",
      "  0.07772432  0.07772433  0.07772433  0.07772433  0.07772433  0.07772433\n",
      "  0.07772433  0.07772433  0.07772433  0.07772433  0.07772433  0.07772433\n",
      "  0.07772433  0.07772433  0.07772433  0.07772433]\n"
     ]
    }
   ],
   "source": [
    "# Solves for the time path in the three period model, given a previous steady state output\n",
    "\n",
    "# Import libraries\n",
    "import numpy as np\n",
    "import scipy.optimize as opt\n",
    "from matplotlib import pyplot as plt\n",
    "%matplotlib inline\n",
    "\n",
    "# Household paramters\n",
    "yrs_live = 60\n",
    "S=3\n",
    "nvec = np.array([1.0,1.0,0.2]) #labor schedule for the households\n",
    "L = nvec.sum() #total household labor\n",
    "beta_annual = 0.96\n",
    "beta = beta_annual**(yrs_live/S)\n",
    "sigma = 3.0 #coefficient fo relative risk aversion in the utility function\n",
    "\n",
    "# Firm parameters\n",
    "alpha = 0.35\n",
    "A = 1.0\n",
    "delta_annual = 0.05 #depreciation rate\n",
    "delta = 1-(1-delta_annual)**(yrs_live/ S)\n",
    "\n",
    "# TPI paramters\n",
    "TPI_tol = 1e-9\n",
    "maxiter_TPI = 300\n",
    "T = 40\n",
    "xi = 0.8 #timepath updating parameter\n",
    "\n",
    "# Parameters from the steady state\n",
    "b2_ss = 0.01931274\n",
    "b3_ss = 0.05841159\n",
    "r_ss = 2.43303025356\n",
    "w_ss = 0.201725293596\n",
    "\n",
    "# Initialize the saving values in period 1\n",
    "b2_1 = 0.8*b2_ss\n",
    "b3_1 = 1.1*b3_ss\n",
    "\n",
    "# Guess a new time path through time T\n",
    "Kpath_init = np.linspace(b2_1 + b3_1, b2_ss + b3_ss, T)\n",
    "\n",
    "# Define the distance function between two paths\n",
    "def distance(Kpath_init, Kpath_new):\n",
    "    return sum((100*((Kpath_init - Kpath_new)/Kpath_new))**2)\n",
    "\n",
    "# Functions to get r and w given labor, capital, and parameters\n",
    "def get_r(K, L, *params):\n",
    "    A, alpha, delta = params\n",
    "    r = alpha*A*((L/(K))**(1-alpha)) - delta\n",
    "    return r\n",
    "\n",
    "def get_w(K, L, *params):\n",
    "    A, alpha, delta = params\n",
    "    w = (1-alpha)*A*(((K)/L)**(alpha))\n",
    "    return w\n",
    "\n",
    "# Function of Euler errors to reduce, takes in a complete vector of r and w and paramters\n",
    "def euler_errors(b2b3vals, *args):\n",
    "    b2, b3 = b2b3vals\n",
    "    r[i], r[i+1], w[i-1], w[i], w[i+1], sigma, beta, nvec = args\n",
    "    MUc1 = (w[i-1] - b2)**(-sigma)\n",
    "    MUc2 = ((1+r[i])*(b2) + w[i] - b3)**(-sigma)\n",
    "    MUc3 = ((1+r[i+1])*(b3) + 0.2*w[i+1])**(-sigma)\n",
    "    error1 = MUc1 - beta*(1+r[i])*MUc2\n",
    "    error2 = MUc2 - beta*(1+r[i+1])*MUc3\n",
    "    return np.array([error1, error2])\n",
    "\n",
    "## Solve for the first new path given the rates from initial guess\n",
    "# Initialize the r and w vectors for the time path guess\n",
    "r = np.append(get_r(Kpath_init, L, A, alpha, delta), [r_ss]*4)\n",
    "w = np.append(get_w(Kpath_init, L, A, alpha, delta), [w_ss]*4)\n",
    "\n",
    "# Initialize the b2 and b3 vectors\n",
    "b2 = np.zeros_like(Kpath_init)\n",
    "b3 = np.zeros_like(Kpath_init)\n",
    "b2[0] = b2_1\n",
    "b3[0] = b3_1\n",
    "b3[1] = (1/(1+(beta*(1+r[1]))**(1/-sigma)*(1+r[1])))*((1+r[0])*b2_1 + w[0] - (beta*(1+r[1]))**(1/-sigma)*0.2*w[1])\n",
    "\n",
    "# Fill in the rest of the b2 and b3 (and K) vector\n",
    "i = 1\n",
    "while i <= T-1:\n",
    "    sol = opt.root(euler_errors, np.array([0.1,0.1]), args = (r[i], r[i+1], w[i-1], w[i], w[i+1], sigma, beta, nvec))\n",
    "    if i <= T-2:\n",
    "        b2[i], b3[i+1] = sol['x']\n",
    "    else:\n",
    "        b2[i] = sol.x[0]\n",
    "    i = i+1\n",
    "Kpath_new = (b2+b3)\n",
    "\n",
    "# Function to fill in the b2 and b3 values for all future paths\n",
    "def get_K(b2_1, b3_1, *args):\n",
    "    r, w, sigma, beta, nvec = args\n",
    "    b2 = np.zeros_like(Kpath_init)\n",
    "    b3 = np.zeros_like(Kpath_init)\n",
    "    b2[0] = b2_1\n",
    "    b3[0] = b3_1\n",
    "    b3[1] = (1/(1+(beta*(1+r[1]))**(1/-sigma)*(1+r[1])))*((1+r[0])*b2_1 + w[0] - (beta*(1+r[1]))**(1/-sigma)*0.2*w[1])\n",
    "    i = 1\n",
    "    while i <= T-1:\n",
    "        sol = opt.root(euler_errors, np.array([0.1,0.1]), args = (r[i], r[i+1], w[i-1], w[i], w[i+1], sigma, beta, nvec))\n",
    "        if i <= T-2:\n",
    "            b2[i], b3[i+1] = sol['x']\n",
    "        else:\n",
    "            b2[i] = sol.x[0]\n",
    "        i = i+1\n",
    "    K_sum = (b2+b3)\n",
    "    return K_sum\n",
    "    \n",
    "# Iterate through until convergence\n",
    "iter_TPI = 0\n",
    "dist_TPI = 1\n",
    "while (iter_TPI < maxiter_TPI) and (dist_TPI > TPI_tol):\n",
    "    iter_TPI += 1\n",
    "    Kpath_init = xi*Kpath_new+(1-xi)*Kpath_init\n",
    "    r = np.append(get_r(Kpath_init, L, A, alpha, delta), [r_ss]*3)\n",
    "    w = np.append(get_w(Kpath_init, L, A, alpha, delta), [w_ss]*3)\n",
    "    b_args = (r, w, sigma, beta, nvec)\n",
    "    Kpath_new = get_K(b2_1, b3_1, r, w, sigma, beta, nvec)\n",
    "    dist_TPI = distance(Kpath_init, Kpath_new)\n",
    "\n",
    "# Print output\n",
    "print(Kpath_init)\n",
    "print(Kpath_new)"
   ]
  },
  {
   "cell_type": "markdown",
   "metadata": {},
   "source": [
    "## Problem 4\n",
    "\n",
    "The equilibrium time path of K is plotted below. Based on the output from Problem 3, it takes just 6 periods for the total capital stock to remain within 0.0001 of the steady state so $T = 6.$\n"
   ]
  },
  {
   "cell_type": "code",
   "execution_count": 7,
   "metadata": {
    "collapsed": false
   },
   "outputs": [
    {
     "data": {
      "image/png": "[encoded data removed]",
      "text/plain": [
       "<matplotlib.figure.Figure at 0x104775518>"
      ]
     },
     "metadata": {},
     "output_type": "display_data"
    }
   ],
   "source": [
    "plt.plot(Kpath_init)\n",
    "plt.show()"
   ]
  }
 ],
 "metadata": {
  "anaconda-cloud": {},
  "kernelspec": {
   "display_name": "Python [default]",
   "language": "python",
   "name": "python3"
  },
  "language_info": {
   "codemirror_mode": {
    "name": "ipython",
    "version": 3
   },
   "file_extension": ".py",
   "mimetype": "text/x-python",
   "name": "python",
   "nbconvert_exporter": "python",
   "pygments_lexer": "ipython3",
   "version": "3.5.2"
  }
 },
 "nbformat": 4,
 "nbformat_minor": 1
}
